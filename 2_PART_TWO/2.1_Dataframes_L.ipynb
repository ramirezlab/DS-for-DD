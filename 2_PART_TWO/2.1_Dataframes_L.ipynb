{
 "cells": [
  {
   "cell_type": "markdown",
   "id": "4697f74c",
   "metadata": {
    "pycharm": {
     "name": "#%% md\n"
    }
   },
   "source": [
    "# Introducción a la manipulación de Estructuras de Datos avanzadas con Pandas\n",
    "\n",
    "## Librería Numpy\n",
    "\n",
    "*Numpy* es una librería de Python fundamental para la computación científica. Entre sus características esta la creación de arreglos multidimensionales, que se pueden tratar como vectores, y posee una gran rapidez a la hora de hacer operaciones matemáticas sobre los mismos. Lo cual la hace una herramienta necesaria para proyectos con requerimientos de alta computación y cálculo matemático y es por eso de su gran popularidad en el ecosistema científico.\n",
    "\n",
    "### Operaciones matemáticas con Arreglos de Numpy\n",
    "\n",
    "Para empezar, importaremos la librería y creamos nuestro primer Arreglo de Numpy, luego lo afectaremos con algunas operaciones matemáticas básicas. Es común renombrar la librería `Numpy` como `np`.\n"
   ]
  },
  {
   "cell_type": "code",
   "execution_count": 1,
   "id": "af82d819",
   "metadata": {
    "pycharm": {
     "name": "#%%\n"
    }
   },
   "outputs": [
    {
     "data": {
      "text/plain": [
       "array([ 0,  1,  2,  3,  4,  5,  6,  7,  8,  9, 10])"
      ]
     },
     "execution_count": 1,
     "metadata": {},
     "output_type": "execute_result"
    }
   ],
   "source": [
    "# Se importa la librería numpy. Por lo general el acrónimo para la librería numpy es np.\n",
    "import numpy as np\n",
    "\n",
    "# Se crea un arreglo de números\n",
    "nums = np.array([0, 1, 2, 3, 4, 5, 6, 7, 8, 9, 10])\n",
    "\n",
    "# Se imprime el valor del arreglo\n",
    "nums"
   ]
  },
  {
   "cell_type": "markdown",
   "id": "97c4e2c7",
   "metadata": {
    "pycharm": {
     "name": "#%% md\n"
    }
   },
   "source": [
    "**Vale la pena mencionar que un arreglo de Numpy se parece mucho a una lista nativa de Python.** La diferencia principal radica en el tipo de operaciones de orden matemático que se pueden realizar sobre un arreglo de la librería y las listas nativas de Python.\n",
    "\n",
    "Tomemos como punto de partida la suma de dos arreglos de `Numpy`, comparado con una suma de listas de Python:"
   ]
  },
  {
   "cell_type": "code",
   "execution_count": 2,
   "id": "f07b4c21",
   "metadata": {
    "pycharm": {
     "name": "#%%\n"
    }
   },
   "outputs": [
    {
     "data": {
      "text/plain": [
       "array([ 0,  2,  4,  6,  8, 10, 12, 14, 16, 18, 20])"
      ]
     },
     "execution_count": 2,
     "metadata": {},
     "output_type": "execute_result"
    }
   ],
   "source": [
    "# Se imprime la suma del arreglo de Numpy\n",
    "nums + nums"
   ]
  },
  {
   "cell_type": "markdown",
   "id": "60595dbe",
   "metadata": {
    "pycharm": {
     "name": "#%% md\n"
    }
   },
   "source": [
    "Se mantuvo el tamaño de la lista, pero sus elementos fueron sumados, y es aquí el potencial y la simpleza de los arreglos de `Numpy`, y porque de su basto uso en el mundo científico.\n",
    "\n",
    "Miremos un código equivalente con una lista nativa de Python:"
   ]
  },
  {
   "cell_type": "code",
   "execution_count": 3,
   "id": "272f70d4",
   "metadata": {
    "pycharm": {
     "name": "#%%\n"
    }
   },
   "outputs": [
    {
     "data": {
      "text/plain": [
       "[0, 2, 4, 6, 8, 10, 12, 14, 16, 18, 20]"
      ]
     },
     "execution_count": 3,
     "metadata": {},
     "output_type": "execute_result"
    }
   ],
   "source": [
    "# Lista por compresion con adicion de sus elementos\n",
    "lista_nums = [0, 1, 2, 3, 4, 5, 6, 7, 8, 9, 10]\n",
    "[x + x for x in lista_nums]"
   ]
  },
  {
   "cell_type": "markdown",
   "id": "7124e3af",
   "metadata": {
    "pycharm": {
     "name": "#%% md\n"
    }
   },
   "source": [
    "No creemos que sea complicado estar creando *listas de comprensión* de Python pero claramente se reducirían las líneas de código en nuestro programa usando los arreglos de **Numpy**. Y sería imposible lograrlo si necesitamos sumar dos listas.\n",
    "\n",
    "Los *arreglos de Numpy* también pueden realizar las demás operaciones siguiendo el mismo modelo:\n",
    "\n",
    "```markdown\n",
    "<arreglo_numpy> <operacion (+, -, *, /)> <arreglo_numpy>\n",
    "```\n",
    "\n",
    "*Tengamos cuidado con la división si hay ceros en el denominador, recordemos que esta característica matemática no es valida*\n",
    "\n",
    "Pero no hemos visto el potencial de los arreglos de Numpy, Que pasaría si intentamos sumar dos arreglos de tamaño $n$, hablemos de Arreglos de $10,000,000$ de elementos?"
   ]
  },
  {
   "cell_type": "code",
   "execution_count": 4,
   "id": "198d8fc3",
   "metadata": {
    "pycharm": {
     "name": "#%%\n"
    }
   },
   "outputs": [
    {
     "name": "stdout",
     "output_type": "stream",
     "text": [
      "[ 0  2 28 ... 16 20 56]\n"
     ]
    }
   ],
   "source": [
    "#Se importa la libreria de Numpy\n",
    "import numpy as np\n",
    "\n",
    "#Se crean dos arreglos con 1 millon de elementos, en donde cada elemento tiene un valor entre 0-10\n",
    "x = np.random.choice(10, 1000000)\n",
    "y = np.random.choice(10, 1000000)\n",
    "\n",
    "print(x * y)"
   ]
  },
  {
   "cell_type": "markdown",
   "id": "eaac0abd",
   "metadata": {
    "pycharm": {
     "name": "#%% md\n"
    }
   },
   "source": [
    "¿Lo vieron? La multiplicación tomo tan solo milisegundos. Y es ahí donde hace que usar la librería valga la pena. "
   ]
  },
  {
   "cell_type": "markdown",
   "id": "0a9e3ca6",
   "metadata": {
    "pycharm": {
     "name": "#%% md\n"
    }
   },
   "source": [
    "##  Introducción a las Series de Panda\n",
    "\n",
    "Antes de hablar de Dataframes es importante que hagamos un pequeño repaso sobre las **Series**, al mismo tiempo empezaremos a interactuar con la librería de Pandas.\n",
    "\n",
    "**Pandas** es una librería de Python (Al igual que Numpy), que se caracteriza por proveer estructuras de datos que son de rápido procesamiento, que son fáciles de expresar para hacer que el trabajo con datos relacionales sea muy fácil e intuitivo. [Mas info aqui](https://pandas.pydata.org/docs/getting_started/overview.html)\n",
    "\n",
    "¿Qué es una Serie? ¿Cómo se crea una Serie? Veamos las respuestas a estas preguntas:\n",
    "\n",
    "Las Series son un tipo de estructura unidimensional *(1D)* muy parecida a un arreglo, con la característica de que podemos etiquetar en cierta medida sus datos a través de índices.\n",
    "\n",
    "Para demostrar el potencial de las series vamos a interactuar con el archivo `iris.data` (./data/iris.data) que proviene del repositorio de datos de la [UCI Machine Learning](https://archive-beta.ics.uci.edu/)."
   ]
  },
  {
   "cell_type": "code",
   "execution_count": 2,
   "id": "20ebe0f3",
   "metadata": {
    "pycharm": {
     "name": "#%%\n"
    }
   },
   "outputs": [
    {
     "data": {
      "text/plain": [
       "0         [5.1, 3.5, 1.4, 0.2, Iris-setosa]\n",
       "1         [4.9, 3.0, 1.4, 0.2, Iris-setosa]\n",
       "2         [4.7, 3.2, 1.3, 0.2, Iris-setosa]\n",
       "3         [4.6, 3.1, 1.5, 0.2, Iris-setosa]\n",
       "4         [5.0, 3.6, 1.4, 0.2, Iris-setosa]\n",
       "                       ...                 \n",
       "147    [6.5, 3.0, 5.2, 2.0, Iris-virginica]\n",
       "148    [6.2, 3.4, 5.4, 2.3, Iris-virginica]\n",
       "149    [5.9, 3.0, 5.1, 1.8, Iris-virginica]\n",
       "150                                      []\n",
       "151                                      []\n",
       "Length: 152, dtype: object"
      ]
     },
     "execution_count": 2,
     "metadata": {},
     "output_type": "execute_result"
    }
   ],
   "source": [
    "import pandas as pd\n",
    "\n",
    "# Se importa el archivo iris.data y se lee su contenido\n",
    "with open(\"data/iris.data\", \"r\") as DATA:\n",
    "    iris_dataset = DATA.read()\n",
    "\n",
    "# Se limpia el dataset y se construye la serie a partir del arreglo generado por el `split` \n",
    "iris_dataset = iris_dataset.split('\\n')\n",
    "iris_dataset = [i.split(',') for i in iris_dataset]\n",
    "\n",
    "# Se crear la serie con los datos del dataset\n",
    "serie_de_iris = pd.Series(iris_dataset)\n",
    "\n",
    "# Se imprime la serie\n",
    "serie_de_iris"
   ]
  },
  {
   "cell_type": "markdown",
   "id": "8fe775c9",
   "metadata": {
    "pycharm": {
     "name": "#%% md\n"
    }
   },
   "source": [
    "*De ahora en adelante siempre que queramos visualizar el contenido de una serie y/o un Dataframe usaremos el método `head`.*\n",
    "\n",
    "Y así de fácil se construye una estructura de datos básica pero potente que nos da la libreria de *Pandas*. Exploremos lo que tenemos:\n",
    "\n",
    "- La serie es como un arreglo de 1 dimension, (Ya lo sabiamos) y claramente es lo que vemos, se imprimieron aproximadamente $152$ filas cada una con una lista de 5 elementos, más la columna de enumeración.\n",
    "\n",
    "- Las *series* al igual que las listas y arreglos de *Numpy* poseen métodos y su manipulación también se logra por medio de indexación.\n"
   ]
  },
  {
   "cell_type": "markdown",
   "id": "91247e5f",
   "metadata": {},
   "source": [
    "*De ahora en adelante siempre que queramos visualizar el contenido de una serie y/o un Dataframe usaremos el método `head`.*"
   ]
  },
  {
   "cell_type": "code",
   "execution_count": 3,
   "id": "c689dc56",
   "metadata": {},
   "outputs": [
    {
     "data": {
      "text/plain": [
       "0    [5.1, 3.5, 1.4, 0.2, Iris-setosa]\n",
       "1    [4.9, 3.0, 1.4, 0.2, Iris-setosa]\n",
       "2    [4.7, 3.2, 1.3, 0.2, Iris-setosa]\n",
       "3    [4.6, 3.1, 1.5, 0.2, Iris-setosa]\n",
       "4    [5.0, 3.6, 1.4, 0.2, Iris-setosa]\n",
       "dtype: object"
      ]
     },
     "execution_count": 3,
     "metadata": {},
     "output_type": "execute_result"
    }
   ],
   "source": [
    "# Ejemplo 1: Se imprime la serie utilizando el método head.\n",
    "serie_de_iris.head()"
   ]
  },
  {
   "cell_type": "markdown",
   "id": "f9abc07d",
   "metadata": {},
   "source": [
    "Otro método útil es el método `index`, devuelve la lista de índices y su rango."
   ]
  },
  {
   "cell_type": "code",
   "execution_count": 8,
   "id": "85d36d26",
   "metadata": {
    "pycharm": {
     "name": "#%%\n"
    }
   },
   "outputs": [
    {
     "data": {
      "text/plain": [
       "RangeIndex(start=0, stop=152, step=1)"
      ]
     },
     "execution_count": 8,
     "metadata": {},
     "output_type": "execute_result"
    }
   ],
   "source": [
    "# Se imprimen los indexes del arreglo, en este caso hace referencia a la primera columna\n",
    "serie_de_iris.index"
   ]
  },
  {
   "cell_type": "markdown",
   "id": "ef428e03",
   "metadata": {
    "pycharm": {
     "name": "#%% md\n"
    }
   },
   "source": [
    "Que tal si quisieramos acceder a los elementos de la posicion $120$ en adelante:"
   ]
  },
  {
   "cell_type": "code",
   "execution_count": 9,
   "id": "8d588ebf",
   "metadata": {
    "pycharm": {
     "name": "#%%\n"
    }
   },
   "outputs": [
    {
     "data": {
      "text/plain": [
       "120    [6.9, 3.2, 5.7, 2.3, Iris-virginica]\n",
       "121    [5.6, 2.8, 4.9, 2.0, Iris-virginica]\n",
       "122    [7.7, 2.8, 6.7, 2.0, Iris-virginica]\n",
       "123    [6.3, 2.7, 4.9, 1.8, Iris-virginica]\n",
       "124    [6.7, 3.3, 5.7, 2.1, Iris-virginica]\n",
       "125    [7.2, 3.2, 6.0, 1.8, Iris-virginica]\n",
       "126    [6.2, 2.8, 4.8, 1.8, Iris-virginica]\n",
       "127    [6.1, 3.0, 4.9, 1.8, Iris-virginica]\n",
       "128    [6.4, 2.8, 5.6, 2.1, Iris-virginica]\n",
       "129    [7.2, 3.0, 5.8, 1.6, Iris-virginica]\n",
       "130    [7.4, 2.8, 6.1, 1.9, Iris-virginica]\n",
       "131    [7.9, 3.8, 6.4, 2.0, Iris-virginica]\n",
       "132    [6.4, 2.8, 5.6, 2.2, Iris-virginica]\n",
       "133    [6.3, 2.8, 5.1, 1.5, Iris-virginica]\n",
       "134    [6.1, 2.6, 5.6, 1.4, Iris-virginica]\n",
       "135    [7.7, 3.0, 6.1, 2.3, Iris-virginica]\n",
       "136    [6.3, 3.4, 5.6, 2.4, Iris-virginica]\n",
       "137    [6.4, 3.1, 5.5, 1.8, Iris-virginica]\n",
       "138    [6.0, 3.0, 4.8, 1.8, Iris-virginica]\n",
       "139    [6.9, 3.1, 5.4, 2.1, Iris-virginica]\n",
       "140    [6.7, 3.1, 5.6, 2.4, Iris-virginica]\n",
       "141    [6.9, 3.1, 5.1, 2.3, Iris-virginica]\n",
       "142    [5.8, 2.7, 5.1, 1.9, Iris-virginica]\n",
       "143    [6.8, 3.2, 5.9, 2.3, Iris-virginica]\n",
       "144    [6.7, 3.3, 5.7, 2.5, Iris-virginica]\n",
       "145    [6.7, 3.0, 5.2, 2.3, Iris-virginica]\n",
       "146    [6.3, 2.5, 5.0, 1.9, Iris-virginica]\n",
       "147    [6.5, 3.0, 5.2, 2.0, Iris-virginica]\n",
       "148    [6.2, 3.4, 5.4, 2.3, Iris-virginica]\n",
       "149    [5.9, 3.0, 5.1, 1.8, Iris-virginica]\n",
       "150                                      []\n",
       "151                                      []\n",
       "dtype: object"
      ]
     },
     "execution_count": 9,
     "metadata": {},
     "output_type": "execute_result"
    }
   ],
   "source": [
    "# Se imprimen los elementos desde la posicion 100 en adelante\n",
    "serie_de_iris[120:]"
   ]
  },
  {
   "cell_type": "markdown",
   "id": "06deb30e",
   "metadata": {},
   "source": [
    "Me gustaría que notaran algo, recordemos que una *Serie* es una arreglo de una dimensión *(1D)*, por esta razón cada fila contiene toda la información devuelta por el dataset original, representada en un arreglo nativo de *Python* para su manipulación.\n",
    "\n",
    "**técnicamente esto hace que sea difícil**, lo que conlleva a que desperdiciemos las funcionalidades nativas de una Serie, porque tendríamos que crear una serie por cada columna de datos, luego serie ineficiente.\n",
    "\n",
    "Veamos un ejemplo de cómo extraer los valores de la primera columna en cuestión:"
   ]
  },
  {
   "cell_type": "code",
   "execution_count": 4,
   "id": "92c99d42",
   "metadata": {},
   "outputs": [
    {
     "data": {
      "text/plain": [
       "0      5.1\n",
       "1      4.9\n",
       "2      4.7\n",
       "3      4.6\n",
       "4      5.0\n",
       "      ... \n",
       "147    6.5\n",
       "148    6.2\n",
       "149    5.9\n",
       "150    0.0\n",
       "151    0.0\n",
       "Length: 152, dtype: float64"
      ]
     },
     "execution_count": 4,
     "metadata": {},
     "output_type": "execute_result"
    }
   ],
   "source": [
    "import pandas as pd\n",
    "\n",
    "with open(\"data/iris.data\", \"r\") as DATA:\n",
    "    iris_dataset = DATA.read()\n",
    "\n",
    "# Se limpia el dataset y se construye la serie a partir del arreglo generado por el `split` \n",
    "iris_dataset = iris_dataset.split('\\n')\n",
    "\n",
    "# Se extrae del dataset la primera columna y se convierte sus datos a tipo float\n",
    "iris_dataset = [float(j[0]) if j[0] != '' else 0  for j in [i.split(',') for i in iris_dataset]]\n",
    "\n",
    "# Se crear la serie con los datos del dataset\n",
    "serie_de_iris = pd.Series(iris_dataset)\n",
    "\n",
    "# Se imprime la serie con la primera columna del dataset\n",
    "serie_de_iris"
   ]
  },
  {
   "cell_type": "markdown",
   "id": "1cd9e518",
   "metadata": {},
   "source": [
    "Y ahora si podemos encontrar algunas estadísticas como la media de todos los valores, y usaremos *Numpy* para esto:"
   ]
  },
  {
   "cell_type": "code",
   "execution_count": 5,
   "id": "8a4d182a",
   "metadata": {},
   "outputs": [
    {
     "name": "stdout",
     "output_type": "stream",
     "text": [
      "Tamaño promedio los datos:\n"
     ]
    },
    {
     "data": {
      "text/plain": [
       "5.766447368421052"
      ]
     },
     "execution_count": 5,
     "metadata": {},
     "output_type": "execute_result"
    }
   ],
   "source": [
    "import numpy as np\n",
    "\n",
    "# Se calcula la media de la serie a partir del metodo mean de numpy\n",
    "print('Tamaño promedio los datos:')\n",
    "np.mean(serie_de_iris)"
   ]
  },
  {
   "cell_type": "markdown",
   "id": "8143e447",
   "metadata": {
    "pycharm": {
     "name": "#%% md\n"
    }
   },
   "source": [
    "Debido a las limitaciones de las *Series (como lo vimos previamente)* tendremos que dar paso a una nueva estructura de datos, y es aquí en donde los *Dataframes* entran en juego. ¿Pero Qué tal si primero describimos las columnas que vienen de nuestro dataset?\n",
    "\n",
    "De acuerdo con la descripcion encontrada en la pagina\n",
    "sabemos que tiene la siguiente estructura:\n",
    "\n",
    "| No. |      Columna         |  Tipo de dato | Posibles Valores                                |\n",
    "|-----|:--------------------:|--------------:|:------------------------------------------------|\n",
    "| 1   |  longitud del sepalo | float/cm      | Positivos                                       |\n",
    "| 2   |    ancho del sepalo  |   float/cm    | Positivos                                       |\n",
    "| 3   |  longitud del petalo |    float/cm   | Positivos                                       |\n",
    "| 4   |   ancho del petalo   |    float/cm   | Positivos                                       |\n",
    "| 5   |    clase             | string/texto  | Iris Setosa, Iris Versicolour,  Iris Virginica  |\n",
    "\n",
    "Es momento de que modifiquemos la *Serie*, y la convirtamos en un *Dataframe* y usemos a nuestro favor todo su potencial."
   ]
  },
  {
   "cell_type": "markdown",
   "id": "57870dbb",
   "metadata": {
    "pycharm": {
     "name": "#%% md\n"
    }
   },
   "source": [
    "##  Introducción a los DataFrames\n",
    "\n",
    "Un *DataFrame* es un arreglo de $n$ dimensiones de datos estructurados que pueda almacenar datos de diferentes tipos. Si, es como una hoja de calculo o una tabla de una base de datos.\n",
    "\n",
    "Los DataFrame son más comunes que las Series *(Aparecen por todos los lados en la computación científica, en el análisis y visualización de datos y entre otros)*  y es por esta razón que serán objeto de estudio en esta práctica.\n",
    "\n",
    "Por lo General se puede crear un `DataFrame` desde diferentes fuentes de datos, pero en esta ocasión seguiremos usando el dataset de los [`iris`](./data/iris.data).\n"
   ]
  },
  {
   "cell_type": "code",
   "execution_count": 18,
   "id": "fbed6374",
   "metadata": {
    "pycharm": {
     "name": "#%%\n"
    }
   },
   "outputs": [
    {
     "data": {
      "text/html": [
       "<div>\n",
       "<style scoped>\n",
       "    .dataframe tbody tr th:only-of-type {\n",
       "        vertical-align: middle;\n",
       "    }\n",
       "\n",
       "    .dataframe tbody tr th {\n",
       "        vertical-align: top;\n",
       "    }\n",
       "\n",
       "    .dataframe thead th {\n",
       "        text-align: right;\n",
       "    }\n",
       "</style>\n",
       "<table border=\"1\" class=\"dataframe\">\n",
       "  <thead>\n",
       "    <tr style=\"text-align: right;\">\n",
       "      <th></th>\n",
       "      <th>long_sepalo</th>\n",
       "      <th>ancho_sepalo</th>\n",
       "      <th>long_petalo</th>\n",
       "      <th>ancho_petalo</th>\n",
       "      <th>clase</th>\n",
       "    </tr>\n",
       "  </thead>\n",
       "  <tbody>\n",
       "    <tr>\n",
       "      <th>0</th>\n",
       "      <td>5.1</td>\n",
       "      <td>3.5</td>\n",
       "      <td>1.4</td>\n",
       "      <td>0.2</td>\n",
       "      <td>Iris-setosa</td>\n",
       "    </tr>\n",
       "    <tr>\n",
       "      <th>1</th>\n",
       "      <td>4.9</td>\n",
       "      <td>3.0</td>\n",
       "      <td>1.4</td>\n",
       "      <td>0.2</td>\n",
       "      <td>Iris-setosa</td>\n",
       "    </tr>\n",
       "    <tr>\n",
       "      <th>2</th>\n",
       "      <td>4.7</td>\n",
       "      <td>3.2</td>\n",
       "      <td>1.3</td>\n",
       "      <td>0.2</td>\n",
       "      <td>Iris-setosa</td>\n",
       "    </tr>\n",
       "    <tr>\n",
       "      <th>3</th>\n",
       "      <td>4.6</td>\n",
       "      <td>3.1</td>\n",
       "      <td>1.5</td>\n",
       "      <td>0.2</td>\n",
       "      <td>Iris-setosa</td>\n",
       "    </tr>\n",
       "    <tr>\n",
       "      <th>4</th>\n",
       "      <td>5.0</td>\n",
       "      <td>3.6</td>\n",
       "      <td>1.4</td>\n",
       "      <td>0.2</td>\n",
       "      <td>Iris-setosa</td>\n",
       "    </tr>\n",
       "  </tbody>\n",
       "</table>\n",
       "</div>"
      ],
      "text/plain": [
       "   long_sepalo  ancho_sepalo  long_petalo  ancho_petalo        clase\n",
       "0          5.1           3.5          1.4           0.2  Iris-setosa\n",
       "1          4.9           3.0          1.4           0.2  Iris-setosa\n",
       "2          4.7           3.2          1.3           0.2  Iris-setosa\n",
       "3          4.6           3.1          1.5           0.2  Iris-setosa\n",
       "4          5.0           3.6          1.4           0.2  Iris-setosa"
      ]
     },
     "execution_count": 18,
     "metadata": {},
     "output_type": "execute_result"
    }
   ],
   "source": [
    "import pandas as pd\n",
    "\n",
    "# Creamos el DataFrame a partir de iris_dataset, el parametro names permite nombrar las columnas\n",
    "df_iris = pd.read_csv(\"./data/iris.data\", names=[\"long_sepalo\", \"ancho_sepalo\", \"long_petalo\", \"ancho_petalo\", \"clase\"])\n",
    "\n",
    "# Se imprime los primeros 5 elementos del dataframe\n",
    "df_iris.head()"
   ]
  },
  {
   "cell_type": "markdown",
   "id": "01532f75",
   "metadata": {
    "pycharm": {
     "name": "#%% md\n"
    }
   },
   "source": [
    "*Nota: de ahora en adelante siempre que queramos leer el contenido de un dataset local usaremos el método `read_csv` de la librería de Pandas.*\n",
    "\n",
    "Como vimos fue muy fácil construir el `DataFrame`, ahora, ¿qué tal si lo manipulamos?, podríamos contestar preguntas del tipo: ¿cuántas clases de iris tenemos?, ¿cuál es el tamaño promedio de la longitud del pétalo?, ¿para todas las clases o para una en particular? Veamos cómo se hace:"
   ]
  },
  {
   "cell_type": "code",
   "execution_count": 84,
   "id": "af42aa48",
   "metadata": {
    "pycharm": {
     "name": "#%%\n"
    }
   },
   "outputs": [
    {
     "name": "stdout",
     "output_type": "stream",
     "text": [
      "Tamaño promedio del pétalo de las iris:\n",
      "5.843333333333334\n"
     ]
    }
   ],
   "source": [
    "### Ejemplo 1: Promedio de Longitud del Sepalo sin importar la clase\n",
    "mean_long_sepalo = np.mean(df_iris['long_sepalo'])\n",
    "print('Tamaño promedio del pétalo de las iris:')\n",
    "print(mean_long_sepalo)"
   ]
  },
  {
   "cell_type": "markdown",
   "id": "64e781e6",
   "metadata": {},
   "source": [
    "Eso fue sencillo, hallar la media de $150$ filas y con ello, darle un poquito más de significado al dataset.\n",
    "\n",
    "Ahora para contestar las siguientes preguntas tenemos que hacer uso de algunos de los métodos nativos de la clase *DataFrame*:\n",
    "\n",
    "* **groupby**: sirve para agrupar las filas en torno a valor de alguna de sus columnas.\n",
    "* **assign**: sirve para agregar nuevas columnas a partir de los valores de otras.\n",
    "* **query**: sirve para filtrar el dataset a partir de alguna condición *(Como por ejemplo el valor de una columna)*.\n",
    "* **filter**: filtra un Dataframe por columnas o filas de acuerdo con sus etiquetas en los índices. *(En buena medida, como el método `query` pero el filtro se basa en los índices)\n",
    "\n",
    "¿Y ahora qué tal si ahora calculamos la cantidad de clases de iris que tenemos? Veamos cómo se hace:"
   ]
  },
  {
   "cell_type": "code",
   "execution_count": 27,
   "id": "a2ec6767",
   "metadata": {},
   "outputs": [
    {
     "name": "stdout",
     "output_type": "stream",
     "text": [
      "El numero de clases en el dataset es: \n"
     ]
    },
    {
     "data": {
      "text/plain": [
       "3"
      ]
     },
     "execution_count": 27,
     "metadata": {},
     "output_type": "execute_result"
    }
   ],
   "source": [
    "# Ejemplo 2: se hace uso del metodo groupby para agrupar el dataframe por la columna clase\n",
    "print('El numero de clases en el dataset es: ') \n",
    "len(df_iris.groupby('clase'))"
   ]
  },
  {
   "cell_type": "markdown",
   "id": "1ba4f1ea",
   "metadata": {},
   "source": [
    "Ahora vamos para darle paso a las respuesta de las preguntas faltantes, veamos cual la media de la longitud del pétalo para la clase de *Iris-setora* por medio del método **query**:"
   ]
  },
  {
   "cell_type": "code",
   "execution_count": 33,
   "id": "27ce9696",
   "metadata": {},
   "outputs": [
    {
     "name": "stdout",
     "output_type": "stream",
     "text": [
      "Tamaño promedio del pétalo de la clase Iris-setosa:\n",
      "1.464\n"
     ]
    }
   ],
   "source": [
    "# Ejemplo 2: Promedio de la Longitud del Petalo para la clase Iris-setosa\n",
    "df_iris_setosa = df_iris.query(\"clase == 'Iris-setosa'\")\n",
    "mean_long_petalo = np.mean(df_iris_setosa['long_petalo'])\n",
    "print('Tamaño promedio del pétalo de la clase Iris-setosa:')\n",
    "print(mean_long_petalo)\n"
   ]
  },
  {
   "cell_type": "markdown",
   "id": "8751fce9",
   "metadata": {},
   "source": [
    "Y ahora haremos uso del **Method Chain** para calcular un valor computado en una nueva columna, pero que significa eso del Method Chain? difícil traducirlo al español, pero digamos que es la posibilidad de invocar diferentes métodos sobre un mismo objeto en una misma línea de Código. Un ejemplo es mejor que mil palabras:"
   ]
  },
  {
   "cell_type": "code",
   "execution_count": 48,
   "id": "29d1b485",
   "metadata": {},
   "outputs": [
    {
     "data": {
      "text/html": [
       "<div>\n",
       "<style scoped>\n",
       "    .dataframe tbody tr th:only-of-type {\n",
       "        vertical-align: middle;\n",
       "    }\n",
       "\n",
       "    .dataframe tbody tr th {\n",
       "        vertical-align: top;\n",
       "    }\n",
       "\n",
       "    .dataframe thead th {\n",
       "        text-align: right;\n",
       "    }\n",
       "</style>\n",
       "<table border=\"1\" class=\"dataframe\">\n",
       "  <thead>\n",
       "    <tr style=\"text-align: right;\">\n",
       "      <th></th>\n",
       "      <th>long_sepalo</th>\n",
       "      <th>ancho_sepalo</th>\n",
       "      <th>long_petalo</th>\n",
       "      <th>ancho_petalo</th>\n",
       "      <th>clase</th>\n",
       "      <th>proporcion_petalo</th>\n",
       "    </tr>\n",
       "  </thead>\n",
       "  <tbody>\n",
       "    <tr>\n",
       "      <th>100</th>\n",
       "      <td>6.3</td>\n",
       "      <td>3.3</td>\n",
       "      <td>6.0</td>\n",
       "      <td>2.5</td>\n",
       "      <td>Iris-virginica</td>\n",
       "      <td>0.416667</td>\n",
       "    </tr>\n",
       "    <tr>\n",
       "      <th>101</th>\n",
       "      <td>5.8</td>\n",
       "      <td>2.7</td>\n",
       "      <td>5.1</td>\n",
       "      <td>1.9</td>\n",
       "      <td>Iris-virginica</td>\n",
       "      <td>0.372549</td>\n",
       "    </tr>\n",
       "    <tr>\n",
       "      <th>102</th>\n",
       "      <td>7.1</td>\n",
       "      <td>3.0</td>\n",
       "      <td>5.9</td>\n",
       "      <td>2.1</td>\n",
       "      <td>Iris-virginica</td>\n",
       "      <td>0.355932</td>\n",
       "    </tr>\n",
       "    <tr>\n",
       "      <th>103</th>\n",
       "      <td>6.3</td>\n",
       "      <td>2.9</td>\n",
       "      <td>5.6</td>\n",
       "      <td>1.8</td>\n",
       "      <td>Iris-virginica</td>\n",
       "      <td>0.321429</td>\n",
       "    </tr>\n",
       "    <tr>\n",
       "      <th>104</th>\n",
       "      <td>6.5</td>\n",
       "      <td>3.0</td>\n",
       "      <td>5.8</td>\n",
       "      <td>2.2</td>\n",
       "      <td>Iris-virginica</td>\n",
       "      <td>0.379310</td>\n",
       "    </tr>\n",
       "  </tbody>\n",
       "</table>\n",
       "</div>"
      ],
      "text/plain": [
       "     long_sepalo  ancho_sepalo  long_petalo  ancho_petalo           clase  \\\n",
       "100          6.3           3.3          6.0           2.5  Iris-virginica   \n",
       "101          5.8           2.7          5.1           1.9  Iris-virginica   \n",
       "102          7.1           3.0          5.9           2.1  Iris-virginica   \n",
       "103          6.3           2.9          5.6           1.8  Iris-virginica   \n",
       "104          6.5           3.0          5.8           2.2  Iris-virginica   \n",
       "\n",
       "     proporcion_petalo  \n",
       "100           0.416667  \n",
       "101           0.372549  \n",
       "102           0.355932  \n",
       "103           0.321429  \n",
       "104           0.379310  "
      ]
     },
     "execution_count": 48,
     "metadata": {},
     "output_type": "execute_result"
    }
   ],
   "source": [
    "# Ejemplo 3: Proporcion computado de el tamano del petalo para la clase Iris-virginica\n",
    "df_iris.query('clase == \"Iris-virginica\"').assign(proporcion_petalo=lambda i: i['ancho_petalo'] / i['long_petalo']).head()"
   ]
  },
  {
   "cell_type": "markdown",
   "id": "31cdac0e",
   "metadata": {},
   "source": [
    "Y con esto logramos contestar las preguntas propuestas previamente. De forma que es fácil manipular un *DataFrame* al tiempo que jugamos con sus datos."
   ]
  },
  {
   "cell_type": "markdown",
   "id": "efd1def7",
   "metadata": {},
   "source": [
    "## Mas sobre los DataFrames\n",
    "\n",
    "\n",
    "Para continuar con la práctica, sería bueno dar un pequeño repaso sobre las ideas de manipulación más básicas y estándar de los *DataFrames*. Lo haremos al mismo tiempo que encontraremos la *desviación estándar sobre la longitud de los pétalos* de la clase *Iris-versicolor*.\n",
    "\n",
    "Este proceso demostrativo de manipulación básica será paso a paso al mismo en donde nuevas columnas son agregadas, y para mayor comodidad trabajaremos con una porción del dataset original:"
   ]
  },
  {
   "cell_type": "code",
   "execution_count": 85,
   "id": "0eff6579",
   "metadata": {},
   "outputs": [
    {
     "name": "stdout",
     "output_type": "stream",
     "text": [
      "DevSt=$6.678419906560019e-05\n"
     ]
    },
    {
     "data": {
      "text/html": [
       "<div>\n",
       "<style scoped>\n",
       "    .dataframe tbody tr th:only-of-type {\n",
       "        vertical-align: middle;\n",
       "    }\n",
       "\n",
       "    .dataframe tbody tr th {\n",
       "        vertical-align: top;\n",
       "    }\n",
       "\n",
       "    .dataframe thead th {\n",
       "        text-align: right;\n",
       "    }\n",
       "</style>\n",
       "<table border=\"1\" class=\"dataframe\">\n",
       "  <thead>\n",
       "    <tr style=\"text-align: right;\">\n",
       "      <th></th>\n",
       "      <th>long_sepalo</th>\n",
       "      <th>ancho_sepalo</th>\n",
       "      <th>long_petalo</th>\n",
       "      <th>ancho_petalo</th>\n",
       "      <th>clase</th>\n",
       "      <th>long_petalo_minus_media</th>\n",
       "      <th>long_petalo_minus_media_square</th>\n",
       "    </tr>\n",
       "  </thead>\n",
       "  <tbody>\n",
       "    <tr>\n",
       "      <th>50</th>\n",
       "      <td>7.0</td>\n",
       "      <td>3.2</td>\n",
       "      <td>4.7</td>\n",
       "      <td>1.4</td>\n",
       "      <td>Iris-versicolor</td>\n",
       "      <td>0.16</td>\n",
       "      <td>0.0256</td>\n",
       "    </tr>\n",
       "    <tr>\n",
       "      <th>51</th>\n",
       "      <td>6.4</td>\n",
       "      <td>3.2</td>\n",
       "      <td>4.5</td>\n",
       "      <td>1.5</td>\n",
       "      <td>Iris-versicolor</td>\n",
       "      <td>-0.04</td>\n",
       "      <td>0.0016</td>\n",
       "    </tr>\n",
       "    <tr>\n",
       "      <th>52</th>\n",
       "      <td>6.9</td>\n",
       "      <td>3.1</td>\n",
       "      <td>4.9</td>\n",
       "      <td>1.5</td>\n",
       "      <td>Iris-versicolor</td>\n",
       "      <td>0.36</td>\n",
       "      <td>0.1296</td>\n",
       "    </tr>\n",
       "    <tr>\n",
       "      <th>53</th>\n",
       "      <td>5.5</td>\n",
       "      <td>2.3</td>\n",
       "      <td>4.0</td>\n",
       "      <td>1.3</td>\n",
       "      <td>Iris-versicolor</td>\n",
       "      <td>-0.54</td>\n",
       "      <td>0.2916</td>\n",
       "    </tr>\n",
       "    <tr>\n",
       "      <th>54</th>\n",
       "      <td>6.5</td>\n",
       "      <td>2.8</td>\n",
       "      <td>4.6</td>\n",
       "      <td>1.5</td>\n",
       "      <td>Iris-versicolor</td>\n",
       "      <td>0.06</td>\n",
       "      <td>0.0036</td>\n",
       "    </tr>\n",
       "  </tbody>\n",
       "</table>\n",
       "</div>"
      ],
      "text/plain": [
       "    long_sepalo  ancho_sepalo  long_petalo  ancho_petalo            clase  \\\n",
       "50          7.0           3.2          4.7           1.4  Iris-versicolor   \n",
       "51          6.4           3.2          4.5           1.5  Iris-versicolor   \n",
       "52          6.9           3.1          4.9           1.5  Iris-versicolor   \n",
       "53          5.5           2.3          4.0           1.3  Iris-versicolor   \n",
       "54          6.5           2.8          4.6           1.5  Iris-versicolor   \n",
       "\n",
       "    long_petalo_minus_media  long_petalo_minus_media_square  \n",
       "50                     0.16                          0.0256  \n",
       "51                    -0.04                          0.0016  \n",
       "52                     0.36                          0.1296  \n",
       "53                    -0.54                          0.2916  \n",
       "54                     0.06                          0.0036  "
      ]
     },
     "execution_count": 85,
     "metadata": {},
     "output_type": "execute_result"
    }
   ],
   "source": [
    "# Ejemplo 4: Calcular la desviacion estandar del largo del petalo para la clase Iris Versicolor\n",
    "df_iris_versicolor = df_iris.query('clase == \"Iris-versicolor\"').head()\n",
    "\n",
    "# Se calcula la media del largo del petalo\n",
    "media_long_petalo = np.mean(df_iris_versicolor['long_petalo'])\n",
    "\n",
    "# Se resta la media de cada largo del petalo\n",
    "df_iris_versicolor['long_petalo_minus_media'] = df_iris_versicolor['long_petalo'] - media_long_petalo\n",
    "\n",
    "# Se eleva la diferencia al cuadrado\n",
    "df_iris_versicolor['long_petalo_minus_media_square'] = (df_iris_versicolor['long_petalo'] - media_long_petalo)**2\n",
    "\n",
    "# Se calcula la media elevada al cuadrado\n",
    "media_long_petalo_error = np.mean(df_iris_versicolor['long_petalo_minus_media_square'])**2\n",
    "\n",
    "# Se calcula deviacion estandar\n",
    "print(f'DevSt=${np.square(media_long_petalo_error)}')\n",
    "\n",
    "# Se imprime el dataset\n",
    "df_iris_versicolor"
   ]
  },
  {
   "cell_type": "markdown",
   "id": "ebac2063",
   "metadata": {},
   "source": [
    "Como observamos el cálculo fue bastante abrumador y es por esto por lo que los métodos previamente expuestos permiten de alguna forma que en tan pocas líneas de código se logre mucho.\n",
    "\n",
    "Luego eliminar algunas columnas se logra a través del método `pop`."
   ]
  },
  {
   "cell_type": "code",
   "execution_count": 86,
   "id": "c4bbbf11",
   "metadata": {},
   "outputs": [
    {
     "data": {
      "text/html": [
       "<div>\n",
       "<style scoped>\n",
       "    .dataframe tbody tr th:only-of-type {\n",
       "        vertical-align: middle;\n",
       "    }\n",
       "\n",
       "    .dataframe tbody tr th {\n",
       "        vertical-align: top;\n",
       "    }\n",
       "\n",
       "    .dataframe thead th {\n",
       "        text-align: right;\n",
       "    }\n",
       "</style>\n",
       "<table border=\"1\" class=\"dataframe\">\n",
       "  <thead>\n",
       "    <tr style=\"text-align: right;\">\n",
       "      <th></th>\n",
       "      <th>long_sepalo</th>\n",
       "      <th>ancho_sepalo</th>\n",
       "      <th>long_petalo</th>\n",
       "      <th>ancho_petalo</th>\n",
       "      <th>clase</th>\n",
       "      <th>long_petalo_minus_media_square</th>\n",
       "    </tr>\n",
       "  </thead>\n",
       "  <tbody>\n",
       "    <tr>\n",
       "      <th>50</th>\n",
       "      <td>7.0</td>\n",
       "      <td>3.2</td>\n",
       "      <td>4.7</td>\n",
       "      <td>1.4</td>\n",
       "      <td>Iris-versicolor</td>\n",
       "      <td>0.0256</td>\n",
       "    </tr>\n",
       "    <tr>\n",
       "      <th>51</th>\n",
       "      <td>6.4</td>\n",
       "      <td>3.2</td>\n",
       "      <td>4.5</td>\n",
       "      <td>1.5</td>\n",
       "      <td>Iris-versicolor</td>\n",
       "      <td>0.0016</td>\n",
       "    </tr>\n",
       "    <tr>\n",
       "      <th>52</th>\n",
       "      <td>6.9</td>\n",
       "      <td>3.1</td>\n",
       "      <td>4.9</td>\n",
       "      <td>1.5</td>\n",
       "      <td>Iris-versicolor</td>\n",
       "      <td>0.1296</td>\n",
       "    </tr>\n",
       "    <tr>\n",
       "      <th>53</th>\n",
       "      <td>5.5</td>\n",
       "      <td>2.3</td>\n",
       "      <td>4.0</td>\n",
       "      <td>1.3</td>\n",
       "      <td>Iris-versicolor</td>\n",
       "      <td>0.2916</td>\n",
       "    </tr>\n",
       "    <tr>\n",
       "      <th>54</th>\n",
       "      <td>6.5</td>\n",
       "      <td>2.8</td>\n",
       "      <td>4.6</td>\n",
       "      <td>1.5</td>\n",
       "      <td>Iris-versicolor</td>\n",
       "      <td>0.0036</td>\n",
       "    </tr>\n",
       "  </tbody>\n",
       "</table>\n",
       "</div>"
      ],
      "text/plain": [
       "    long_sepalo  ancho_sepalo  long_petalo  ancho_petalo            clase  \\\n",
       "50          7.0           3.2          4.7           1.4  Iris-versicolor   \n",
       "51          6.4           3.2          4.5           1.5  Iris-versicolor   \n",
       "52          6.9           3.1          4.9           1.5  Iris-versicolor   \n",
       "53          5.5           2.3          4.0           1.3  Iris-versicolor   \n",
       "54          6.5           2.8          4.6           1.5  Iris-versicolor   \n",
       "\n",
       "    long_petalo_minus_media_square  \n",
       "50                          0.0256  \n",
       "51                          0.0016  \n",
       "52                          0.1296  \n",
       "53                          0.2916  \n",
       "54                          0.0036  "
      ]
     },
     "execution_count": 86,
     "metadata": {},
     "output_type": "execute_result"
    }
   ],
   "source": [
    "# Se eliminan columnas del dataframe\n",
    "try:\n",
    "    df_iris_versicolor.pop('long_petalo_minus_media')\n",
    "except Exception:\n",
    "    print('Error: En caso de que este codigo se ejecuta mas de una ocasion')\n",
    "\n",
    "# Se imprime el dataset\n",
    "df_iris_versicolor"
   ]
  },
  {
   "cell_type": "markdown",
   "id": "efa16fbb-1a4e-48a9-ac27-b627b2c602da",
   "metadata": {
    "pycharm": {
     "name": "#%% md\n"
    }
   },
   "source": [
    "# Práctica: Adquirir datos de ChEMBL\n",
    "\n",
    "## Conceptos a trabajar\n",
    "**Uniprot:** Es una base de datos que busca proporcionar a la comunidad científica un recurso integral, de alta calidad y de libre acceso de secuencias de proteínas e información funcional. Referencia: [Uniprot](https://www.uniprot.org/).\n",
    "\n",
    "**ChEMBL:** Es una base de datos que contiene moléculas bioactivas, reune datos químicos, de bioactividad y genómicos. Refernecia: [ChEMBL](https://www.ebi.ac.uk/chembl/)\n",
    "\n",
    "**Half-maximal inhibitory concentration (IC50):** Expresa la cantidad de fármaco necesaria para inhibir un proceso biológico a la mitad del valor no inhibido, es la medida más utilizada de la eficacia o potencia de un fármaco. Referencia: [Aykul, S. y Martínez-Hackert, E. (2016)](https://doi.org/10.1016/j.ab.2016.06.025)\n",
    "\n",
    "**pIC50:** Es el logaritmo negativo en base diez del IC50, cuando las unidades de son **molares (M)**. Se usa para facilitar la comparación entre distintos IC50. También, es importante saber que a mayor pIC50 el fármaco tiene una mayor eficacia o mayor potencial.\n",
    "\n",
    "**Half maximal effective concentration (EC50):** Es la concentración efectiva para producir el 50 % de la respuesta máxima, se usa para comparar las potencias de los fármacos. También, es importante saber que a menor sea el EC50 más potente será el fármaco. A esta pedida también se le calcula el logaritmo negativo en base diez **(pEC50)** para facilitar su comprensión. Referencia: [Waller, D., & Sampson, A. (2018)](https://doi.org/10.1016/B978-0-7020-7167-6.00001-4)\n",
    "\n",
    "**Inhibitor constant (Ki):** Es la concentración requerida para producir la mitad de la inhibición máxima, es útil para describir la afinidad de unión de una molécula a un receptor.\n",
    "\n",
    "**SMILES (Simplified Molecular-Input Line-Entry System):** Es una notación de línea para describir estructuras químicas utilizando cadenas ASCII cortas. Referencia: [Daylight Chemical Information Systems](https://www.daylight.com/smiles/)"
   ]
  },
  {
   "cell_type": "markdown",
   "id": "d7663773-6f54-47bf-9c9a-1eff4eb5b10a",
   "metadata": {
    "pycharm": {
     "name": "#%% md\n"
    }
   },
   "source": [
    "# LyC\n",
    "## Planteamiento del problema\n",
    "Para una investigación queremos identificar los compuestos que actúan con un target específico, la proteína Glucógeno sintasa quinasa-3 beta, que actúa como un regulador negativo en el control hormonal de la homeostasis de la glucosa, señalización Wnt y regulación de factores de transcripción y microtúbulos. A nosotros nos interesa conocer los compuestos bioactivos con la proteína, su estructura y algunas características fisicoquímicas.\n",
    "\n",
    "Para lo cual, usaremos la información que proporciona la base de datos **ChEMBL**, que nos permite filtrar y descargar los datos de bioactividad conocidos de los compuestos que interactúan con nuestro target de interés. Posteriormente, organizaremos los datos obtenidos en un ` DataFrame `, que nos permitirá organizarlos, visualizarlos y manipularlos fácilmente.\n",
    "\n",
    "Lo primero que debemos hacer es conectarnos a **ChEMBL**, empleando la biblioteca **webresource client**"
   ]
  },
  {
   "cell_type": "markdown",
   "id": "f84dc1df-030e-4a1d-a809-4ac8edd672fd",
   "metadata": {
    "pycharm": {
     "name": "#%% md\n"
    }
   },
   "source": [
    "## Conectarse a la base de datos ChEMBL ##\n"
   ]
  },
  {
   "cell_type": "code",
   "execution_count": 13,
   "id": "99e2612c-a497-4cb8-bd51-fdcefcb13e42",
   "metadata": {
    "pycharm": {
     "name": "#%%\n"
    }
   },
   "outputs": [],
   "source": [
    "from chembl_webresource_client.new_client import new_client #Se importa la biblioteca webresource client que permite conectase a ChEMBL\n",
    "import pandas as pd\n",
    "import math\n",
    "from rdkit.Chem import PandasTools"
   ]
  },
  {
   "cell_type": "markdown",
   "id": "88b8cdc0-6939-4c4c-a183-374eacace60b",
   "metadata": {
    "pycharm": {
     "name": "#%% md\n"
    }
   },
   "source": [
    "Se deben crear para el acceso a la API"
   ]
  },
  {
   "cell_type": "code",
   "execution_count": 14,
   "id": "568fddfc-ef9a-4189-911d-8f0e3d00c5ce",
   "metadata": {
    "pycharm": {
     "name": "#%%\n"
    }
   },
   "outputs": [],
   "source": [
    "targets = new_client.target\n",
    "compounds = new_client.molecule\n",
    "bioactivities = new_client.activity"
   ]
  },
  {
   "cell_type": "markdown",
   "id": "d6d7e2d7-f5a2-4473-83bd-2daff23ef7d3",
   "metadata": {
    "pycharm": {
     "name": "#%% md\n"
    }
   },
   "source": [
    "# Lyc\n",
    "## Datos del target \n",
    "* Luego, debemos buscar el ID del target de interes en la base de datos Uniprot, que en este caso es Glucógeno sintasa quinasa-3 beta, ID: [P49841](https://www.uniprot.org/uniprot/P49841)."
   ]
  },
  {
   "cell_type": "code",
   "execution_count": 15,
   "id": "aaaf0217-bde5-40ea-be59-73092c07b5c0",
   "metadata": {
    "pycharm": {
     "name": "#%%\n"
    }
   },
   "outputs": [
    {
     "data": {
      "text/html": [
       "<div>\n",
       "<style scoped>\n",
       "    .dataframe tbody tr th:only-of-type {\n",
       "        vertical-align: middle;\n",
       "    }\n",
       "\n",
       "    .dataframe tbody tr th {\n",
       "        vertical-align: top;\n",
       "    }\n",
       "\n",
       "    .dataframe thead th {\n",
       "        text-align: right;\n",
       "    }\n",
       "</style>\n",
       "<table border=\"1\" class=\"dataframe\">\n",
       "  <thead>\n",
       "    <tr style=\"text-align: right;\">\n",
       "      <th></th>\n",
       "      <th>organism</th>\n",
       "      <th>pref_name</th>\n",
       "      <th>target_chembl_id</th>\n",
       "      <th>target_type</th>\n",
       "    </tr>\n",
       "  </thead>\n",
       "  <tbody>\n",
       "    <tr>\n",
       "      <th>0</th>\n",
       "      <td>Homo sapiens</td>\n",
       "      <td>Glycogen synthase kinase-3 beta</td>\n",
       "      <td>CHEMBL262</td>\n",
       "      <td>SINGLE PROTEIN</td>\n",
       "    </tr>\n",
       "    <tr>\n",
       "      <th>1</th>\n",
       "      <td>Homo sapiens</td>\n",
       "      <td>Glycogen synthase kinase-3 beta</td>\n",
       "      <td>CHEMBL262</td>\n",
       "      <td>SINGLE PROTEIN</td>\n",
       "    </tr>\n",
       "    <tr>\n",
       "      <th>2</th>\n",
       "      <td>Homo sapiens</td>\n",
       "      <td>Glycogen synthase kinase-3</td>\n",
       "      <td>CHEMBL2095188</td>\n",
       "      <td>PROTEIN FAMILY</td>\n",
       "    </tr>\n",
       "    <tr>\n",
       "      <th>3</th>\n",
       "      <td>Homo sapiens</td>\n",
       "      <td>Axin-1/Glycogen synthase kinase-3 beta</td>\n",
       "      <td>CHEMBL3883309</td>\n",
       "      <td>PROTEIN-PROTEIN INTERACTION</td>\n",
       "    </tr>\n",
       "  </tbody>\n",
       "</table>\n",
       "</div>"
      ],
      "text/plain": [
       "       organism                               pref_name target_chembl_id  \\\n",
       "0  Homo sapiens         Glycogen synthase kinase-3 beta        CHEMBL262   \n",
       "1  Homo sapiens         Glycogen synthase kinase-3 beta        CHEMBL262   \n",
       "2  Homo sapiens              Glycogen synthase kinase-3    CHEMBL2095188   \n",
       "3  Homo sapiens  Axin-1/Glycogen synthase kinase-3 beta    CHEMBL3883309   \n",
       "\n",
       "                   target_type  \n",
       "0               SINGLE PROTEIN  \n",
       "1               SINGLE PROTEIN  \n",
       "2               PROTEIN FAMILY  \n",
       "3  PROTEIN-PROTEIN INTERACTION  "
      ]
     },
     "execution_count": 15,
     "metadata": {},
     "output_type": "execute_result"
    }
   ],
   "source": [
    "uniprot_id = 'P49841'\n",
    "# Se toma sola alguna información de  ChEMBL que sea de interesbut restrict to specified values only\n",
    "target_P49841 = targets.get(target_components__accession=uniprot_id) \\\n",
    "                     .only('target_chembl_id', 'organism', 'pref_name', 'target_type')\n",
    "pd.DataFrame.from_records(target_P49841)"
   ]
  },
  {
   "cell_type": "markdown",
   "id": "26b05cd6-df7a-47fc-b396-f181a6118b97",
   "metadata": {
    "pycharm": {
     "name": "#%% md\n"
    }
   },
   "source": [
    "Vamos a seleccionar el target de interes `CHEMBL262` y guardar el ChEMBL-ID \n"
   ]
  },
  {
   "cell_type": "code",
   "execution_count": 16,
   "id": "dab282de-f599-4496-b5b3-78158b787d8e",
   "metadata": {
    "pycharm": {
     "name": "#%%\n"
    }
   },
   "outputs": [
    {
     "name": "stdout",
     "output_type": "stream",
     "text": [
      "El target de interes es: {'organism': 'Homo sapiens', 'pref_name': 'Glycogen synthase kinase-3 beta', 'target_chembl_id': 'CHEMBL262', 'target_type': 'SINGLE PROTEIN'}\n"
     ]
    }
   ],
   "source": [
    "# Seleccionar el target de interes\n",
    "target = target_P49841[0]\n",
    "print(f'El target de interes es: {str(target)}')"
   ]
  },
  {
   "cell_type": "code",
   "execution_count": 17,
   "id": "c522cf8d-d0eb-478e-90c7-86fd833bc412",
   "metadata": {
    "pycharm": {
     "name": "#%%\n"
    }
   },
   "outputs": [
    {
     "name": "stdout",
     "output_type": "stream",
     "text": [
      "El ChEMBL-ID de interes es: CHEMBL262\n"
     ]
    }
   ],
   "source": [
    "# Guardar el ChEMBL-ID\n",
    "chembl_id = target['target_chembl_id']\n",
    "print(f'El ChEMBL-ID de interes es: {chembl_id}')"
   ]
  },
  {
   "cell_type": "markdown",
   "id": "4797bcee-1fe9-441b-b6f6-18ff2c316a92",
   "metadata": {
    "pycharm": {
     "name": "#%% md\n"
    }
   },
   "source": [
    "## Datos de bioactividad\n",
    "\n",
    "Ahora consultamos los datos de bioactividad que nos interesan, siguiendo estos pasos:\n",
    "1. Descargar y filtrar bioactividades para el target\n",
    "\n",
    "    Los datos de bioactividad se van a filtrar de la siguiente manera:\n",
    "        * Tipo de bioactividad: IC50\n",
    "        * Relación: \"=\"\n",
    "2. Convertir los datos descargados en un data frame:\n",
    "    Las columnas de interés son: `molecule_chembl_id`, `type`, `relation`, `pchembl_value`\n",
    "\n",
    "\n"
   ]
  },
  {
   "cell_type": "code",
   "execution_count": 18,
   "id": "ccbfd67f-ead5-464e-a79a-0ad77db4ac83",
   "metadata": {
    "pycharm": {
     "name": "#%%\n"
    }
   },
   "outputs": [],
   "source": [
    "# Descargar los datos de la bioactivdad del target. Esto puede tardar unos minutos\n",
    "bioact = bioactivities.filter(target_chembl_id = chembl_id) \\\n",
    "                      .filter(type = 'IC50') \\\n",
    "                      .filter(relation = '=') \\\n",
    "                      .only('molecule_chembl_id', 'type', 'relation', 'pchembl_value')\n",
    "df_bioact = pd.DataFrame(bioact)"
   ]
  },
  {
   "cell_type": "code",
   "execution_count": 19,
   "id": "ba266161",
   "metadata": {
    "pycharm": {
     "name": "#%%\n"
    }
   },
   "outputs": [
    {
     "data": {
      "text/html": [
       "<div>\n",
       "<style scoped>\n",
       "    .dataframe tbody tr th:only-of-type {\n",
       "        vertical-align: middle;\n",
       "    }\n",
       "\n",
       "    .dataframe tbody tr th {\n",
       "        vertical-align: top;\n",
       "    }\n",
       "\n",
       "    .dataframe thead th {\n",
       "        text-align: right;\n",
       "    }\n",
       "</style>\n",
       "<table border=\"1\" class=\"dataframe\">\n",
       "  <thead>\n",
       "    <tr style=\"text-align: right;\">\n",
       "      <th></th>\n",
       "      <th>molecule_chembl_id</th>\n",
       "      <th>pchembl_value</th>\n",
       "      <th>relation</th>\n",
       "      <th>type</th>\n",
       "      <th>value</th>\n",
       "    </tr>\n",
       "  </thead>\n",
       "  <tbody>\n",
       "    <tr>\n",
       "      <th>0</th>\n",
       "      <td>CHEMBL322970</td>\n",
       "      <td>6.42</td>\n",
       "      <td>=</td>\n",
       "      <td>IC50</td>\n",
       "      <td>0.38</td>\n",
       "    </tr>\n",
       "    <tr>\n",
       "      <th>1</th>\n",
       "      <td>CHEMBL112564</td>\n",
       "      <td>5.16</td>\n",
       "      <td>=</td>\n",
       "      <td>IC50</td>\n",
       "      <td>6.92</td>\n",
       "    </tr>\n",
       "    <tr>\n",
       "      <th>2</th>\n",
       "      <td>CHEMBL321421</td>\n",
       "      <td>6.39</td>\n",
       "      <td>=</td>\n",
       "      <td>IC50</td>\n",
       "      <td>0.41</td>\n",
       "    </tr>\n",
       "    <tr>\n",
       "      <th>3</th>\n",
       "      <td>CHEMBL388978</td>\n",
       "      <td>6.80</td>\n",
       "      <td>=</td>\n",
       "      <td>IC50</td>\n",
       "      <td>0.16</td>\n",
       "    </tr>\n",
       "    <tr>\n",
       "      <th>4</th>\n",
       "      <td>CHEMBL115875</td>\n",
       "      <td>5.02</td>\n",
       "      <td>=</td>\n",
       "      <td>IC50</td>\n",
       "      <td>9.6</td>\n",
       "    </tr>\n",
       "  </tbody>\n",
       "</table>\n",
       "</div>"
      ],
      "text/plain": [
       "  molecule_chembl_id pchembl_value relation  type value\n",
       "0       CHEMBL322970          6.42        =  IC50  0.38\n",
       "1       CHEMBL112564          5.16        =  IC50  6.92\n",
       "2       CHEMBL321421          6.39        =  IC50  0.41\n",
       "3       CHEMBL388978          6.80        =  IC50  0.16\n",
       "4       CHEMBL115875          5.02        =  IC50   9.6"
      ]
     },
     "execution_count": 19,
     "metadata": {},
     "output_type": "execute_result"
    }
   ],
   "source": [
    "#Primeros elementos del dataframe\n",
    "df_bioact.head()"
   ]
  },
  {
   "cell_type": "markdown",
   "id": "58875462-fe53-4001-8cb3-b8513708d37a",
   "metadata": {
    "pycharm": {
     "name": "#%% md\n"
    }
   },
   "source": [
    "Es posible que hayan compuestos con valores faltantes y que hayan duplicados porque el mismo compuesto puede haber sido probado más de una vez (nosotros nos quedaremos solo con el que primero haya sido probado)"
   ]
  },
  {
   "cell_type": "code",
   "execution_count": 20,
   "id": "c1d74226-b9dc-4143-8048-872b15ddbc0f",
   "metadata": {
    "pycharm": {
     "name": "#%%\n"
    }
   },
   "outputs": [
    {
     "name": "stdout",
     "output_type": "stream",
     "text": [
      "Total de compuestos originales es: 2648\n"
     ]
    }
   ],
   "source": [
    "# Primero verificamos cuantos compuestos tenemos en total\n",
    "ori_len = len(df_bioact)\n",
    "print(f'Total de compuestos originales es: {ori_len}')"
   ]
  },
  {
   "cell_type": "code",
   "execution_count": 21,
   "id": "6e013877-f792-4177-8b3f-4740f67a8176",
   "metadata": {
    "pycharm": {
     "name": "#%%\n"
    }
   },
   "outputs": [
    {
     "name": "stdout",
     "output_type": "stream",
     "text": [
      "Total de compuestos despues de eliminar daltantes: 2626\n"
     ]
    }
   ],
   "source": [
    "# Se eliminan los compuestos que no tienen pChEMBL_value\n",
    "df_bioact = df_bioact.dropna(axis=0, how = 'any')\n",
    "new_len = len(df_bioact)\n",
    "print(f'Total de compuestos despues de eliminar daltantes: {new_len}')"
   ]
  },
  {
   "cell_type": "markdown",
   "id": "3267f752-2dba-48c9-b7f5-1037d21ad55f",
   "metadata": {
    "pycharm": {
     "name": "#%% md\n"
    }
   },
   "source": [
    "Para saber cuantos compuestos eliminamos por no tener un valor de pChEMBL usamos la siguiente línea. "
   ]
  },
  {
   "cell_type": "code",
   "execution_count": 22,
   "id": "861be90c-548f-4737-bfd8-2e2e9393db77",
   "metadata": {
    "pycharm": {
     "name": "#%%\n"
    }
   },
   "outputs": [
    {
     "name": "stdout",
     "output_type": "stream",
     "text": [
      "Total compuestos eliminados 22\n"
     ]
    }
   ],
   "source": [
    "# Se le resta al número total de compuestos el número total de compuestos al eliminar los que no tienen pChEMBL_value\n",
    "print(f'Total compuestos eliminados {ori_len - new_len}')\n",
    "ori_len = new_len"
   ]
  },
  {
   "cell_type": "code",
   "execution_count": 23,
   "id": "9a4fdcc5-ac95-4ddf-be47-2ef940619532",
   "metadata": {
    "pycharm": {
     "name": "#%%\n"
    }
   },
   "outputs": [
    {
     "name": "stdout",
     "output_type": "stream",
     "text": [
      "Total de compuestos sin duplicados : 2291\n"
     ]
    }
   ],
   "source": [
    "# Se eliminan los compuestos duplicados y nos quedamos con el primer compuesto probado\n",
    "df_bioact = df_bioact.drop_duplicates('molecule_chembl_id', keep = 'first')\n",
    "new_len = len(df_bioact)\n",
    "print(f'Total de compuestos sin duplicados : {new_len}')"
   ]
  },
  {
   "cell_type": "markdown",
   "id": "12729e22-0962-4128-9f8d-d2ae77a1d553",
   "metadata": {
    "pycharm": {
     "name": "#%% md\n"
    }
   },
   "source": [
    "Para saber cuantos compuestos duplicados habían usamos la siguiente línea. "
   ]
  },
  {
   "cell_type": "code",
   "execution_count": 24,
   "id": "455158c5-5589-42da-9bc9-c5e825fd5761",
   "metadata": {
    "pycharm": {
     "name": "#%%\n"
    }
   },
   "outputs": [
    {
     "name": "stdout",
     "output_type": "stream",
     "text": [
      "Total compuestos eliminados 335\n"
     ]
    }
   ],
   "source": [
    "# Se le resta al número total de compuestos al eliminar los que no tienen pChEMBL_value el número total de compuestos sin duplicados\n",
    "print(f'Total compuestos eliminados {ori_len - new_len}')\n",
    "ori_len = new_len"
   ]
  },
  {
   "cell_type": "markdown",
   "id": "5a26f580-dd5b-4c51-a8c1-889b9621c64e",
   "metadata": {
    "pycharm": {
     "name": "#%% md\n"
    }
   },
   "source": [
    "Ahora que hemos eliminado algunas filas restableceremos el índice para que este sea continuo"
   ]
  },
  {
   "cell_type": "code",
   "execution_count": 25,
   "id": "548bbf5d-c428-4bc5-bd97-e04d669295bd",
   "metadata": {
    "pycharm": {
     "name": "#%%\n"
    }
   },
   "outputs": [
    {
     "data": {
      "text/html": [
       "<div>\n",
       "<style scoped>\n",
       "    .dataframe tbody tr th:only-of-type {\n",
       "        vertical-align: middle;\n",
       "    }\n",
       "\n",
       "    .dataframe tbody tr th {\n",
       "        vertical-align: top;\n",
       "    }\n",
       "\n",
       "    .dataframe thead th {\n",
       "        text-align: right;\n",
       "    }\n",
       "</style>\n",
       "<table border=\"1\" class=\"dataframe\">\n",
       "  <thead>\n",
       "    <tr style=\"text-align: right;\">\n",
       "      <th></th>\n",
       "      <th>molecule_chembl_id</th>\n",
       "      <th>pchembl_value</th>\n",
       "      <th>relation</th>\n",
       "      <th>type</th>\n",
       "      <th>value</th>\n",
       "    </tr>\n",
       "  </thead>\n",
       "  <tbody>\n",
       "    <tr>\n",
       "      <th>0</th>\n",
       "      <td>CHEMBL322970</td>\n",
       "      <td>6.42</td>\n",
       "      <td>=</td>\n",
       "      <td>IC50</td>\n",
       "      <td>0.38</td>\n",
       "    </tr>\n",
       "    <tr>\n",
       "      <th>1</th>\n",
       "      <td>CHEMBL112564</td>\n",
       "      <td>5.16</td>\n",
       "      <td>=</td>\n",
       "      <td>IC50</td>\n",
       "      <td>6.92</td>\n",
       "    </tr>\n",
       "    <tr>\n",
       "      <th>2</th>\n",
       "      <td>CHEMBL321421</td>\n",
       "      <td>6.39</td>\n",
       "      <td>=</td>\n",
       "      <td>IC50</td>\n",
       "      <td>0.41</td>\n",
       "    </tr>\n",
       "    <tr>\n",
       "      <th>3</th>\n",
       "      <td>CHEMBL388978</td>\n",
       "      <td>6.80</td>\n",
       "      <td>=</td>\n",
       "      <td>IC50</td>\n",
       "      <td>0.16</td>\n",
       "    </tr>\n",
       "    <tr>\n",
       "      <th>4</th>\n",
       "      <td>CHEMBL115875</td>\n",
       "      <td>5.02</td>\n",
       "      <td>=</td>\n",
       "      <td>IC50</td>\n",
       "      <td>9.6</td>\n",
       "    </tr>\n",
       "  </tbody>\n",
       "</table>\n",
       "</div>"
      ],
      "text/plain": [
       "  molecule_chembl_id pchembl_value relation  type value\n",
       "0       CHEMBL322970          6.42        =  IC50  0.38\n",
       "1       CHEMBL112564          5.16        =  IC50  6.92\n",
       "2       CHEMBL321421          6.39        =  IC50  0.41\n",
       "3       CHEMBL388978          6.80        =  IC50  0.16\n",
       "4       CHEMBL115875          5.02        =  IC50   9.6"
      ]
     },
     "execution_count": 25,
     "metadata": {},
     "output_type": "execute_result"
    }
   ],
   "source": [
    "df_bioact.reset_index(drop=True, inplace=True)\n",
    "df_bioact.head()"
   ]
  },
  {
   "cell_type": "markdown",
   "id": "6bf55ab4-486f-485a-9414-b1c4e38682be",
   "metadata": {
    "pycharm": {
     "name": "#%% md\n"
    }
   },
   "source": [
    "Vamos a organizar el DataFrame de mayor a menor pchembl_value"
   ]
  },
  {
   "cell_type": "code",
   "execution_count": 26,
   "id": "648690df-a26b-486b-83fd-d812139fa3df",
   "metadata": {
    "pycharm": {
     "name": "#%%\n"
    }
   },
   "outputs": [
    {
     "data": {
      "text/html": [
       "<div>\n",
       "<style scoped>\n",
       "    .dataframe tbody tr th:only-of-type {\n",
       "        vertical-align: middle;\n",
       "    }\n",
       "\n",
       "    .dataframe tbody tr th {\n",
       "        vertical-align: top;\n",
       "    }\n",
       "\n",
       "    .dataframe thead th {\n",
       "        text-align: right;\n",
       "    }\n",
       "</style>\n",
       "<table border=\"1\" class=\"dataframe\">\n",
       "  <thead>\n",
       "    <tr style=\"text-align: right;\">\n",
       "      <th></th>\n",
       "      <th>molecule_chembl_id</th>\n",
       "      <th>pchembl_value</th>\n",
       "      <th>relation</th>\n",
       "      <th>type</th>\n",
       "      <th>value</th>\n",
       "    </tr>\n",
       "  </thead>\n",
       "  <tbody>\n",
       "    <tr>\n",
       "      <th>0</th>\n",
       "      <td>CHEMBL564450</td>\n",
       "      <td>9.85</td>\n",
       "      <td>=</td>\n",
       "      <td>IC50</td>\n",
       "      <td>0.00014</td>\n",
       "    </tr>\n",
       "    <tr>\n",
       "      <th>1</th>\n",
       "      <td>CHEMBL3957649</td>\n",
       "      <td>9.70</td>\n",
       "      <td>=</td>\n",
       "      <td>IC50</td>\n",
       "      <td>0.2</td>\n",
       "    </tr>\n",
       "    <tr>\n",
       "      <th>2</th>\n",
       "      <td>CHEMBL3942619</td>\n",
       "      <td>9.70</td>\n",
       "      <td>=</td>\n",
       "      <td>IC50</td>\n",
       "      <td>0.2</td>\n",
       "    </tr>\n",
       "    <tr>\n",
       "      <th>3</th>\n",
       "      <td>CHEMBL3963605</td>\n",
       "      <td>9.70</td>\n",
       "      <td>=</td>\n",
       "      <td>IC50</td>\n",
       "      <td>0.2</td>\n",
       "    </tr>\n",
       "    <tr>\n",
       "      <th>4</th>\n",
       "      <td>CHEMBL2386090</td>\n",
       "      <td>9.70</td>\n",
       "      <td>=</td>\n",
       "      <td>IC50</td>\n",
       "      <td>0.2</td>\n",
       "    </tr>\n",
       "  </tbody>\n",
       "</table>\n",
       "</div>"
      ],
      "text/plain": [
       "  molecule_chembl_id pchembl_value relation  type    value\n",
       "0       CHEMBL564450          9.85        =  IC50  0.00014\n",
       "1      CHEMBL3957649          9.70        =  IC50      0.2\n",
       "2      CHEMBL3942619          9.70        =  IC50      0.2\n",
       "3      CHEMBL3963605          9.70        =  IC50      0.2\n",
       "4      CHEMBL2386090          9.70        =  IC50      0.2"
      ]
     },
     "execution_count": 26,
     "metadata": {},
     "output_type": "execute_result"
    }
   ],
   "source": [
    "# Organizamos de mayor a menor pchembl_value\n",
    "df_bioact.sort_values(by=\"pchembl_value\", ascending=False, inplace=True)\n",
    "# Restablecemos el índice\n",
    "df_bioact.reset_index(drop=True, inplace=True)\n",
    "# Imprimimos los primeros datos del Dataframe\n",
    "df_bioact.head()"
   ]
  },
  {
   "cell_type": "markdown",
   "id": "626601c2-45ff-4868-90f6-398cfb500bcd",
   "metadata": {
    "pycharm": {
     "name": "#%% md\n"
    }
   },
   "source": [
    "Para continuar usando el Data Frame en la práctica sin necesidad de siempre estarnos conectando a ChEMBL, vamos a guardar el Data Frame obtenido como un archivo separado por comas (data/compuestos.csv)"
   ]
  },
  {
   "cell_type": "code",
   "execution_count": 27,
   "id": "93433e81-f986-4cab-86ce-6ce498637102",
   "metadata": {
    "pycharm": {
     "name": "#%%\n"
    }
   },
   "outputs": [],
   "source": [
    "df_bioact.to_csv(\"./data/compuestos.csv\", index=0)"
   ]
  },
  {
   "cell_type": "markdown",
   "id": "57ea441b",
   "metadata": {
    "pycharm": {
     "name": "#%% md\n"
    }
   },
   "source": [
    "En adelante, si queremos utilizar el Dataframe, podemos cargar el archivo guardado"
   ]
  },
  {
   "cell_type": "code",
   "execution_count": 28,
   "id": "75ca8bec",
   "metadata": {
    "pycharm": {
     "name": "#%%\n"
    }
   },
   "outputs": [
    {
     "data": {
      "text/html": [
       "<div>\n",
       "<style scoped>\n",
       "    .dataframe tbody tr th:only-of-type {\n",
       "        vertical-align: middle;\n",
       "    }\n",
       "\n",
       "    .dataframe tbody tr th {\n",
       "        vertical-align: top;\n",
       "    }\n",
       "\n",
       "    .dataframe thead th {\n",
       "        text-align: right;\n",
       "    }\n",
       "</style>\n",
       "<table border=\"1\" class=\"dataframe\">\n",
       "  <thead>\n",
       "    <tr style=\"text-align: right;\">\n",
       "      <th></th>\n",
       "      <th>molecule_chembl_id</th>\n",
       "      <th>pchembl_value</th>\n",
       "      <th>relation</th>\n",
       "      <th>type</th>\n",
       "      <th>value</th>\n",
       "    </tr>\n",
       "  </thead>\n",
       "  <tbody>\n",
       "    <tr>\n",
       "      <th>0</th>\n",
       "      <td>CHEMBL564450</td>\n",
       "      <td>9.85</td>\n",
       "      <td>=</td>\n",
       "      <td>IC50</td>\n",
       "      <td>0.00014</td>\n",
       "    </tr>\n",
       "    <tr>\n",
       "      <th>1</th>\n",
       "      <td>CHEMBL3957649</td>\n",
       "      <td>9.70</td>\n",
       "      <td>=</td>\n",
       "      <td>IC50</td>\n",
       "      <td>0.20000</td>\n",
       "    </tr>\n",
       "    <tr>\n",
       "      <th>2</th>\n",
       "      <td>CHEMBL3942619</td>\n",
       "      <td>9.70</td>\n",
       "      <td>=</td>\n",
       "      <td>IC50</td>\n",
       "      <td>0.20000</td>\n",
       "    </tr>\n",
       "    <tr>\n",
       "      <th>3</th>\n",
       "      <td>CHEMBL3963605</td>\n",
       "      <td>9.70</td>\n",
       "      <td>=</td>\n",
       "      <td>IC50</td>\n",
       "      <td>0.20000</td>\n",
       "    </tr>\n",
       "    <tr>\n",
       "      <th>4</th>\n",
       "      <td>CHEMBL2386090</td>\n",
       "      <td>9.70</td>\n",
       "      <td>=</td>\n",
       "      <td>IC50</td>\n",
       "      <td>0.20000</td>\n",
       "    </tr>\n",
       "  </tbody>\n",
       "</table>\n",
       "</div>"
      ],
      "text/plain": [
       "  molecule_chembl_id  pchembl_value relation  type    value\n",
       "0       CHEMBL564450           9.85        =  IC50  0.00014\n",
       "1      CHEMBL3957649           9.70        =  IC50  0.20000\n",
       "2      CHEMBL3942619           9.70        =  IC50  0.20000\n",
       "3      CHEMBL3963605           9.70        =  IC50  0.20000\n",
       "4      CHEMBL2386090           9.70        =  IC50  0.20000"
      ]
     },
     "execution_count": 28,
     "metadata": {},
     "output_type": "execute_result"
    }
   ],
   "source": [
    "df_bioact = pd.read_csv(\"data/compuestos.csv\")\n",
    "df_bioact.head()"
   ]
  },
  {
   "cell_type": "markdown",
   "id": "11f74443-157b-4a05-8619-846f9b0df968",
   "metadata": {
    "pycharm": {
     "name": "#%% md\n"
    }
   },
   "source": [
    "## Datos de los compuestos\n",
    "\n",
    "A continuación vamos a obtener los datos de las moléculas que estan almacenados dentro de cada molecule_chembl_id"
   ]
  },
  {
   "cell_type": "code",
   "execution_count": 29,
   "id": "77d28bf9-cc57-4907-b947-7079ae41f8e0",
   "metadata": {
    "pycharm": {
     "name": "#%%\n"
    }
   },
   "outputs": [],
   "source": [
    "# Cargamos el archivo antes guardado\n",
    "df_bioact = pd.read_csv(\"data/compuestos.csv\")"
   ]
  },
  {
   "cell_type": "code",
   "execution_count": 30,
   "id": "c96968a6-8b33-4a9b-8072-5c7db156fb88",
   "metadata": {
    "pycharm": {
     "name": "#%%\n"
    }
   },
   "outputs": [],
   "source": [
    "# Primero tenemos que obtener la lista de los compuestos que definimos como bioactivos\n",
    "lista_comp_id = list(df_bioact['molecule_chembl_id'])\n",
    "# Obtener la estructura de cada compuesto\n",
    "lista_compuestos = compounds.filter(molecule_chembl_id__in = lista_comp_id) \\\n",
    "                            .only('molecule_chembl_id','molecule_structures')"
   ]
  },
  {
   "cell_type": "code",
   "execution_count": 31,
   "id": "c7061d81-a918-4fa3-9e85-acf4d0882a0b",
   "metadata": {
    "pycharm": {
     "name": "#%%\n"
    }
   },
   "outputs": [
    {
     "name": "stdout",
     "output_type": "stream",
     "text": [
      "Total de compuestos es: 2291\n"
     ]
    },
    {
     "data": {
      "text/html": [
       "<div>\n",
       "<style scoped>\n",
       "    .dataframe tbody tr th:only-of-type {\n",
       "        vertical-align: middle;\n",
       "    }\n",
       "\n",
       "    .dataframe tbody tr th {\n",
       "        vertical-align: top;\n",
       "    }\n",
       "\n",
       "    .dataframe thead th {\n",
       "        text-align: right;\n",
       "    }\n",
       "</style>\n",
       "<table border=\"1\" class=\"dataframe\">\n",
       "  <thead>\n",
       "    <tr style=\"text-align: right;\">\n",
       "      <th></th>\n",
       "      <th>molecule_chembl_id</th>\n",
       "      <th>molecule_structures</th>\n",
       "    </tr>\n",
       "  </thead>\n",
       "  <tbody>\n",
       "    <tr>\n",
       "      <th>0</th>\n",
       "      <td>CHEMBL6246</td>\n",
       "      <td>{'canonical_smiles': 'O=c1oc2c(O)c(O)cc3c(=O)o...</td>\n",
       "    </tr>\n",
       "    <tr>\n",
       "      <th>1</th>\n",
       "      <td>CHEMBL6291</td>\n",
       "      <td>{'canonical_smiles': 'Cn1cc(C2=C(c3cn(CCCSC(=N...</td>\n",
       "    </tr>\n",
       "    <tr>\n",
       "      <th>2</th>\n",
       "      <td>CHEMBL28</td>\n",
       "      <td>{'canonical_smiles': 'O=c1cc(-c2ccc(O)cc2)oc2c...</td>\n",
       "    </tr>\n",
       "    <tr>\n",
       "      <th>3</th>\n",
       "      <td>CHEMBL7463</td>\n",
       "      <td>{'canonical_smiles': 'CN(C)CCCn1cc(C2=C(c3c[nH...</td>\n",
       "    </tr>\n",
       "    <tr>\n",
       "      <th>4</th>\n",
       "      <td>CHEMBL50</td>\n",
       "      <td>{'canonical_smiles': 'O=c1c(O)c(-c2ccc(O)c(O)c...</td>\n",
       "    </tr>\n",
       "  </tbody>\n",
       "</table>\n",
       "</div>"
      ],
      "text/plain": [
       "  molecule_chembl_id                                molecule_structures\n",
       "0         CHEMBL6246  {'canonical_smiles': 'O=c1oc2c(O)c(O)cc3c(=O)o...\n",
       "1         CHEMBL6291  {'canonical_smiles': 'Cn1cc(C2=C(c3cn(CCCSC(=N...\n",
       "2           CHEMBL28  {'canonical_smiles': 'O=c1cc(-c2ccc(O)cc2)oc2c...\n",
       "3         CHEMBL7463  {'canonical_smiles': 'CN(C)CCCn1cc(C2=C(c3c[nH...\n",
       "4           CHEMBL50  {'canonical_smiles': 'O=c1c(O)c(-c2ccc(O)c(O)c..."
      ]
     },
     "execution_count": 31,
     "metadata": {},
     "output_type": "execute_result"
    }
   ],
   "source": [
    "# Debemos convertir la lista obtenida en un dataframe. Esto puede tardar unos minutos\n",
    "df_comp = pd.DataFrame(lista_compuestos)\n",
    "# Eliminamos duplicados\n",
    "df_comp = df_comp.drop_duplicates('molecule_chembl_id', keep = 'first')\n",
    "# print(f'El número total de compuestos es: ' + str(len(dataframe_comp)))\n",
    "print(f'Total de compuestos es: {str(len(df_comp))}')\n",
    "df_comp.head()"
   ]
  },
  {
   "cell_type": "markdown",
   "id": "b28ba27f-1564-40ff-aaf2-873ddce01521",
   "metadata": {
    "pycharm": {
     "name": "#%% md\n"
    }
   },
   "source": [
    "Los compuestos tienen distintos tipos de representaciones como el SMILES, el InChI y el InChI Key. Nos interesa unicamente quedarnos con el SMILES ya que describe la estructura química."
   ]
  },
  {
   "cell_type": "code",
   "execution_count": 32,
   "id": "314eef2a-838b-459e-af78-3b3799d5db3e",
   "metadata": {
    "pycharm": {
     "name": "#%%\n"
    }
   },
   "outputs": [
    {
     "data": {
      "text/html": [
       "<div>\n",
       "<style scoped>\n",
       "    .dataframe tbody tr th:only-of-type {\n",
       "        vertical-align: middle;\n",
       "    }\n",
       "\n",
       "    .dataframe tbody tr th {\n",
       "        vertical-align: top;\n",
       "    }\n",
       "\n",
       "    .dataframe thead th {\n",
       "        text-align: right;\n",
       "    }\n",
       "</style>\n",
       "<table border=\"1\" class=\"dataframe\">\n",
       "  <thead>\n",
       "    <tr style=\"text-align: right;\">\n",
       "      <th></th>\n",
       "      <th>molecule_chembl_id</th>\n",
       "      <th>molecule_structures</th>\n",
       "    </tr>\n",
       "  </thead>\n",
       "  <tbody>\n",
       "    <tr>\n",
       "      <th>0</th>\n",
       "      <td>CHEMBL6246</td>\n",
       "      <td>O=c1oc2c(O)c(O)cc3c(=O)oc4c(O)c(O)cc1c4c23</td>\n",
       "    </tr>\n",
       "    <tr>\n",
       "      <th>1</th>\n",
       "      <td>CHEMBL6291</td>\n",
       "      <td>Cn1cc(C2=C(c3cn(CCCSC(=N)N)c4ccccc34)C(=O)NC2=...</td>\n",
       "    </tr>\n",
       "    <tr>\n",
       "      <th>2</th>\n",
       "      <td>CHEMBL28</td>\n",
       "      <td>O=c1cc(-c2ccc(O)cc2)oc2cc(O)cc(O)c12</td>\n",
       "    </tr>\n",
       "    <tr>\n",
       "      <th>3</th>\n",
       "      <td>CHEMBL7463</td>\n",
       "      <td>CN(C)CCCn1cc(C2=C(c3c[nH]c4ccccc34)C(=O)NC2=O)...</td>\n",
       "    </tr>\n",
       "    <tr>\n",
       "      <th>4</th>\n",
       "      <td>CHEMBL50</td>\n",
       "      <td>O=c1c(O)c(-c2ccc(O)c(O)c2)oc2cc(O)cc(O)c12</td>\n",
       "    </tr>\n",
       "  </tbody>\n",
       "</table>\n",
       "</div>"
      ],
      "text/plain": [
       "  molecule_chembl_id                                molecule_structures\n",
       "0         CHEMBL6246         O=c1oc2c(O)c(O)cc3c(=O)oc4c(O)c(O)cc1c4c23\n",
       "1         CHEMBL6291  Cn1cc(C2=C(c3cn(CCCSC(=N)N)c4ccccc34)C(=O)NC2=...\n",
       "2           CHEMBL28               O=c1cc(-c2ccc(O)cc2)oc2cc(O)cc(O)c12\n",
       "3         CHEMBL7463  CN(C)CCCn1cc(C2=C(c3c[nH]c4ccccc34)C(=O)NC2=O)...\n",
       "4           CHEMBL50         O=c1c(O)c(-c2ccc(O)c(O)c2)oc2cc(O)cc(O)c12"
      ]
     },
     "execution_count": 32,
     "metadata": {},
     "output_type": "execute_result"
    }
   ],
   "source": [
    "for i, cmpd in df_comp.iterrows():\n",
    "    if df_comp.loc[i]['molecule_structures'] is not None:\n",
    "        df_comp.loc[i]['molecule_structures'] = cmpd['molecule_structures']['canonical_smiles']\n",
    "\n",
    "df_comp.head()"
   ]
  },
  {
   "cell_type": "markdown",
   "id": "16416518-adc0-461c-8ba8-1cd0d8c8f03d",
   "metadata": {
    "pycharm": {
     "name": "#%% md\n"
    }
   },
   "source": [
    "## Combinar los Dataframe\n",
    "\n",
    "Ahora tenemos dos dataframes que vamos a combinar para tener todos los datos en uno solo dataframe y poder guardarlos"
   ]
  },
  {
   "cell_type": "code",
   "execution_count": 33,
   "id": "c2aeec75-3767-4444-a6c7-8875303f87a8",
   "metadata": {
    "pycharm": {
     "name": "#%%\n"
    }
   },
   "outputs": [
    {
     "name": "stdout",
     "output_type": "stream",
     "text": [
      "Total de compuestos es: 2291\n"
     ]
    },
    {
     "data": {
      "text/html": [
       "<div>\n",
       "<style scoped>\n",
       "    .dataframe tbody tr th:only-of-type {\n",
       "        vertical-align: middle;\n",
       "    }\n",
       "\n",
       "    .dataframe tbody tr th {\n",
       "        vertical-align: top;\n",
       "    }\n",
       "\n",
       "    .dataframe thead th {\n",
       "        text-align: right;\n",
       "    }\n",
       "</style>\n",
       "<table border=\"1\" class=\"dataframe\">\n",
       "  <thead>\n",
       "    <tr style=\"text-align: right;\">\n",
       "      <th></th>\n",
       "      <th>molecule_chembl_id</th>\n",
       "      <th>pchembl_value</th>\n",
       "      <th>molecule_structures</th>\n",
       "    </tr>\n",
       "  </thead>\n",
       "  <tbody>\n",
       "    <tr>\n",
       "      <th>0</th>\n",
       "      <td>CHEMBL564450</td>\n",
       "      <td>9.85</td>\n",
       "      <td>COc1cc(C2=C(c3cn(CCN4CCN(C)CC4)c4ccccc34)C(=O)...</td>\n",
       "    </tr>\n",
       "    <tr>\n",
       "      <th>1</th>\n",
       "      <td>CHEMBL3957649</td>\n",
       "      <td>9.70</td>\n",
       "      <td>Nc1ncc(-c2ccccc2F)nc1C(=O)Nc1cnccc1N1CCNCC1</td>\n",
       "    </tr>\n",
       "    <tr>\n",
       "      <th>2</th>\n",
       "      <td>CHEMBL3942619</td>\n",
       "      <td>9.70</td>\n",
       "      <td>COc1ccc(-c2cnc(N)c(C(=O)Nc3cnccc3N3CCC(N)CC3)n...</td>\n",
       "    </tr>\n",
       "    <tr>\n",
       "      <th>3</th>\n",
       "      <td>CHEMBL3963605</td>\n",
       "      <td>9.70</td>\n",
       "      <td>Nc1ncc(-c2ccccc2)nc1C(=O)Nc1cnccc1N1CCC(N)CC1</td>\n",
       "    </tr>\n",
       "    <tr>\n",
       "      <th>4</th>\n",
       "      <td>CHEMBL2386090</td>\n",
       "      <td>9.70</td>\n",
       "      <td>O=C1NC(=O)C(c2cn3c4c(cccc24)CN(C(=O)c2cnccn2)C...</td>\n",
       "    </tr>\n",
       "  </tbody>\n",
       "</table>\n",
       "</div>"
      ],
      "text/plain": [
       "  molecule_chembl_id  pchembl_value  \\\n",
       "0       CHEMBL564450           9.85   \n",
       "1      CHEMBL3957649           9.70   \n",
       "2      CHEMBL3942619           9.70   \n",
       "3      CHEMBL3963605           9.70   \n",
       "4      CHEMBL2386090           9.70   \n",
       "\n",
       "                                 molecule_structures  \n",
       "0  COc1cc(C2=C(c3cn(CCN4CCN(C)CC4)c4ccccc34)C(=O)...  \n",
       "1        Nc1ncc(-c2ccccc2F)nc1C(=O)Nc1cnccc1N1CCNCC1  \n",
       "2  COc1ccc(-c2cnc(N)c(C(=O)Nc3cnccc3N3CCC(N)CC3)n...  \n",
       "3      Nc1ncc(-c2ccccc2)nc1C(=O)Nc1cnccc1N1CCC(N)CC1  \n",
       "4  O=C1NC(=O)C(c2cn3c4c(cccc24)CN(C(=O)c2cnccn2)C...  "
      ]
     },
     "execution_count": 33,
     "metadata": {},
     "output_type": "execute_result"
    }
   ],
   "source": [
    "# En el Dataframe de bioactividad se filtran solamente dos columnas\n",
    "df_output = pd.merge(df_bioact[['molecule_chembl_id','pchembl_value']], df_comp, on='molecule_chembl_id')\n",
    "print(f'Total de compuestos es: {str(len(df_output))}')\n",
    "df_output.head()"
   ]
  },
  {
   "cell_type": "markdown",
   "id": "153402ff-b090-48f6-9a92-aff104c892e4",
   "metadata": {
    "pycharm": {
     "name": "#%% md\n"
    }
   },
   "source": [
    "Se pueden renombrar las columnas"
   ]
  },
  {
   "cell_type": "code",
   "execution_count": 34,
   "id": "cfaff736-a9ee-4547-be51-d77260de6f9f",
   "metadata": {
    "pycharm": {
     "name": "#%%\n"
    }
   },
   "outputs": [
    {
     "name": "stdout",
     "output_type": "stream",
     "text": [
      "Total de compuestos es: 2291\n"
     ]
    },
    {
     "data": {
      "text/html": [
       "<div>\n",
       "<style scoped>\n",
       "    .dataframe tbody tr th:only-of-type {\n",
       "        vertical-align: middle;\n",
       "    }\n",
       "\n",
       "    .dataframe tbody tr th {\n",
       "        vertical-align: top;\n",
       "    }\n",
       "\n",
       "    .dataframe thead th {\n",
       "        text-align: right;\n",
       "    }\n",
       "</style>\n",
       "<table border=\"1\" class=\"dataframe\">\n",
       "  <thead>\n",
       "    <tr style=\"text-align: right;\">\n",
       "      <th></th>\n",
       "      <th>molecule_chembl_id</th>\n",
       "      <th>pIC50</th>\n",
       "      <th>smiles</th>\n",
       "    </tr>\n",
       "  </thead>\n",
       "  <tbody>\n",
       "    <tr>\n",
       "      <th>0</th>\n",
       "      <td>CHEMBL564450</td>\n",
       "      <td>9.85</td>\n",
       "      <td>COc1cc(C2=C(c3cn(CCN4CCN(C)CC4)c4ccccc34)C(=O)...</td>\n",
       "    </tr>\n",
       "    <tr>\n",
       "      <th>1</th>\n",
       "      <td>CHEMBL3957649</td>\n",
       "      <td>9.70</td>\n",
       "      <td>Nc1ncc(-c2ccccc2F)nc1C(=O)Nc1cnccc1N1CCNCC1</td>\n",
       "    </tr>\n",
       "    <tr>\n",
       "      <th>2</th>\n",
       "      <td>CHEMBL3942619</td>\n",
       "      <td>9.70</td>\n",
       "      <td>COc1ccc(-c2cnc(N)c(C(=O)Nc3cnccc3N3CCC(N)CC3)n...</td>\n",
       "    </tr>\n",
       "    <tr>\n",
       "      <th>3</th>\n",
       "      <td>CHEMBL3963605</td>\n",
       "      <td>9.70</td>\n",
       "      <td>Nc1ncc(-c2ccccc2)nc1C(=O)Nc1cnccc1N1CCC(N)CC1</td>\n",
       "    </tr>\n",
       "    <tr>\n",
       "      <th>4</th>\n",
       "      <td>CHEMBL2386090</td>\n",
       "      <td>9.70</td>\n",
       "      <td>O=C1NC(=O)C(c2cn3c4c(cccc24)CN(C(=O)c2cnccn2)C...</td>\n",
       "    </tr>\n",
       "  </tbody>\n",
       "</table>\n",
       "</div>"
      ],
      "text/plain": [
       "  molecule_chembl_id  pIC50                                             smiles\n",
       "0       CHEMBL564450   9.85  COc1cc(C2=C(c3cn(CCN4CCN(C)CC4)c4ccccc34)C(=O)...\n",
       "1      CHEMBL3957649   9.70        Nc1ncc(-c2ccccc2F)nc1C(=O)Nc1cnccc1N1CCNCC1\n",
       "2      CHEMBL3942619   9.70  COc1ccc(-c2cnc(N)c(C(=O)Nc3cnccc3N3CCC(N)CC3)n...\n",
       "3      CHEMBL3963605   9.70      Nc1ncc(-c2ccccc2)nc1C(=O)Nc1cnccc1N1CCC(N)CC1\n",
       "4      CHEMBL2386090   9.70  O=C1NC(=O)C(c2cn3c4c(cccc24)CN(C(=O)c2cnccn2)C..."
      ]
     },
     "execution_count": 34,
     "metadata": {},
     "output_type": "execute_result"
    }
   ],
   "source": [
    "df_output = df_output.rename(columns= {'molecule_structures':'smiles', 'pchembl_value':'pIC50'})\n",
    "print(f'Total de compuestos es: {str(len(df_output))}')\n",
    "df_output.head()"
   ]
  },
  {
   "cell_type": "markdown",
   "id": "aba828e0-2ab3-4a0d-a638-35f81d237f7e",
   "metadata": {
    "pycharm": {
     "name": "#%% md\n"
    }
   },
   "source": [
    "Para poder emplear la siguiente función de rdkit es necesario que todos los compuestos tenga SMILES, por esto eliminamos los compuestos sin SMILES en el dataframe"
   ]
  },
  {
   "cell_type": "code",
   "execution_count": 35,
   "id": "b680a0e6-1220-4078-a235-40c2fc86173d",
   "metadata": {
    "pycharm": {
     "name": "#%%\n"
    }
   },
   "outputs": [
    {
     "name": "stdout",
     "output_type": "stream",
     "text": [
      "Total de compuestos es: 2291\n"
     ]
    },
    {
     "data": {
      "text/html": [
       "<div>\n",
       "<style scoped>\n",
       "    .dataframe tbody tr th:only-of-type {\n",
       "        vertical-align: middle;\n",
       "    }\n",
       "\n",
       "    .dataframe tbody tr th {\n",
       "        vertical-align: top;\n",
       "    }\n",
       "\n",
       "    .dataframe thead th {\n",
       "        text-align: right;\n",
       "    }\n",
       "</style>\n",
       "<table border=\"1\" class=\"dataframe\">\n",
       "  <thead>\n",
       "    <tr style=\"text-align: right;\">\n",
       "      <th></th>\n",
       "      <th>molecule_chembl_id</th>\n",
       "      <th>pIC50</th>\n",
       "      <th>smiles</th>\n",
       "    </tr>\n",
       "  </thead>\n",
       "  <tbody>\n",
       "    <tr>\n",
       "      <th>0</th>\n",
       "      <td>CHEMBL564450</td>\n",
       "      <td>9.85</td>\n",
       "      <td>COc1cc(C2=C(c3cn(CCN4CCN(C)CC4)c4ccccc34)C(=O)...</td>\n",
       "    </tr>\n",
       "    <tr>\n",
       "      <th>1</th>\n",
       "      <td>CHEMBL3957649</td>\n",
       "      <td>9.70</td>\n",
       "      <td>Nc1ncc(-c2ccccc2F)nc1C(=O)Nc1cnccc1N1CCNCC1</td>\n",
       "    </tr>\n",
       "    <tr>\n",
       "      <th>2</th>\n",
       "      <td>CHEMBL3942619</td>\n",
       "      <td>9.70</td>\n",
       "      <td>COc1ccc(-c2cnc(N)c(C(=O)Nc3cnccc3N3CCC(N)CC3)n...</td>\n",
       "    </tr>\n",
       "    <tr>\n",
       "      <th>3</th>\n",
       "      <td>CHEMBL3963605</td>\n",
       "      <td>9.70</td>\n",
       "      <td>Nc1ncc(-c2ccccc2)nc1C(=O)Nc1cnccc1N1CCC(N)CC1</td>\n",
       "    </tr>\n",
       "    <tr>\n",
       "      <th>4</th>\n",
       "      <td>CHEMBL2386090</td>\n",
       "      <td>9.70</td>\n",
       "      <td>O=C1NC(=O)C(c2cn3c4c(cccc24)CN(C(=O)c2cnccn2)C...</td>\n",
       "    </tr>\n",
       "  </tbody>\n",
       "</table>\n",
       "</div>"
      ],
      "text/plain": [
       "  molecule_chembl_id  pIC50                                             smiles\n",
       "0       CHEMBL564450   9.85  COc1cc(C2=C(c3cn(CCN4CCN(C)CC4)c4ccccc34)C(=O)...\n",
       "1      CHEMBL3957649   9.70        Nc1ncc(-c2ccccc2F)nc1C(=O)Nc1cnccc1N1CCNCC1\n",
       "2      CHEMBL3942619   9.70  COc1ccc(-c2cnc(N)c(C(=O)Nc3cnccc3N3CCC(N)CC3)n...\n",
       "3      CHEMBL3963605   9.70      Nc1ncc(-c2ccccc2)nc1C(=O)Nc1cnccc1N1CCC(N)CC1\n",
       "4      CHEMBL2386090   9.70  O=C1NC(=O)C(c2cn3c4c(cccc24)CN(C(=O)c2cnccn2)C..."
      ]
     },
     "execution_count": 35,
     "metadata": {},
     "output_type": "execute_result"
    }
   ],
   "source": [
    "df_output = df_output[~df_output['smiles'].isnull()]\n",
    "print(f'Total de compuestos es: {str(len(df_output))}')\n",
    "df_output.head()"
   ]
  },
  {
   "cell_type": "markdown",
   "id": "bf8ab5d4-0762-4983-ad1b-bff5e5d82357",
   "metadata": {
    "pycharm": {
     "name": "#%% md\n"
    }
   },
   "source": [
    "## Dibujar la estructura de la molécula\n",
    "\n",
    "Vamos a añadir una nueva columna al dataframe con la función `.AddMoleculeColumnToFrame` la cual convierte las moléculas contenidas en \"smilesCol\" en moléculas RDKit y las agrega al dataframe"
   ]
  },
  {
   "cell_type": "code",
   "execution_count": 36,
   "id": "fdf4de68-a012-464c-93ee-4f316a4d950d",
   "metadata": {
    "pycharm": {
     "name": "#%%\n"
    }
   },
   "outputs": [
    {
     "data": {
      "text/html": [
       "<div>\n",
       "<style scoped>\n",
       "    .dataframe tbody tr th:only-of-type {\n",
       "        vertical-align: middle;\n",
       "    }\n",
       "\n",
       "    .dataframe tbody tr th {\n",
       "        vertical-align: top;\n",
       "    }\n",
       "\n",
       "    .dataframe thead th {\n",
       "        text-align: right;\n",
       "    }\n",
       "</style>\n",
       "<table border=\"1\" class=\"dataframe\">\n",
       "  <thead>\n",
       "    <tr style=\"text-align: right;\">\n",
       "      <th></th>\n",
       "      <th>molecule_chembl_id</th>\n",
       "      <th>pIC50</th>\n",
       "      <th>smiles</th>\n",
       "      <th>ROMol</th>\n",
       "    </tr>\n",
       "  </thead>\n",
       "  <tbody>\n",
       "    <tr>\n",
       "      <th>0</th>\n",
       "      <td>CHEMBL564450</td>\n",
       "      <td>9.85</td>\n",
       "      <td>COc1cc(C2=C(c3cn(CCN4CCN(C)CC4)c4ccccc34)C(=O)...</td>\n",
       "      <td><img data-content=\"rdkit/molecule\" src=\"data:image/png;base64,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\" alt=\"Mol\"/></td>\n",
       "    </tr>\n",
       "    <tr>\n",
       "      <th>1</th>\n",
       "      <td>CHEMBL3957649</td>\n",
       "      <td>9.70</td>\n",
       "      <td>Nc1ncc(-c2ccccc2F)nc1C(=O)Nc1cnccc1N1CCNCC1</td>\n",
       "      <td><img data-content=\"rdkit/molecule\" src=\"data:image/png;base64,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\" alt=\"Mol\"/></td>\n",
       "    </tr>\n",
       "    <tr>\n",
       "      <th>2</th>\n",
       "      <td>CHEMBL3942619</td>\n",
       "      <td>9.70</td>\n",
       "      <td>COc1ccc(-c2cnc(N)c(C(=O)Nc3cnccc3N3CCC(N)CC3)n...</td>\n",
       "      <td><img data-content=\"rdkit/molecule\" src=\"data:image/png;base64,iVBORw0KGgoAAAANSUhEUgAAAMgAAADICAIAAAAiOjnJAAAABmJLR0QA/wD/AP+gvaeTAAAgAElEQVR4nO2deVyU1f7HP8OwySKyqYAbKilGiokLgizillcNFE1L/KldTVtQsyK7Xune672RpQ7lWmmLlqblglgiAiIEKiUquIuIG4gsyjrIzHx/fxwaJxCYYZ5nYIbn/eKP4eGZ7zkP85lznuec8/0cERFBQIBrjFq7AgKGiSAsAV4QhCXAC4KwBHhBEJYALwjCEuAFQVgCvCAIS4AXBGEJ8IIgLAFeEIQlwAuCsAR4QRCWAC8IwhLgBUFYArwgCEuAFwRhCfCCICwBXhCEJcALgrAEeEEQlgAvCMIS4AVBWAK8YJjCWrcO2dl1r199FcrUyd278cYbda/nz4eQUskfhims3FyUl9e9zsp6IqD795GUhF9/BYArV1qnbu0E49auAF+kpaGkBAAePfrL8XffxerVCAhojTq1JwxWWI8eobgYAGSyvxy3tsbrr+N//2uVSrUjDFZYL7wAb28A2LCh/p9efhl/+xvu3QMAIohEuq5be8BghaXKwYO4fh1mZnW/ikT49FN4emL/fqxbh4MHYW/fqvUzREQG6TZTVQVTUxgbA0BZGaytIRIhPByffAKRCKamAFBUBG9vXL+OQYNw5Ai6dm3dKhsahimshuzahc6dERT0l4P5+Rg/HllZcHVFXBzc3FqpcoaIYQ431CMqCnv24OrV+sednJCcDG9v5ObCzw9nz3JW4kcfYdq0utfjx3MWVo9oF8J6/33s34/Fi5/yJ1tbxMdj/HgUFCAwEKmp3JQolaK4GPv2AXgyotauaBfCahpLS8TEYPp0PHyI8eNx9GiBlgGlUgB47z2sXdtOVQVBWAxTU+zahUWL4Ol5a/Jk1+3bt7cgSG4uoqMxdiw8PADAwgLLl+Pf/+a4qnoDCajwz3/+C4BIJJJIJOqcr1BQRgb94x/k4UFA3Y+5OYWHU1ISEVFwMPXpQ3I5PXzIa8XbHIKw6vP5558bGRkBiIiIaOyc2traY8eOffBBXvfuT/Rka0uzZ9NPP1FFBa1fTydPEhFdv05eXrR0Kbm7061buruKVkcQ1lPYuXOniYkJgLlz59bW1iqPV1VVxcTELFy4sHPnzgACAv4FUOfOFBZGMTFUU/P0aGVlNHAgAdSzJ12+rKNLaHUEYT2d2NhYCwsLAMHBwbdv3962bdvkyZM7dOigvIV49tlnP/poS0YGKRRP3pWbS1euPCVaaSn5+hJAdnaUnq6zi2hNBGE1SkpKSqdOnQCwnpG98PHxWbNmzbVr11TPzM6mqCjy8SGRiGbPfno0qZRCQgggKyuKi9NF/VsXQVhNERcXZ2xsbGlpOWbMGIlEcvfuXeWfZDLZ8ePHV69OdnV9cpvVsSMtWtRoNJmM5s8ngExNac8eXdS/FRGE1RS7du0CMHHiROWR6urq+Pj48PDwrl27AvD0DATIwaHuNksqbSagQkFLlhBAJia0c2cqv7VvVdrF6oYWk56eDmDkyJHs159//nnOnDlVVVXs1379+r3wwsjNmzFsGIzUGxAUiSCRwMEB8fF7wsJm3rnzUUREBD91b21aW9ltmqFDhwJISEhgv165cgXAgAEDIiMjf//9d20if/3118bGxgDCw8PlcjkXlW1bCMJqlKqqKlNTU7FY/OjRI+XB/Px8ruLv37/f3NwcwOzZsx8/fsxV2DaCIKxGOXHiBABPT0/+ikhMTOzYsSOAyZMnV1VV8VeQ7hHmChuF3WB5swXO/BAYGJiQkODo6Hjo0KEJEyY8qpf4oc8IwmoUHQgLgJeXV3Jycrdu3VJTU3/77Tdey9IlgrAa5eTJk+BfWADc3d0lEolCoVizZg3fZekM/RluSEhAVhb69sXf/qaDxJobN24UFBQ4ODj06dOHpyIqKiqsrKzY65ycHAADBgzgqSzdoyct1qpV+OUXDB2Ks2exYIEOCkxLSwMwcuRIEW8i7tOnj5ubW1FREXTV7eoSfWixZDIcOIBz5yASwccHgYEoKOA7q4bvT/r69euFhYUAHBwcoMNuV2foQ4v14AGcnJ50f7174/ZtvsusN+bOa3wddLu6Rx+E5eiIApV16Lm56N4dACQSJCfzUWBlZWVWVpaJiYmXlxcf8fHXFlEpMv66Xd2jD8IyNsbEiVi5EllZkEjQowe6dkVCAt5+GxMmICaG8wJPnz4tk8kGDRrElmTxAbuHUxWWIfWD0A9hAfjoI3h748ABuLiAZTqMHo1lyyCVYupUfPUVt6Xx/UlXVlZeuHDBxMRkyJAhOiiudWjtoX/NSUykHTvqXkdFEUAiEX38MYclTJo0CcAPP/zAYUxVjh07BmDo0KFEVFFRYWxsbGxsXFFRwVNxrYK+CevuXbK2JpGI1q+vO7JxIxkZEUDh4X9ZJtxSFAoFe1LLzc3VPtpT+c9//gNgyZIlRJSUlARgyJAhPJXVWuhJV6jE2RkffQSRCMuW4f33QYTXX8fOnTAxwWefVS9bJpfLtSzh2rVrRUVFTk5OvXr1Yke2b9+emZmpbc1VUO37VG+2DIrWVnaL+P57MjEhgObOJZZFc+yYvEePyX36vPjii9osE7hx48asWbMAjB07lh1JSEgwMjKysbE5fvw4J3VXtoh5eXn0Z7f7/fffcxK87aCfwiKi2FiysCCAgoOpupqIzqSn29nZARg9enRZWZlGwbKzs6Oionx8fNgDv7Ozs5WVVUpKChHV1tbOnTsXgJmZ2d69e7Wv+KVLl1gRRKRQKBwdHcFnt9ta6K2wiCg1lWxtCZBPmFBeXk5EFy5c6NatG4AhQ4bcv3+/6XfLZLLExMQlS5b07NlT2X7b2Ni89NJL/v7+TEn79u0jIoVC8fbbbwMQi8VffvmllrVm+fuhoaFEdPXqVQBdunTRMmYbRJ+FRUTZ2dSjh8Tb28vLq7CwkIhu3rz5zDPPAOjdu/f169cbvkOZdNpVZVLI0dExLCwsJiampqaGiGQy2aJFi5iStm3bxt744YcfAujRI2D9eq1Wey5YsADA2rVrieibb74BMHXqVG0Ctk30XFhE92/cYDMh7u7ut27dIqKioqLhw4cDcHJyOnfuHDutuLh4z549YWFh1tbWSj317t07PDw8JSXlqavOo6KiAIhEok8++YQd2bx5e69ejwGKiGj5A6iHhweAtLQ0InrttdcAKOMbEnovLCIqKCjw9PRkNy7nz58nokePHgUEBAB4/fXXt27dOmnSJJYyz2DZEBcuXGg2ckMfh337yMyMAJozh1SS7zWguLj48OHDUqmUiAYOHAggNdUA88AMQVhEVFpaOmrUKAB2dnasMYiNjWX3WwxTU9MJEyZs2bLl3r17GkXesWOHiYlJhw52K1YUymRERAkJZG1NAE2ZQtqsUy8rKxOLxSYmJga22p1hIMIiIqlUOnXqVACWlpYSiSQkJASAhYXFpEmTvv3224da2AjFxsb6+t4FaPr0OueP9HSysyMjI62S5ePj4wEMHz685SHaMIYjLCKqra2dM2cOADa2OW3atJrGLGA05ORJsrcngAIDiSWDZWfTn7f1GlNWVvbjjz+y7nvatGmc1LCtYVDCIiK2cjwwMBDATz/9xGHk7GxycSGAvLyosLAlER48ePDtt99OmjTJ7E/LeRsbG1NTU27r2UYwNGERkVwut7GxAXDnzh1uI+fmkpsbAdS/P+Xlqfuua9cK1qxZM3LkSKVrjVgs9vPzW7t27cKFC9mvW7du5baqrY4BCisrKwtAz549+QheUECDBxNAzs50/nxTZ2ZnU2QkDRlCbm7nmZ7Mzc2Za43qA0RUVJRIJBKJRJGRkXxUuLUwQGF98cUXAGbOnMlT/IcPyc+POnSgf/7zyW3WP/5BRPT4McXH0xtvULduT7yN7Oxo0aKlP/30U2MLY5Q+Dm+99ZbB+DgYoLDmzZsHIDo6mr8iqqooPZ0iIqhvX8rJISLy9qb33mMzTHU/PXrQW2/RsWNqDXcZno+DAQqrX79+ADIyMvguKCKCtm2jKVOIiLy9aelSAqh3bwoPp5QUjYfmlT4OkyZNMoCRLX1bj9UcpaUyC4uJ9vY9Bw0apIPi3N3xzDP4+WcAWLoU168jJwfR0fD11TipVunjEBsbawg+Dq2tbI45fJgA8vPTRVkREZSWRuXl5OtLzz/PTcxLly716NEDgIeHh6ozZQuQy+W///57ZGRk//79o6Ojdbzky9CEtXIlsUliHcCERUR79pCTE2dh7969+9xzzwFwdXWt56KrDtXV1bGxsQsWLGCe4QwTExMjI6PPP/+cs1o2B+/CkkqlunzSGT2aADpwQBdl3blDyue8rCwuIxcXF7PFyl27dj179qw6b6moqIiJiQkLC2M3aoxevXqFh4fHx8dLJJJmd0XgFr6EVVlZya7TxsZmxYoVa9as4akgVWQy6tiRAOLOdq/VqKioGDduHIBOnTqxtaxPpbCwkI3mm7LtPQE0YmbJZtMBLF68WAdfdY6Fde/evS1btowfP171OsViMYD33ntPwUUWTRNkZhJAffrwWojuqKmpmTFjBgALC4vDhw+r/iknJ0cikSjXUrN/so+PT1RU1NWrVxsLeOjQIbYHQkhIiLRZh2ft4EZYly/Tpk0XRowYoTprERAQIJFIbt68uW/fPjZIM2fOnNqWLWJSj02bCGjUwl8fkclkbDGgsbHx9u3bs7OzIyMjVd2OOnToMGnSpK1btxYUFDQWRC6Xb9y4kQ2PJScns/muFmQGaIRWwlLOWgDUu7cUgLm5ObvOeiawCQkJbOnmlClT+BukCQsjgDZu5Cl866BQKFasWAFAtRNwcHCYN2/ewYMH1flnLl++HMDEiRMrKyuJKCsry9nZGcDQoUMfPHjAU7WbF9Zbb9GSJXWvx42jmhqKi6NFi8jZ+ckos709/d//0cGDcazqT+X06dMs7cnf31+b1VFN0LcvAXTmDB+xW5lx48ZZWlra29svXLgwJiZGo9H5P/74gz0hDhs2rKioiIhu3LjRt29fqKzn5pzmhfXqq+TnR6dPExF5e9e1T+ynVy9asoQSE4ktrXwq1dXV77//PsuiuXjxYvfu3QE8//zzzWbRaERCAtXW0oMHtGMHXbtGyrW+Mlnd9m76TlBQEID9+/e37O05OTksM2DAgAG3b98movz8fLYgrGfPnpd52JRMLWEdP07+/iSTkbc3vfMODRhAERHqzlqwlSHKVvfmzZtsyqWxLJqWYWVF69YREe3fT1FR5OVVd7y8nAICuCqk1ZDL5WwQQRuX+Xv37rEl9r169WI3+KWlpb6+vgDs7OxOcv39U0tYV6/SunW0YQN5ezfVOD2V3NxcNzc3AP3792e5v8XFxSNGjMBfs2i0xNeXxo6l27cNU1hnz55lX0UiksvlrDtrASUlJT4+PgC6dOly5swZIqqsrJw4cSIAKyuro0ePclhndYVVW0uBgU8+MI0oKCgYPHgwVLJoysvLx44dC8DW1labHBWZjJKTKTeXRo2ijAwKDa0T1sCBNGMGzZhBU6cagrA2b94M4JVXXiGi7OxskUgUFBTUslCVlZUvvPACU1J8fDwR1dbWsvUgXKV6M9S6eWcrQ1JTycenhcWUl5ePGTMGKlk0Uqk0NDSUDdL88ssvGkWrrqb4eAoPJycnAmjlSho1ioho8WJ64w0DbLHYQv4NGzYQF6vNampqZs6cyZTEVkUrFAr25CgWi7/44gtO6ty8sM6do9mzafdubUtSzaI5cuQIEclkMpYWbGpqumvXrmYjlJTQjh00bRpZWj55gHBzo+joOmGVlJCLiwEKi91L/PHHH8TRajOFQrFs2TKmpK+++oodVCbocrKWtXlhSSQE0Pz52pdFMpns1VdfZUr68ccfiUihUERGRrLrWcduvxtw69atDRs2zJy50Ni4TkwiEQ0dSv/9LylzTjdvrnsRF0fHj5MyUk2N3g9rPXjwQCQSWVpasrHl/v37AzjNntK1Q6mkj/+0rdu0aZORkZGbm5v2LnDNC+ullwggrb0w6lAoFO+++y77rmzZsoUdjI6ObjhF2nDWolevHB8fkkjo9m1uKqMXxMTEAAgICCCikpISkUjUoUMHrtLaWKq3v7+/ckZk9OjRALZv365l5OaF1b07AXVtw8mT3HyoEomEyUWppO+++46t+w4NDV2+fDkbvmNYWVmFhobu3LmztLScg7L1DTbsvmLFCiI6fPgwgFGs4+eImJgY1fFqZqmi5W6M1Kyw7t4lgDp1IjYd3rs3AdwsEfnmm2+Ykt5880022X7gwAEzMzPmFwXA3t4+LCxsz549BmbOqSnMhCImJoaIVq5cyabzeSqrqKiItYjar7tvRlh79xJA48cTERUUEEDW1hoPZTXGgQMHzM3Ng4ODZX9GZOPL48ePb8wBpr1RW1trZWUlEomYSZOW4+/NcujQITbnpn2oZrY8SU8HAGaQmZYGAMOHQyxu+k3q8uKLL544cWLgwIHiPyNeu3YNwNq1a5999lluytBzzp8/X1FR4ebm5ujoKJfLMzIyALDhZT7g0Bi8GWExMbGNP1RFxhVs02XGvXv3bt261bFjR3d3dy7L0GdUP+ns7OyysrLevXt35W0fIQ6F1VSWTk1NjVh8sHPnwmHDWKkA18JSRekfbKTmlvDtgIY7o/Dnr6xsEZltnZY09RH+8ccfv/0W3KXLGBsb1NbWmplt6t//LBeFPh3D3KBBO5S724H//w/rdvv27dulSxftozUlLNUryczMTEh4QyR62c5O+0KbL04AQGFhYW5urrW1NbvjVBUZH3DrOK+usPi+qpqamszMTCMjI9W7rnYO2yJ62LBhYrG4tLQ0JyfH0tKSZYbxAbdf7KZu3lV3Z+S7OTlz5oxUKvXw8LC1teWpCL1DdU9DW1vbwsLCq1evssE/vovTnkZrmZeXd/fuXXt7ezYUy7ewhH6wIex/wnYIA+Dg4MDWdvNBYWHhjRs3LC0tuRroabQrZFc1YsQIkUh0796927dvd+rUic2A8oEgrIZ88MEHlpaWa9as0YGPA7vVGTFiBFctYqNRVD9pIyOjVatWyWQy/gYCBGE1xNXV1d7ePi0tzdfXNy4ujqXW8AT3///GhuTZ8C5/sweq5OXlAbC1teU7o1Xv0NLHQX2YmXm9tFhtaFRYR44cMTEx6d+//23+F6ns3r0bwMSJE/kuSB9R9XHIzMzko4jHjx9bWFiIRCIO0wwb7doGDRr07LPPXr582dfX98qVK5y1kE9D6AebwM7OLj4+fvz48QUFBYGBgampqdpEk8vlSUlJS5cuZaviGGfPnq2qqurXrx+XDwdNiE41PSg9PZ0rLTeEjV0lJCTwV4S+o/RxUO5JphENt6aysbFRrhaMjo4GMG/ePA4r3MyyGalUyrZ44Dw9SElVVZWpqalYLH7EnPkFGkHp46C6J1nTqLk1Fcut4CqNgtH8ClKZTDZ//nz2XdmzZ482hZWUlLDrnDNnjvJgSkoKgEGDBmkTuf2gXKj+6aefNnZOXl6emltTZWVlrV69mmXDnjhxgsN6qmUKomV6UF5e3meffRYUFKQcI7GyslLa6Hz88ccAFi9erGnYdkvDPcmU5OXlsRROxlO3plK1kFSeKRKJlNn3nKCB24ym6UGNeThJJBLVCwgODgbw3XffaVr19szOnTtZazR37lxVZyiZTObg4PDUramUFpKqixc6d+7897//fceOHcwLmEMfB81sjJRW9+Hh4U9dOvzUb4PyOktLS5VnSqXS+Pj48PBw1g4nJSVpeSXtjdjYWAsLCwDBwcHV1dXK4+fPn1c1VWvaQlIpSs4f1DT2x1Ja3YeFhdVzUcvNzVU1VO3SpcuCBQuUmz4yHj58+MMPP8yYMUP1dhKAi4tLFrc+nu2AkydP2tvbAwgMDKz36KO+haQS1Qe1OG32yyOilhmvJSYmMllMnjxZ1fhLLpc7OTm5urrW+zZQ49cZERFx9OhRZrappY9D+yQ7O9vFxQUA2xW7CQtJdQbuHz9+PHv2bPagFqPdpEsLHf0yMjJYnpafn59qR17PsFB5naoWkg2tMmtqaqZPn44W+TgIKL2vOnXqpPzSWlpaTps27bvvvispKdEomkKheOedd2w6djwzYABpMQDRcqtIpYtaQ6v7FlhlaurjIKBKfn5+UFBQSEiIMhmTOd21mLx16+q8DKKiWhZBKw/SvLw85qLm6up6+fLllJSU8PBw1jIz7Ozs1L9OdXwcBJqgpKRExlXOJxF9/TUxt4zwcNI8x1Nb1+TCwkIvLy/W9qo+dCxdujQpKakF18l8HPz9M3TldC/QOPv3k7l5nRO1hrnRHNhxl5WVzZ07NywsjN2Mp6SkaLn6Zffui+yr8sYbLfiqNIqWvUM7JTGRrK0JoMmTSRO7a842EODWwD0mhjp0IIBmzdL0q1Kf7OzsqKgoHx8fNze3adOmnTFIU2VeOXWqbqd1Te5P2u4mTcnJZGNDAAUFkaZO9zKZ7Pjx48uWLXN1dVV20GyLbxsbm+PHj/NTZcPl4kV6802SyeiXXygkhKZPp6VLqXHrdWrLwiKirKw6N/mhQ0mdJWhVVXTwIC1Z8onquiInJ6fXXnvt119/raysnDt3LlQsEgU0IzeX/Pzq9PTll/Tuu02c26aFRUTXrpGrKwH03HPU2O4vJSW0Zw+FhdXdDPj7H2YPqvUWhxCRQqF4++232XDal1x5ybUftm0jpUWlTEaDBzdxblsXFhHl59OgQbRuHdnZEZvF2r+fNm+mW7fo888pKIjqWUhGRxddvHixiYANLRIF1GLzZtq0qe61QkEDBzZxrh4Ii4jYHKuHBwUGUm0t/fgjLV9OIlGdnkxMaOxY2riR7txRN+DGjRvZZEB4eLiQwaEuZ85QaGjd6xMnSGVRXUNERAQ9wc8PM2eiuhrdu+PuXWzYgAEDMH06pkyBymSGuuzfv3/WrFk1NTVz5szZtm0bfxnGBsXq1Th1Ci4uuHkTX32Fbt0aO1HPhJWUhKAgBAcDQHg4tExzTEhICAkJKS8vnzJlyu7du9lefgJNsW8fqqvh7Y3evZs5k/8GlDOYp+upU+TsTOvXcxNTuSdZQECAsOi+eby8CKDExGZP1CeLM5YJPGwYZs6EjQ03MYcOHXrixIlu3bodP3589OjRhYWF3MQ1SKqrcf48xGKo4wikA5Vzxf/+R6+/Tn/NBuCGmzdvMu8TbvckMzSSkwloepRBiT61WD/8gE2bwIdBRs+ePdPS0oYPH37jxo1Ro0adP3+e+zIMAOZIq15esd4Iq6wMly7BzAwqSShcYm9vf+zYsbFjx+bn5wcEBDD3FYG/oIkLrd4I6+RJyOV4/nmYm/NVhJWV1aFDh0JDQ0tLS8eNG3fkyBG+StJTTp0C/vTQbg69ERbfns0MMzOz3bt3z58/v6qq6vfff+e3MP3i+nXcv4/OnZsfaAAgCKshYrF43bp1IpFo9erVUqmU9/L0hOKzZ8nOTv0PQD+ERYTTpwGAtz0Z/sLp06cVCsXgwYPN+et39Y1VSUlGJSXb/P3VPF8/hHXxIkpL0aNHE1MIXCLYKjWEPc084+Wl5vn6MUF2/vxZT8/S554bCljpoDhBWPWorKzMzs42MTFROu02i360WMeOfX727OghQ7bpoCwiOnXqFARhqXDq1CmZTObp6cmS+tVBP4Slyybk0qVLpaWl3bt376abflcfaMH/Xw+E9fDhwytXrpibm3t6euqgOL734NBHDFNY6enpCoXCy8tL1feB1+Ig9IMqtOzeQD+EBR1+0oKw6nH16tWioiJnZ+eePXuq/y49eCrkdleqptFxt6sX9O3bNzMzMz8/X6N3tXVhKRQKtjujboSl425XLxCLxZ6enpp+09p6V3jlypWysjJHR0f+9qtVRegHuaKtC8vd3X3WrFkPHjx48803FQoF38UJwuIMftcccsGhQ4dYmkNISIi0saRVLpDL5cyoMz8/n79S2gl6ICwiSk5OtrGxATB69OgyTY0c1ObcuXMAXF1deYrfrmjrXSHDz88vNTXV2dk5MTExKCioqKiIj1J0+fhp8OiHsAB4eHikpqb27ds3IyPDz8/vzp07nBch3GBxiN4IC4Crq2tKSsqgQYMuXbrk6+t79epVbuNzuylyO0efMqEZDx8+nDx5cmpqqr29/eHDh4cPH85J2KKios6dO3fo0OHRo0dCur326FOLxejUqVNcXNzEiROLi4vHjBkTHx+vZcC8vLwvvvgiJCTEwsLCwcFB6ZAuoBWt/fTQQmpra+fNmwfAzMxs7969LYiQmZn54Ycfqg4oW1lZgf9BjXaCvgqLWrQnmVwuT0lJiYiIYHnPDOVWP4mJiczHwd/fX/Bx0BI9FhZDnT3Jqqur2YZQqvNCjo6OYWFhMTExqu2TcleEIUOG3L9/XxcXYKDovbCIaNOmTU91UVPuu9n0/qL1uHnzJtsVQfBx0AZDEBYR7du3T7knWU5OTmP7iza28VU97t+/z7IGXFxcsrN5MCFpBxiIsIgoLi5OdXcMAKampuPGjdu8eXO9rX7Uoby8fOzYsV26DPbwqBG2JGsBhiMsIjp58uTKlSudnZ0b7rvZAqRS6d//XgKQpSUdOcJVHdsL+jdA2iwKhcJISw/JP5HLsXgxvvwSpqb49lvMnMlJ1HaB/g2QNgtXqgIgFmPrVkRG4vFjvPwy1q/nKrDhY4AtFh989hmWLYNCgYgIREW1dm30AUFY6vL111i4EDIZ/vtffPBBa9emzWOAXSFPzJuHffvQpw+MjeHhgdpaAJgwAUeO4J136s759FPs3duKdWxDCMLSgMmTcfEiHBzQpQvWras7SARlo6/6up0jCEszWFbYK68gPh43b9YdTEvDqlVYtQpHj7ZezdoYwsKjliAS4ZNPnvSA7u545RUAEAwAlQgtVgsZPBguLjhzBgBsbdGvH/r1g6MjAFRWorq6dWvX+gjC0hhra7BJ7X//Gy4usLCo0xMAW1tIpdi8GaHot/8AAACpSURBVAsXoqKiFevY+gjDDbwQGYlly1qyJ5nBILRY3HPkCNzd27WqIAiLczIysH078vKgoTuLoSF0hQK8ILRYArwgCEuAFwRhCfCCICwBXhCEJcALgrAEeEEQlgAvCMIS4AVBWAK8IAhLgBcEYQnwgiAsAV4QhCXAC4KwBHhBEJYALwjCEuAFQVgCvCAIS4AXBGEJ8IIgLAFeEIQlwAuCsAR4QRCWAC/8P0m6TQ6hA3+AAAACOnpUWHRyZGtpdFBLTCByZGtpdCAyMDIxLjAzLjUAAHice79v7T0GIOABYkYGCJAHYiUgbmBkY0gAiTNzMGgAaWYmNgcwzcLmkAGimRmRGDAZNBXsEAFmmAQ7A1iCEWEWxGwWmB1QBUyMeIzCZTs7A1QF2N1MTKg00ASIf5jQ5XGbzA0MFUYmBSbmDCZmlgQW1gwmVjYFNvYMJnaOBA7ODCZOLgVO7gRuHgUeXg0mHj4FPn4FfoEMJgHBBEGhDCYh4QRhkQwmEVEFUTEGMXEGcQkGCUkGCSkGKWkGbhmgWbIJsnIZTHJMCTJsCSL8CdKiDCIsbExysqwszGzsHJzcMmxsAoJCwiL8bGLiElLSouKwOGKQVzU/5SDPE30AxNHbfMVBevev/SB2YcJGh+7SQjB79cRmh8nim8DsW7UODl9iDuwDsd+Uhjo8c+22B6u/wOcgt5jNAcRuOqHssCEwBczmd9tl/3bFJDC7bu8hm12BLWA2g0PX/gsXl4DZW6bM3vf4ixaY7aZwb3+NGx+YPW+r6YHlbv5gtgkHy4EV8U5guw4ujT8g7TPfDqxGdfKB2MsrweIpXw4ckH+bAGbnFpw+oHFWFOzm9bIrDrx6dgbMvjS35IBs12QwO/yH7gHLo1xgv2d+cDpwujgDzL499cf+3zungNmtW5n2n0hqA7PTHojb3320DMz+F2K975+YPpg9beuS/Ut174DNnHTaxz7/5WWwG/Z0znDYsugImF15Z7fDHhdWMFsMALndoYJQe76KAAACGHpUWHRNT0wgcmRraXQgMjAyMS4wMy41AAB4nJ1VS64UMQzczylygRf5EyfxmmGFeEgsuAN77i8q6TyrkUAa3GrNlCeTUsVlO4+ynu/PLz9/lXjk+XgU5aKtFPrr6+7lhxDRY/2/V2UXgDetTaSv36hilcqn8i+K+3tYeuu+WLi6zXlj+fY6i1VrSouFqjeVnJZWmdkuLeqsORbFjjEuLTpsZFlUbSvgSnNyjkWq6D4REJMmtUg1c75UWR+WY+Ha7DpRqzb1fqL311mwQ3Qet9QopeVt5ZT4qhw26ikty19SvzLUB+eqDlqGWjtuieacfpM6dXcjPEKC7k6/3kdgoa4np8Ncc3nBPPB2qkTRUrkToUp8ng5Q6TPH0lEvfvbOMZNOY9bZrnt4btOSTlsV03553omSJ9I6RfhiYZNcT8PpwTu7QNxn2mlq5hfqKkmnMfnbdaKG22AkTwRneHcyWNg9eR+BxVWPW/yH0/81GXiKnzyrJZ3mKnPX/ZoRQsk7AHW/duw+6ma5DsC0Hf3qQa4o4uQNa+hBOv6aUMojpEH25wqANAKgtt8V4MsiAOoRAI3YAzRjBcgj8ML0EQCtMcYRSKxI4VAAxG2LOoHFihXuEfTCIwhG4VAAxKEASEIB0GqRE3CRyAGQhAIgaRG0IqEASPo9iBwAyQxtYPNbqjQUAGkoWEhDju88hjaOXIM3hH4t5fP78/EbSyKes6QpoXMAAAFyelRYdFNNSUxFUyByZGtpdCAyMDIxLjAzLjUAAHicJVE5bu0wELvKL21AFmbRbDBSuX85hPqcIIf/HKezCQ43Pd+b997HtWX/7ONz7uM5vr7Pz1b8760ffZ4H+PPo+SPn3vzv9/CpXKLj0rlEnMft05dnjItnWeYat01bSjIumrVUxr0mM5s2RYsVFJ1E4dkUDQuqhlQNbJ6USTFumaK8Yshk0uAGzIp56DSPhROey0x8rGmpDCOaJBohQGBTOe6r5Yhy2GSjztuWpOkFYY++Aidg7QBElAyIzNSStpKX2gi5DpphJdFHGKAWUkAO7aS9kKMS9VBTPByIIxAgkDLSOV9ILVALOSyNvbVsCvylB/IO2+opwu9kjIp/mYITPvhgT6mXRQt5+jVcpUfrV1j9hTC+It6+xmQpDXGVee9khYjQgjMb10uDei1ufcwRf+NJelSnCCFefRlVlYyObtZaa4b7C3QF6efPIHd0NoHvOH//AxZbfsgMTzSYAAAAAElFTkSuQmCC\" alt=\"Mol\"/></td>\n",
       "    </tr>\n",
       "    <tr>\n",
       "      <th>3</th>\n",
       "      <td>CHEMBL3963605</td>\n",
       "      <td>9.70</td>\n",
       "      <td>Nc1ncc(-c2ccccc2)nc1C(=O)Nc1cnccc1N1CCC(N)CC1</td>\n",
       "      <td><img data-content=\"rdkit/molecule\" src=\"data:image/png;base64,iVBORw0KGgoAAAANSUhEUgAAAMgAAADICAIAAAAiOjnJAAAABmJLR0QA/wD/AP+gvaeTAAAcSElEQVR4nO2deVyU1f7HPzPsu4j7UooZZCXgkgqTIQylcr1qYuo1K9GLaYtthpbrvZFmbre4Ean3togZxK9cEo1BJdGLimxe4mqAiimgiAubDMPz/f3xjI8jsgwzz0Gg8371B07P8z0Hfc855znL91EQETgcuVHe7wpwOiZcLA4TuFgcJnCxOEzgYnGYwMXiMIGLxWECF4vDBC4WhwlcLA4TuFgcJnCxOEzgYnGYwMXiMIGLxWECF4vDBC4WhwlcLA4TuFgcJnCxOEzgYnGYwMXiMIGLxWECF4vDBC4WhwlcLA4TuFgcJnCxOEzgYnGYwMXiMIGLxWECF4vDBC4WhwlcLA4TuFgcJnCxOEzgYnGYwMXiMIGLxWECF6t9M3cuMjIA4IcfcPz4/a6NAVys9k1BAZYvhyCgsBClpfe7NgZwsdo39vaYOBFRUQBAhIwMCML9rhMALlYHIDQUe/bgyhUUFGDIEHTvjueewxdfoKDgftaKi9Ve0WpRVwcASiU+/BCff44bN9C/P0pLEReHefMwYAAeeggvv4y4OFy9WtbK1VPwlzS1R2pr8dxzsLaGlxfeew8A1q9HQAB8fFBQAI0GGg0OHMDVqwDw4IN5Fy54eHp6qlQqtVo9duxYJycn1jXkYrU/tFpMm4Yff4SbG44dw4ABDV8mCEhPh0aDgoJd33wz7datW+Lntra2fn5+arVarVYPHTpUoVCwqCQXq50htlU//ohOnZCYiGHD6l8wZw7KyqBWQ62Gh4f+w+rq6iNHjqSkpBw5cuTQoUM6nQ5At27ddu/e/cQTTzCpKHHaD1otTZ5MAHXqRCdONHCBTkeurgTo/+vbl0JD62JithcXF0vXlJaWxsXFzZ4929LS0s7Orrq6mkVVuVjtBp2Opk/XW3X8eKOXFRVRbCyFhVGfPgTQoEH6aVN3d/ewsLDY2Njr16+LV/r4+ADQaDQsasvFah9otdqFC/coleTqSidPGnWLIFBWFn3xxbFx48Y5ODhIfdS7774rXvDuu+8CCA8PZ1FhLlY7QKvVTpkyBcDTT8ekpZkSoaam5tChQ0uXLh05cmRSUpL4YWJiIoAhQ4bIWdfbcLHaOjqdbsaMGQA6dep0vIkusOVUV1fb2dkplcrLly/LGFaET5C2aerq6mbNmvXtt9+6uLjs379/+PDhMga3tbVVqVSCIBw4cEDGsCJcrLZLXV3dCy+8IFr1888/s5gXCAoKAiD2iTIjexvIkQVBEKZNmwYGPaAhGRkZAB544AHZI/MWq41y8+ZNW1tbOzu7ffv2ydsDGuLl5dWjR4/CwsIzZ87IG5mL1Ua5du3aV199ZWNjM+zeyXX5UCgUY8aMAYPekIvVRunXr5+7u/v169fT09MBbN68Wa1WZ2VlyV4Qo2EWF6vt8vTTT+P2P/mxY8eSkpL279/PqJQDBw7U1tbKGJaL1XYxbEvYPb717t3b09OzvLz8xIkTMoblYrVdAgICLCwsjh49WlFRoVarlUplSkpKdXW17AWxsJaLZSo//4z165GQwK6ETp06DRs2TKvVHj582M3NzcfH59atWykpKbIXxMVqM6xdi9RUjB+PjAysWsWunNbpDf39/a2srI4dO3bjxg3Zgso+M/aHwM+PBEH/s68vu3KSk5MBPPbYY0SUlJQEwNvbm0VBKpUKwM6dO+UKyFssk1AqIe3otbBgV86oUaOcnZ1zcnKKiopUKpWDg0NWVlZxcbH5kXNzc1944QVpv7JarYaszSEXyyQcHfXHQ69dg40Nu3KsrKyefPJJItJoNNbW1iqViogOHjxoZtjc3NyAgIBvvvlm9erVAARBOHnyZPfu3cePHy9HrQHwrtA0MjMpOJhee42CgyktjaqrqaKCUVGbNm0CMGvWLCJat24dgNmzZ5sT8PTp07169QIQFBRUVVVVV1f30ksvAXB0dJRxUZKLZSqCQBcvEhF9+CHZ2VFkJKNycnJyAPTo0UMQBHHmvXfv3iZHq2eVIAjz5s0DYG9vf/DgQflqzcUyjcOHqXt3Cg4mItq6lQCaNIldaX379gWQnZ0tCELPnj3FvsyEOE1YdeDAAXnrzMUyiaIiUijIwYFu3aILFwggZ2fSahmVJnZV69evJ6KZM2cC+OSTT1oa5MyZM6JVo0ePrqioEATh5ZdfZmQVcbFM57HHCKDkZCIiDw8C6OhRRkXFxMQAGDt2LBElJydv2bLlotgLG82ZM2d69+7dalYRF8t03nyTAFq6lIjo1VcJoFWrGBVVUlKiUCjs7e1v3bplwu2SVU8++WR5eXkrWEVcLNPZu5cAGjGCiGjnTgJIpWJXmpeXFwATPLjXqvnz54tWScd1WMDFMpXKSrKxIQsLunqVbt4kKyuytKQbNxiV9uKLLwIYNGhQVFTUb7/9ZuRdNTU17u7uAPz9/SsrK1vNKuJimYW/PwEUH09Et4KDC/z8shMSWJSTmZnp6upqmCKmZ8+eU6dOjY6O/v3335u+d+/evWq1WmyrFixY0DpWkfliCYJQWVmZk5MjS23aF9qPProybFjysmVEtHLlSgCvvfaa7KVkZmZ26dIFwJgxY6KioqZNm9a1a1fJMIVC4e3t/c477+zbt6+ysrKxIIZWMTpTXw+zxBKr++yzzwLo3r27+B06f/68XJVr4xw/fhzAgAEDiOjIkSMAPD095S0iKytLtGrcuHGGI/f8/Pzo6OipU6c6OztLkllaWg4dOjQ8PDwxMVFrMPchWWVnZ9c6VpE5YgmCEBYWBsDa2rpbt26Gy0SDBg16/fXXd+3adfPmTRnr2tbQ6XSdO3cGkJ+fX1tb6+LiAkDG71VjVhlSW1ublpa2Zs0atVptZWUl/RM4Ojqq1eo1a9acOHHilVdeEa1KTEyUq27NYqJY9zat0neoU6dO0q9nYWEhfYdMe1Ru44SEhACIjo4mokmTJgHYunWrLJGzs7PFLu9Pf/pTTU2NMbeUlZXFx8fPnz9/4MCBht9zpVLZylaRaWI13bTqdDrpO2RtbS39evb29uJ3KC0tTZA2M7VzoqOjAYSEhBDRP//5TwDTp083P2xuLnl7n+vbt//YsWNNy19VVFQUGxsbFhbm7OxsbW391ltvmV+rFtFisQRBqNe0Gib1qkd5efnu3bsXLlz46KOPGn6Hevbs+fzzz580Mh9PG+bs2bMAXF1ddTqdeOazS5cudXV15sQ8dYq6diWAZs4sNL+Zj4yMlEv3FtEyse61Ki0tzdXV9cMPP2z23pKSEvE79MADD4h6hYaGZmRkmFjxNsOAAQMAHD9+vLq6ul+/fgDS09NNjpabSz16EEBjx5Isqfbk0r2ltEAsQRBeffVVADY2Nnv27CGi1NRUccQ6Y8aMFvVuv/76q3gAd6m4JNKeEZdHVCrV22+/bWNj4+Pj88EHH5jW3efmUs+eBNAzz8hjlUj//v3N1N0EjBXrXqvEtgrA1KlTa2trW1rw3r17AYwQl0TaMydOnBDPfNra2tbr7mfNmvXVV18ZuWD8v/8xsYqI5s6dC+Cjjz6SM2hzGCWWIAivvfaaoVUnT540xyoiqqystLGxsbCwuHr1qgm3txEEQXj99dfFOZfdu3cXFxfX6+4B+Pp+6u5OYWEUG0vXrjUWh7y95ewBDfnuu+8AqNVqmeM2SfNiNWiVOH8TEhLSUqt27949adKkH3/8kYj8/f0BxMfHm1b1+049q+r93//+97+bNm2aMGFCYOBvUhpjS0vy9aXly+mXX0irJQcHfULRN96gPXto1iz5rSKi0tJSpVJpa2tbVVUlf/RGaEYsySrp784cq4ho7dq1AObMmUNEERERAF5++WXTqn5/MbRq165dTVxZW0spKbRyJalUZGV1J1f25MmkUlFwMNXV0Rtv0K+/MqytSvXM8OErDxwoYljG3TQl1r3fSDOtorszfRkuibQ7wsPDjbGqHpWVlJhI4eE0dCj94x8UHExbtlBkJHOxFi8mgBYtYlhEPRoV695vZHp6uplWiWF79OgB4PTp04ZLIiZW3ziysqisjIiotJRkWXExzap7EZurceNo5ky2YiUlEUBszro2TKNiff311+K4au/evWRg1ZQpU7Tmbe4WcwBHRkbS3Usi7Jg8mebMISLat4/Wrzc32uLFi2Wxikh/GiMjg2xt2YpVU0MODqRQUFFrdYaNHljNz893dnb++OOPx40bB+C7774rKysLCQnZsWOH4WKnCbROPoJ6uLhAltTAS5YsWbNmjbW1dVxc3IQJE8yM9tJLAODtjS+/xN3r+DJjbQ2VCkQw+6yr0TRm3Jw5cwCsXbtW/KMgCFu3bjWzrRL5/fffATg5OWm1WsMlEfMjN8bkyXT1KgUG0q5dtH49TZ9Oa9dSejq1dC5aaqtkyXFQXU1//rP+5xUr2B3F0LNuHQFk3lnXFtCoWDt27AAQFBTEolRPT08AR44cIYMlERYFiUyeTDU1FBtLQUG0aNGd57IuXWjqVIqOpoKC5oMsWbJERquIqKpK3xUS0dKldOSILFEbJSuLADLjrGvLaFQsppMf4hTGypUr6faSSEREhOylENHp07Rzp14sIho/niIiaMcOmjuX+vW7YxhADz1Eb731flxcXIMTtpJV4gycLFRViW/notBQ8vZmLpYg6Gf2TTrr2mKamm4YMmQIABb7eHbt2gXAz8+PiOLj4wH4+/vLXsqZM9SrF1lZ0bZt+qRDV6+S4VaM/HyKjqapU6lzZ+rV67w4NlAqldIeMnHLynvvvSe7VdTqLRYRrV1LUVFUWkq3brE7XaunKbHEh2rpZVEycvPmTSsrK0tLy+vXr1+7ds3CwsLa2rq8vFzGIs6cod69CaAnn6R7A6enU2oqSeM6nY7S00tWr14dGBhouORnZ2cnbpqTsQeUaH2xvLxIfP6OjCS5f5v6NCWWRqMB4OPjw6Jgw0xfI0aMACDOa8hC01YR0bRpBJCjI6nVtGYNpaXdyaNWVVWVmJgYHh4+dOhQpVJpb2/v6Oi4Y8cOueomUVtL0mrW4cPUwrPNpjB+PP35z1RScr/Fqq6utre3VygUJSUlshe8atUqAK+++ioRLV26FMCbb74pS+RmrSKi99+nhx++M8BSKARv72GhoaExMTGG+xavXLkiPmfs27dPlrrdX4KDKSODXnqJIiMpLo7ee4+SkpisTlKza4XihpBvv/1W9oJzcnI2btx4+vRpujshopnk59eKbxb1928+ZdX587R1K82YQSNHZkrdn0KhGDx48IYNG8RrxGH722+/bX7d7jtiz7twIf3lL/S3v+m/VHZ2d5ptGfcCNiPWxx9/DCA0NFS2AhtCq9Xa2dkpFIoFCxYkJCRUmJrE7OzZswMHPvrEE0UqVaNtVWPUO1AlbRIXX7k2ePBg06rURsjLo4ICvVjXr1OvXvTZZ7RoEfn4kFJ51/zL9Om6L77YbP4iWzNiZWZmwrxMX8YgPnZJR+QaOx/XNHl5eWIeKbU62Jz0euLLSKUEVDU1NY6OjgqF4tKlS6YHva/k51PfvvTgg/T99/pPMjPvDOmuXNG/Q7p/fwLo0UdTxX8Fd3f3WbNmRUdHtzSzjUjz22bMyfRlDOIAy8LCYtmyZe+///6IESMsDNLFuri4TJo0KTIysukKnDt3Ttxv7ufnJ/thRnFRa9u2bfKGbR3OndPP2Pn5UbN/MXl59PXXJ0NCQtzc3KR/Amn+pUWrI81v9DM505cxLFu2TLTKcBhXXl4uPZcppOTEBoetCwsLDYMwtYqINmzYAODFF1+UPTJrzp3Tt0PGWGVIXV1dWlrapk2bpk6dKuaM6NOnz7Jly4yP0LxYX375JYAJEya0oF7GIVm1ffv2xq6Rzsf16dPHcInT3d09LCwsNjb21KlT4mEBRlYR0alTpwD06tWrfR2HPH9eb5Wvb8usqkd1dXVCQoK9vT2AZnOQSDQv1sWLFxUKhbhmLH1o/nk3Y6wyRBCE7OzsDRs2jB8/3tHRUTLMxsYGgEqlknd+tV7R4nigHeU+kcsqieDgYABff/21kdcbdZhi0KBBAA4fPiz+UXz5pzS+NvIAuCHLly9vkVX1kA5bjxkzxsnJycbGpkzcyMeMWbNmAdi0aRPTUuTi/Pnzo0bN6NOnVi6r6O6s4MZglFgLFy4EsHz5cvGPycnJlpaWhuPriRMnfvrpp0YO8CWrYmJijKxlE3h4eAA4evQoEQmCkJ6ebnxzbTzitsdgaQmmDXP27FlxxDlx4hsyDg0Ms4Ibc71RYu3Zswd3nwGsqKho0fhaYsWKFTJaRUTiacdVq1YR0Ztvvgk2GyWKiooUCoWDg0MbT21y/vx5MYXfqFGjbsidXlAc5mZnZxtzsVFilZeXu7q6Ojs7S0Nmw67nwoUL//73v2fOnCluZpd4/PHH6yW0kN0qItq5c6c4xiKi77//Hmw2ShDRY489BiBZTJPcJiksLGRnFd1OV7neuM3dxp6EvnbtWr38RCNHjly6dOmhQ4cMx1jS/LWLi4uXl5dhBMkqeSeEpI0SN27cYLRRQkRsDttsToDCwkJxyyQjq4ho27ZtuJ0VvFlakLvBMD+RjcGbiQzzE0mZJ8Rtx9K9a9asYWGViJ+fH25vlHjiiScg60YJiTaeE2DkyJFi9a5fv86oiOLiYuOzgpuYeK2ysrLBMVbXrl3FMVarWUW383+y2ChhSFvOCXD+/Hl/f/+uXbuys0rE+KzgMmRNLi4ujomJmT17tmHCAgAPP/zw/Pnzxdd1WFhYfPPNN+aX1SBi/k8PDw+SdaPEvbTZnAAVFRWi9KynXd555x0AS5YsafZKmdNxS2Ms8RAigD59+pg8X2Ukhvk/ZV8zjo6OTk1NFX9uyzkBRo8eDeCHH35gWsr+/fsBDBs2rNkrWeV51+l0qampERER27dvP3bsGKNSJCZOnIjb+T9bOkfcBJ999plCoXBxcRG3Ou7evRuAk5OT2N2fO3fO/CLk4u9//zuABQsWMC2lurrazs5OqVReuXKl6Ss7yAsEDBMitnSOuDE2b96sVCoVCoW4AC89dhni4eHxyiuv/PDDD9caS1DUWqSmpgIYOHAg64ICAwMBxMbGNn1ZBxHLMCFiS+eIG6SeVRcuXHjooYcADBky5NixY5GRkZMmTRL7X2n+Zdy4399/nw4epPsyhyolwigw5pCkGYiPYn/961+bvqyDiEV3J0QU54hPnTplWqjPP6ennopv0CrDR0LD+Rd3dw9pH6a9/V2bfT/9lMRkehcvUkQESSO0zEyKijLvd74b8U0OmzdvljPoPZw8eRLAgw8+2PRlHUcsw4SI4hyxtG+9RURHk0JBCgVt2ZJGBlb5+Pg0MdFQUaFLSKC33yYvL1Io7mz27daNFiygUaMoN5fOnqV58yggQH9LSgq1ZINT80RFRQF47rnn5Ax6D3V1dWIC+qbfFdVx3mJfL9dI586da2pqWhrkX//C/PkgwurVmDNn6KVL1wMCAvLy8oYNG3bgwAHpUfdeHBwsxo7FunXIzERJCWJjERaGfv0gCHBywooVWLQIRABAhA8+wAcf4KuvTP9lG0T8G0hKShIEQebQBiiVyoCAADSbyoWp3a2JYU4ArVZrQpaRLVv0Jws2biQiKiqiRx4hf/99TbdVTVNcTIsXU3Y2rVtHERH6FquggAoKKC5O5haLiMS1wrS0NJnj3s26devQXO74jtNiubm5+fj43Lp1KyUlxcrKynDjvJH06AErK6xejTfewKVLeOop5OaivPyZpKTDTbRVTdO9u/6HhQuxZ4/+5/790b8/evYEgLw85OebFrsB1Go1GKeFunTp0ueff25vby9upmqMjiMWbvcFMTExpvUFwcHIycHixSgpQVAQzpyBtzf274erq4M5tXr8cbi4wNIS69djyBCo1frPu3aFpyeys/HJJ7h505wS7sA631hJSUlQUFBeXt7DDz9c74099WHaZrYyycnJvr6+AJycnKR18ZYGKS6mQYP0iRVLS1lUsz7h4bKl6CgrKxP3d5h8NrMJiouLxb3E3t7epc391XQosYjo0KFD9aYx+/XrN3fu3B07dly50vyoq5Wtqq2lNWvo6FGSMe3c8OHDASTI/a5XySovL69mraKOJ5bIpUuXxLM9vXr1EvXq2rW7QiFIifwNNywVF+vzF1RV6bMLt1pbJR4WbeLFAiYgnv6V93VfJSUl4mu2vLy8ml3MEVGQ+BDcQREEISsrS6PR/PYbtm1bVF2t/9zGBr6+UKuhVuOjj9CnD/7xDyQmIjMTtbWYNw8GBzbbGYcOHRozZszjjz+enZ0tS8DLly8HBATk5OR4eXlpNBrx3ZzN0sHFMkSnQ1YWNBpoNEhORm0tALi4IDAQrq6YNw/XryMrC++8c78rah5ardbNza2ysvLixYviqTVzMM0qdLCnwqaxtMTQoQgPR2IiSkrw/feYPx8vvACFAitXYulS1NXd7yrKgbW19ejRo4koISHBzFCXL18ODAzMyckZPHhwi6wCOtZToWlMmUJVVbR5M4WE0Mcf3+/ayMHGjRt79+5t+N5kE9Jdl5SUiOdHBg8ebOS4yhAull6sujoaNaqDiKXT6T777DPDKeLOnTtPmTIlKiqq6QU+CcmqRx55pMiklw5wse487Z89S//73/2ujXwY5lYx7KN69uwpblRs7GTv5cuXRas8PT1Ns4o6/FMhR6SoqCglJUWj0fz0008XL16UPnd3d1er1Wq1+plnnhHzk125ciUwMPDUqVOenp4HDx6sd1bUeLhYfyzE+ZekpCSNRnP48OGqqirxcxsbG19f31GjRsXHx58+fdpMq8DF+iOj0+nEST6NRpOcnFxbWwvAxcWlW7duKSkp3cx8uY+pPTinQ1FWVhYfHy8OrWTJ7G/ZrHmcPwKurq7PPvusUqmcPHnyf/7zH/MD8q6Qc4fy8nI3Nzciunr1qpRr2DT+QDPvnGZxcnIaPny4Tqf75ZdfzAzFxeLchVxbBblYnLuQSyw+xuLchU6n69Kly40bNwoLC8UXMpgGb7E4d2Fpafn889Eq1ZnkZLO2pHGxOPXx9JyWkjIwIcHenCC8K+TU5/RpeHqiWzcUF8MgqV7L4C0Wpz4eHnjgAVy+DHP2NnOxOA0gHn4059GQi8VpgKAgwDyx+BiL0wClpejeHdbWKCuDnZ0pEXiLxWmALl3g7Y2aGmRkmBiBi8VpmJkzkZsLX1/k5iI/Hz/9pP88LQ3Fxc3fzsXiNMz//R82bgSAw4eRlobISP3nu3cjL6/52/l+LE7DdOoEBwdIuxxqalBUBAAVFUbdzlssTqOsWIG//Q06HQAUFiIyEpGROHHCqHu5WJxGcXZGaCi++AIABg5ERAQiIjBmjFH3crE4TfGXvzSQH+W337BpEz75pKkb+TwWxyhqa2FlBQA6HSwsoFBgyRKsXt3o9XzwzjEK0SoA4kubt2/HhAlNXc+7Qk6L0WiQnt5MTl7eFXKYwFssDhO4WBwmcLE4TOBicZjAxeIwgYvFYQIXi8MELhaHCVwsDhO4WBwmcLE4TOBicZjAxeIwgYvFYQIXi8MELhaHCVwsDhO4WBwmcLE4TOBicZjAxeIwgYvFYQIXi8MELhaHCVwsDhO4WBwmcLE4TOBicZjAxeIwgYvFYQIXi8MELhaHCVwsDhO4WBwmcLE4TOBicZjAxeIwgYvFYQIXi8OE/wd5xKkoDWaUmwAAAiJ6VFh0cmRraXRQS0wgcmRraXQgMjAyMS4wMy41AAB4nHu/b+09BiDgAWJGBgiQBWIFIG5gZGfIANLMjExsDhogBgs7hGZmcwBLMDPCJBA0XIIwA2EaVDMDhOaA0ExQ65kYMUzH4g40B7EzQFUwJABpJiZUGmgCmGZkQpfnZmBUYGTKYGJiTmBmyWBiYVVgZctgYmNPYOfIYOLgTODkAgpyJ3DzZDDx8Crw8mkw8fIr8AsoCAhmMAkKJQgJZzAJiySIiGYwiYopiIkziEswSEgySEoxSEozSMsw8DAmiAokyIgxcLEmiLCwMfJwszAzsbGxc3BysbIJCgmLiAqwiUtISsuIicOig0H2+i5R+xdtL/eDOE2RsftZVHaA2S/Mvu2fKaBwAMTuehB+QD2eHczufVBwoHKPFljNxUvLDiS97d8HYl8O2nxgZ8pUexA7buvDA3OPHwOzv5xmPLhX87cdiP1M/PsBV+1SsN7orScOtP1YDWZXSeseOFZ9Cqzm+JoF+6+yydmA2EyinvtsLDvB5vi4iu1f7qPoAGL3pC+wX79GHyx+84ewQ9vl+2D22o9f7c/M9AGrebXXzsHQpwPMbjjY6/DxWTmY3eg4y+GFmTSY/X5vgcOignVgvT/vtTgwfl+3F8RucdzsEOD5EeyvtoP7HdI2fQW788+9uQ6nrtuBw+Fv3CqHl4d7wexHP+IcItTUwOz7P1wd5r2ZBFYvBgAaCJ4gj1OWcgAAAgJ6VFh0TU9MIHJka2l0IDIwMjEuMDMuNQAAeJydVjuO3DAM7X0KXWAE/vRhnUm1yAZIkTukz/0R0vQwLhJgl4bhebSsp0dSpOZofv14vv363fKi53E00sbUGvzzVtX2kwDg8O+hjy1q4IF9k0i8s1Fo7+1/FPfbWR7Q95QZLMJ73li+fJwFuxKfLNQHINS0cOfFGCyIg2pauK/JK3ybc2qNZXRCz4Sz0EasskzgUwF2nKvIsjoMlmAZg6HGsi2mxDFXFIqZXn0RXtHVsVaNZXYymtg5LDxqLNQXyI65rOPO8oldh50sqK+5WowLdNR55QjCtxLL2OvMr9URAd9Yvn+YpblHfFXP3JNKcTEFjOEH9iXFztC8M+AZF/YI1arRtOiOaIj5plzzSLqQamjZq7jrjGUTjFAlVOxSzbsUzogQT9pVLdYmry4Fe9TOgOZd6lXTspBrWkZXJYmKUtRydJXPzDw851jcL6MzydlfLOcMxQrgLvvs3n6q6azVtLGAuRRxQVmlTNvSdD7dMGR0Ekagy7CfkYahmXMMrRwxtNMwpGlo87M7DEN+7CUbUo5Qw1RgyOs71jGE41R4GanAkG+xy1gNU4EhTAWGKBUYolRgiFKBIT/Kgs0QpQJDNNIYjVKBIVp3Y6ex/X/XSxuf+nMdzLjZN38X9dDMa+Rba1/fn8cfU3GFGeTIP8oAAAFXelRYdFNNSUxFUyByZGtpdCAyMDIxLjAzLjUAAHicJZE7bsQwDESvktIGZIH/Dxap3DuHUL8n2MOH1Lp8nhmOyGfhe63jWrT6o/O98D5+/85n4ao/Cx+87/t4zvvGn88BU0MiaFw4g0R4vC6YYWLizYTDCuFMYtVx0VRAwEI82RmiEaJibOTGjqMSzCy5mU5CJm5GgQhfZtC5ONEcpYhPUOYsokrpRaJSiXLAlARV3iKnMnRUqlt2C5tUULoqCysVoukgUUZOFf+2p4r1QgBp8i0LE9PYeiY4gW2kYZk66pUENbKNjFZGC+s2L5qMLcbpUltqSdZ8GdxxsRUZwDKkvFkZMoUyvAThXEstEAQ9Q0hrMa/eGmr3YKsVtQCViPqdECpMxXpl6NpMHMmoUdZR9pUSU7cxuUdc3QFza5ikDlIlGOohNUyCU/Yh0yCbQLmwY1A8dJyff9Eid05wyjf5AAAAAElFTkSuQmCC\" alt=\"Mol\"/></td>\n",
       "    </tr>\n",
       "    <tr>\n",
       "      <th>4</th>\n",
       "      <td>CHEMBL2386090</td>\n",
       "      <td>9.70</td>\n",
       "      <td>O=C1NC(=O)C(c2cn3c4c(cccc24)CN(C(=O)c2cnccn2)C...</td>\n",
       "      <td><img data-content=\"rdkit/molecule\" src=\"data:image/png;base64,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\" alt=\"Mol\"/></td>\n",
       "    </tr>\n",
       "  </tbody>\n",
       "</table>\n",
       "</div>"
      ],
      "text/plain": [
       "  molecule_chembl_id  pIC50  \\\n",
       "0       CHEMBL564450   9.85   \n",
       "1      CHEMBL3957649   9.70   \n",
       "2      CHEMBL3942619   9.70   \n",
       "3      CHEMBL3963605   9.70   \n",
       "4      CHEMBL2386090   9.70   \n",
       "\n",
       "                                              smiles  \\\n",
       "0  COc1cc(C2=C(c3cn(CCN4CCN(C)CC4)c4ccccc34)C(=O)...   \n",
       "1        Nc1ncc(-c2ccccc2F)nc1C(=O)Nc1cnccc1N1CCNCC1   \n",
       "2  COc1ccc(-c2cnc(N)c(C(=O)Nc3cnccc3N3CCC(N)CC3)n...   \n",
       "3      Nc1ncc(-c2ccccc2)nc1C(=O)Nc1cnccc1N1CCC(N)CC1   \n",
       "4  O=C1NC(=O)C(c2cn3c4c(cccc24)CN(C(=O)c2cnccn2)C...   \n",
       "\n",
       "                                               ROMol  \n",
       "0  <img data-content=\"rdkit/molecule\" src=\"data:i...  \n",
       "1  <img data-content=\"rdkit/molecule\" src=\"data:i...  \n",
       "2  <img data-content=\"rdkit/molecule\" src=\"data:i...  \n",
       "3  <img data-content=\"rdkit/molecule\" src=\"data:i...  \n",
       "4  <img data-content=\"rdkit/molecule\" src=\"data:i...  "
      ]
     },
     "execution_count": 36,
     "metadata": {},
     "output_type": "execute_result"
    }
   ],
   "source": [
    "PandasTools.AddMoleculeColumnToFrame(df_output, smilesCol='smiles')\n",
    "df_output.head()"
   ]
  },
  {
   "cell_type": "markdown",
   "id": "c86005fd",
   "metadata": {
    "pycharm": {
     "name": "#%% md\n"
    }
   },
   "source": [
    "Ahora podemos llamar a cualquier compuesto para ver su representación en 2D"
   ]
  },
  {
   "cell_type": "code",
   "execution_count": 41,
   "id": "3ef0e931",
   "metadata": {
    "pycharm": {
     "name": "#%%\n"
    }
   },
   "outputs": [
    {
     "data": {
      "image/png": "[encoded data removed]",
      "text/plain": [
       "<rdkit.Chem.rdchem.Mol at 0x1dd9443a340>"
      ]
     },
     "execution_count": 41,
     "metadata": {},
     "output_type": "execute_result"
    }
   ],
   "source": [
    "df_output.ROMol.iloc[0]"
   ]
  },
  {
   "cell_type": "markdown",
   "id": "3d27814b-50c3-476e-8eb4-2784d28a7cd1",
   "metadata": {
    "pycharm": {
     "name": "#%% md\n"
    }
   },
   "source": [
    "## Guardar el dataframe obtenido\n",
    "\n",
    "Se va a guardar el dataframe como un archivo csv"
   ]
  },
  {
   "cell_type": "code",
   "execution_count": 42,
   "id": "1887019d-902a-4e22-b721-7239dd9533a6",
   "metadata": {
    "pycharm": {
     "name": "#%%\n"
    }
   },
   "outputs": [],
   "source": [
    "df_output.to_csv(\"data/GSK3B_compounds.csv\", index=0)"
   ]
  },
  {
   "cell_type": "markdown",
   "id": "eb180565-c7d3-4f26-bb57-f4f7360a57e4",
   "metadata": {
    "pycharm": {
     "name": "#%% md\n"
    }
   },
   "source": [
    "# LyC\n",
    "## Actividad práctica\n",
    "Teniendo en cuenta lo aprendido en este Notebook, responda:\n",
    "1.\t¿Qué otros datos podemos obtener de ChEMBL del target de interés?\n",
    "2.\t¿Se podría realizar una nueva clasificación de los compuestos filtrándolos únicamente por el pEC50?, compruébelo y observe las diferencias\n",
    "3.\tObtenga los datos conocidos de los compuestos, referentes a inhibición y actividad."
   ]
  },
  {
   "cell_type": "markdown",
   "id": "caf9d893-0c03-402a-89d8-f2cc46c18ede",
   "metadata": {
    "pycharm": {
     "name": "#%% md\n"
    }
   },
   "source": [
    "## Conclusiones\n",
    "En esta práctica se empleo la base de datos ChEMBL para obtener datos de compuestos bioactivos frente a nuestro target de interés. Estos datos extraidos en forma de diccionarios y listas se convirtieron en un DataFrame el cual permite visualizar fácilmente la información obtenida. Además, se obtuvieron datos de los compuestos bioactivos, combinaron DataFrames, se renombraron columnas y se utilizo una herramienta de panda para añadir una nueva columna al DataFrame construido."
   ]
  }
 ],
 "metadata": {
  "kernelspec": {
   "display_name": "Python 3 (ipykernel)",
   "language": "python",
   "name": "python3"
  },
  "language_info": {
   "codemirror_mode": {
    "name": "ipython",
    "version": 3
   },
   "file_extension": ".py",
   "mimetype": "text/x-python",
   "name": "python",
   "nbconvert_exporter": "python",
   "pygments_lexer": "ipython3",
   "version": "3.8.13"
  }
 },
 "nbformat": 4,
 "nbformat_minor": 5
}
