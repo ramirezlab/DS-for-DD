{
 "cells": [
  {
   "cell_type": "markdown",
   "id": "4697f74c",
   "metadata": {},
   "source": [
    "# Introducción a la manipulacion de Estructuras de Datos avanzadas con Pandas\n",
    "\n",
    "## Introducción arreglos de Numpy\n",
    "\n",
    "*Numpy* es una librearia fundamental para la computacion cientifica en Python. Entre sus caracteristicas esta la creacion de arreglos multidimensionales, que se pueden tratar como vectores, y posee una gran rapidez a la hora de hacer operaciones matematicas sobre los mismos. Lo cual la hace una libreria necesaria para proyectos con requerimientos de alta computacion y calculo matematico y es por eso de su gran popularidad en el ecosistema cientifico.\n",
    "\n",
    "### Operaciones Matematicas con Arreglos de Numpy\n",
    "\n",
    "Para empezar, importaremos la libreria y creamos nuestro primer Arreglo de Numpy, luego lo afectaremos con algunas operaciones matematicas:\n",
    "\n"
   ]
  },
  {
   "cell_type": "code",
   "execution_count": 2,
   "id": "af82d819",
   "metadata": {},
   "outputs": [
    {
     "data": {
      "text/plain": [
       "array([ 0,  1,  2,  3,  4,  5,  6,  7,  8,  9, 10])"
      ]
     },
     "execution_count": 2,
     "metadata": {},
     "output_type": "execute_result"
    }
   ],
   "source": [
    "# Se importa la libreria numpy y se renombra como es de constumbre a np. Por lo general el acronimo para la libreria numpy es np.\n",
    "import numpy as np\n",
    "\n",
    "# Se crea el arreglo de numeros del 1-10\n",
    "nums = np.array([0, 1, 2, 3, 4, 5, 6, 7, 8, 9, 10])\n",
    "\n",
    "# Se imprime el valor del arreglo\n",
    "nums"
   ]
  },
  {
   "cell_type": "markdown",
   "id": "97c4e2c7",
   "metadata": {},
   "source": [
    "**Vale la pena mencionar que un array de Numpy se parece mucho a una lista de Python.** La diferencia principal radica en el tipo de operaciones de orden matematico que se pueden realizar sobre un arreglo de Numpy y las listas nativas de Python.\n",
    "\n",
    "Tomemos como punto de partida la suma de dos arreglos de Numpy, comparado con una suma de Arreglos de Python:"
   ]
  },
  {
   "cell_type": "code",
   "execution_count": 3,
   "id": "f07b4c21",
   "metadata": {},
   "outputs": [
    {
     "data": {
      "text/plain": [
       "array([ 0,  2,  4,  6,  8, 10, 12, 14, 16, 18, 20])"
      ]
     },
     "execution_count": 3,
     "metadata": {},
     "output_type": "execute_result"
    }
   ],
   "source": [
    "# Se imprime la suma del arreglo de Numpy\n",
    "nums + nums"
   ]
  },
  {
   "cell_type": "markdown",
   "id": "60595dbe",
   "metadata": {},
   "source": [
    "Se mantuvo el tamano de la lista, pero sus elementos fueron sumados, y es aqui el potencial y la simpleza de los arreglos de *Numpy*, y porque de su basto uso en el mundo cientifico, miremos su codigo equivalente con las lista de Python:"
   ]
  },
  {
   "cell_type": "code",
   "execution_count": 4,
   "id": "272f70d4",
   "metadata": {},
   "outputs": [
    {
     "data": {
      "text/plain": [
       "[0, 2, 4, 6, 8, 10, 12, 14, 16, 18, 20]"
      ]
     },
     "execution_count": 4,
     "metadata": {},
     "output_type": "execute_result"
    }
   ],
   "source": [
    "# Lista por compresion con adicion de sus elementos\n",
    "[x + x for x in [0, 1, 2, 3, 4, 5, 6, 7, 8, 9, 10]]"
   ]
  },
  {
   "cell_type": "markdown",
   "id": "7124e3af",
   "metadata": {},
   "source": [
    "No creemos que sea complicado estar creando *listas de comprension* de Python pero claramente se reducirian las lineas de codigo en nuestro programa usando los poderosos arreglos de **Numpy**. Y seria imposible lograrlo si necesitamos sumar dos listas.\n",
    "\n",
    "Los *Arreglos de Numpy* tambien pueden realizar las demas operaciones siguiendo el mismo modelo:\n",
    "\n",
    "```markdown\n",
    "<arreglo_numpy> <operacion (+, -, *, /)> <arreglo_numpy>\n",
    "```\n",
    "\n",
    "*Tengamos cuidado con la division si hay ceros en el denominador*\n",
    "\n",
    "Pero no hemos visto el potencial de los arreglos de Numpy, Que pasaria si intentamos sumar dos arreglos de tamano $n$, hablemos de Arreglos de $1,000.000$ de elementos?"
   ]
  },
  {
   "cell_type": "code",
   "execution_count": 6,
   "id": "198d8fc3",
   "metadata": {},
   "outputs": [
    {
     "data": {
      "text/plain": [
       "array([16,  0,  4, ...,  8,  0, 10])"
      ]
     },
     "execution_count": 6,
     "metadata": {},
     "output_type": "execute_result"
    }
   ],
   "source": [
    "#Se importa la libreria de Numpy\n",
    "import numpy as np\n",
    "\n",
    "#Se crean dos arreglos con 1 millon de elementos, en donde cada elemento tiene un valor entre 0-10\n",
    "x = np.random.choice(10, 1000000)\n",
    "y = np.random.choice(10, 1000000)\n",
    "\n",
    "x * y"
   ]
  },
  {
   "cell_type": "markdown",
   "id": "eaac0abd",
   "metadata": {},
   "source": [
    "Lo vieron? La multiplicacion tomo milisegundos. Y es ahi donde hace que usar la libreria valga la pena. "
   ]
  },
  {
   "cell_type": "markdown",
   "id": "0a9e3ca6",
   "metadata": {},
   "source": [
    "##  Introducción a las Series de Panda\n",
    "\n",
    "Antes de hablar de Dataframes es importante que hagamos un pequeno repaso sobre las **Series**, al mismo tiempo empezaremos a  interactuar con la libreria de Pandas.\n",
    "\n",
    "**Panda** es una libreria de Python, que se caracteriza por proveer estructuras de datos que son de rapido procesamiento, que son faciles de expresar para hacer que el trabajo con datos relacionales sea muy facil e intuitivo. [Mas info aqui](https://pandas.pydata.org/docs/getting_started/overview.html)\n",
    "\n",
    "\n",
    "Que es una Serie? Como se crea una Serie? Veamos las respuestas a estas preguntas:\n",
    "\n",
    "Las Series son un tipo de estructura unidimensional *(1D)* muy parecida a un arreglo, con la caracteristica de que podemos etiquetar en cierda medida sus datos.\n",
    "\n",
    "Para demostrar el potencial de las series vamos a interactuar con el archivo [iris.data](./data/iris.data) que proviene del repositorio de datos de la [UCI Machine Learning](ghttps://archive-beta.ics.uci.edu/)."
   ]
  },
  {
   "cell_type": "code",
   "execution_count": 38,
   "id": "20ebe0f3",
   "metadata": {},
   "outputs": [
    {
     "data": {
      "text/plain": [
       "0         [5.1, 3.5, 1.4, 0.2, Iris-setosa]\n",
       "1         [4.9, 3.0, 1.4, 0.2, Iris-setosa]\n",
       "2         [4.7, 3.2, 1.3, 0.2, Iris-setosa]\n",
       "3         [4.6, 3.1, 1.5, 0.2, Iris-setosa]\n",
       "4         [5.0, 3.6, 1.4, 0.2, Iris-setosa]\n",
       "                       ...                 \n",
       "147    [6.5, 3.0, 5.2, 2.0, Iris-virginica]\n",
       "148    [6.2, 3.4, 5.4, 2.3, Iris-virginica]\n",
       "149    [5.9, 3.0, 5.1, 1.8, Iris-virginica]\n",
       "150                                      []\n",
       "151                                      []\n",
       "Length: 152, dtype: object"
      ]
     },
     "execution_count": 38,
     "metadata": {},
     "output_type": "execute_result"
    }
   ],
   "source": [
    "import pandas as pd\n",
    "#with open(\"data/iris.data\", \"r\") as GEN:\n",
    " #   sec_CYP2C9 = GEN.read()\n",
    "\n",
    "with open(\"data/iris.data\", \"r\") as DATA:\n",
    "    iris_dataset = DATA.read()\n",
    "\n",
    "# Se limpia el dataset y se construye la serie a partir del arreglo generado por el `split` \n",
    "iris_dataset = iris_dataset.split('\\n')\n",
    "iris_dataset = [i.split(',') for i in iris_dataset]\n",
    "serie_de_iris = pd.Series(iris_dataset)\n",
    "\n",
    "# Se imprime la serie\n",
    "serie_de_iris"
   ]
  },
  {
   "cell_type": "markdown",
   "id": "8fe775c9",
   "metadata": {},
   "source": [
    "Y asi de facil se construye una estructura de datos basica pero potente que nos da la libreria de *Pandas*. Exploremos lo que tenemos:\n",
    "\n",
    "La serie es como un arreglo de 1 dimension, (Ya lo sabiamos) y claramente es lo que vemos, se imprimieron aproximadamente $152$ filas cada una con 5 columnas, mas la columna de enumeracion. \n",
    "\n",
    "Las *series* al igual que las listas y arreglos de *Numpy* poseen metodos y su manipulacion tambien se logra por medio de indexacion.\n"
   ]
  },
  {
   "cell_type": "code",
   "execution_count": 16,
   "id": "85d36d26",
   "metadata": {},
   "outputs": [
    {
     "data": {
      "text/plain": [
       "RangeIndex(start=0, stop=152, step=1)"
      ]
     },
     "execution_count": 16,
     "metadata": {},
     "output_type": "execute_result"
    }
   ],
   "source": [
    "# Se imprimen los indexes del arreglo, en este caso hace referencia a la primera columna\n",
    "serie_de_iris.index"
   ]
  },
  {
   "cell_type": "code",
   "execution_count": null,
   "id": "74099e74",
   "metadata": {},
   "outputs": [],
   "source": [
    "Que tal si quisieramos acceder a los elementos de la posicion $120$ en adelante:"
   ]
  },
  {
   "cell_type": "code",
   "execution_count": 29,
   "id": "8d588ebf",
   "metadata": {},
   "outputs": [
    {
     "data": {
      "text/plain": [
       "120    [6.9, 3.2, 5.7, 2.3, Iris-virginica]\n",
       "121    [5.6, 2.8, 4.9, 2.0, Iris-virginica]\n",
       "122    [7.7, 2.8, 6.7, 2.0, Iris-virginica]\n",
       "123    [6.3, 2.7, 4.9, 1.8, Iris-virginica]\n",
       "124    [6.7, 3.3, 5.7, 2.1, Iris-virginica]\n",
       "125    [7.2, 3.2, 6.0, 1.8, Iris-virginica]\n",
       "126    [6.2, 2.8, 4.8, 1.8, Iris-virginica]\n",
       "127    [6.1, 3.0, 4.9, 1.8, Iris-virginica]\n",
       "128    [6.4, 2.8, 5.6, 2.1, Iris-virginica]\n",
       "129    [7.2, 3.0, 5.8, 1.6, Iris-virginica]\n",
       "130    [7.4, 2.8, 6.1, 1.9, Iris-virginica]\n",
       "131    [7.9, 3.8, 6.4, 2.0, Iris-virginica]\n",
       "132    [6.4, 2.8, 5.6, 2.2, Iris-virginica]\n",
       "133    [6.3, 2.8, 5.1, 1.5, Iris-virginica]\n",
       "134    [6.1, 2.6, 5.6, 1.4, Iris-virginica]\n",
       "135    [7.7, 3.0, 6.1, 2.3, Iris-virginica]\n",
       "136    [6.3, 3.4, 5.6, 2.4, Iris-virginica]\n",
       "137    [6.4, 3.1, 5.5, 1.8, Iris-virginica]\n",
       "138    [6.0, 3.0, 4.8, 1.8, Iris-virginica]\n",
       "139    [6.9, 3.1, 5.4, 2.1, Iris-virginica]\n",
       "140    [6.7, 3.1, 5.6, 2.4, Iris-virginica]\n",
       "141    [6.9, 3.1, 5.1, 2.3, Iris-virginica]\n",
       "142    [5.8, 2.7, 5.1, 1.9, Iris-virginica]\n",
       "143    [6.8, 3.2, 5.9, 2.3, Iris-virginica]\n",
       "144    [6.7, 3.3, 5.7, 2.5, Iris-virginica]\n",
       "145    [6.7, 3.0, 5.2, 2.3, Iris-virginica]\n",
       "146    [6.3, 2.5, 5.0, 1.9, Iris-virginica]\n",
       "147    [6.5, 3.0, 5.2, 2.0, Iris-virginica]\n",
       "148    [6.2, 3.4, 5.4, 2.3, Iris-virginica]\n",
       "149    [5.9, 3.0, 5.1, 1.8, Iris-virginica]\n",
       "150                                      []\n",
       "151                                      []\n",
       "dtype: object"
      ]
     },
     "execution_count": 29,
     "metadata": {},
     "output_type": "execute_result"
    }
   ],
   "source": [
    "# Se imprimen los elementos desde la posicion 100 en adelante\n",
    "serie_de_iris[120:]"
   ]
  },
  {
   "cell_type": "markdown",
   "id": "8143e447",
   "metadata": {},
   "source": [
    "Que tal si ahora describimos las columnas manipulando un poco la Serie? Bueno y es aqui en donde los *Dataframes* entran en juego:\n",
    "\n",
    "De acuerdo con la descripcion del dataset sabemos que tiene la siguiente estructura:\n",
    "\n",
    "| No. |      Columna         |  Tipo de dato | Posibles Valores                                |\n",
    "|-----|:--------------------:|--------------:|:------------------------------------------------|\n",
    "| 1   |  longitud del sepalo | float/cm      | Positivos                                       |\n",
    "| 2   |    ancho del sepalo  |   float/cm    | Positivos                                       |\n",
    "| 3   |  longitud del petalo |    float/cm   | Positivos                                       |\n",
    "| 4   |   ancho del petalo   |    float/cm   | Positivos                                       |\n",
    "| 5   |    clase             | string/texto  | Iris Setosa, Iris Versicolour,  Iris Virginica  |\n",
    "\n",
    "Es momento de que modifiquemos la *Serie*, la convirtamos en un Dataframe y usemos a nuestro favor todo su potencial."
   ]
  },
  {
   "cell_type": "markdown",
   "id": "57870dbb",
   "metadata": {},
   "source": [
    "##  Introducción a los DataFrames\n",
    "\n",
    "Un *DataFrame* es un arreglo de 2 dimensiones de datos estructurados que pueda almacenar datos de diferentes tipos. Si, es como una hoja de calculo o una tabla de una base de datos.\n",
    "\n",
    "Los DataFrames son mas comunes que las *Series* y es por esta razon que seran objeto de estudia en esta practica.\n",
    "\n",
    "Por lo General se puede crear un **DataFrame** desde diferentes fuentes de datos, pero en esta ocasion seguiremos usando el dataset de los [iris](./data/iris.data).\n",
    "\n",
    "Es decir podamos usar un Diccionario, una lista, un arreglo de Numpy y hasta una Serie de Pandas. Veamos como se hace.\n"
   ]
  },
  {
   "cell_type": "code",
   "execution_count": 41,
   "id": "fbed6374",
   "metadata": {},
   "outputs": [
    {
     "data": {
      "text/html": [
       "<div>\n",
       "<style scoped>\n",
       "    .dataframe tbody tr th:only-of-type {\n",
       "        vertical-align: middle;\n",
       "    }\n",
       "\n",
       "    .dataframe tbody tr th {\n",
       "        vertical-align: top;\n",
       "    }\n",
       "\n",
       "    .dataframe thead th {\n",
       "        text-align: right;\n",
       "    }\n",
       "</style>\n",
       "<table border=\"1\" class=\"dataframe\">\n",
       "  <thead>\n",
       "    <tr style=\"text-align: right;\">\n",
       "      <th></th>\n",
       "      <th>long_sepalo</th>\n",
       "      <th>ancho_sepalo</th>\n",
       "      <th>long_petalo</th>\n",
       "      <th>ancho_petalo</th>\n",
       "      <th>clase</th>\n",
       "    </tr>\n",
       "  </thead>\n",
       "  <tbody>\n",
       "    <tr>\n",
       "      <th>0</th>\n",
       "      <td>5.1</td>\n",
       "      <td>3.5</td>\n",
       "      <td>1.4</td>\n",
       "      <td>0.2</td>\n",
       "      <td>Iris-setosa</td>\n",
       "    </tr>\n",
       "    <tr>\n",
       "      <th>1</th>\n",
       "      <td>4.9</td>\n",
       "      <td>3.0</td>\n",
       "      <td>1.4</td>\n",
       "      <td>0.2</td>\n",
       "      <td>Iris-setosa</td>\n",
       "    </tr>\n",
       "    <tr>\n",
       "      <th>2</th>\n",
       "      <td>4.7</td>\n",
       "      <td>3.2</td>\n",
       "      <td>1.3</td>\n",
       "      <td>0.2</td>\n",
       "      <td>Iris-setosa</td>\n",
       "    </tr>\n",
       "    <tr>\n",
       "      <th>3</th>\n",
       "      <td>4.6</td>\n",
       "      <td>3.1</td>\n",
       "      <td>1.5</td>\n",
       "      <td>0.2</td>\n",
       "      <td>Iris-setosa</td>\n",
       "    </tr>\n",
       "    <tr>\n",
       "      <th>4</th>\n",
       "      <td>5.0</td>\n",
       "      <td>3.6</td>\n",
       "      <td>1.4</td>\n",
       "      <td>0.2</td>\n",
       "      <td>Iris-setosa</td>\n",
       "    </tr>\n",
       "    <tr>\n",
       "      <th>...</th>\n",
       "      <td>...</td>\n",
       "      <td>...</td>\n",
       "      <td>...</td>\n",
       "      <td>...</td>\n",
       "      <td>...</td>\n",
       "    </tr>\n",
       "    <tr>\n",
       "      <th>147</th>\n",
       "      <td>6.5</td>\n",
       "      <td>3.0</td>\n",
       "      <td>5.2</td>\n",
       "      <td>2.0</td>\n",
       "      <td>Iris-virginica</td>\n",
       "    </tr>\n",
       "    <tr>\n",
       "      <th>148</th>\n",
       "      <td>6.2</td>\n",
       "      <td>3.4</td>\n",
       "      <td>5.4</td>\n",
       "      <td>2.3</td>\n",
       "      <td>Iris-virginica</td>\n",
       "    </tr>\n",
       "    <tr>\n",
       "      <th>149</th>\n",
       "      <td>5.9</td>\n",
       "      <td>3.0</td>\n",
       "      <td>5.1</td>\n",
       "      <td>1.8</td>\n",
       "      <td>Iris-virginica</td>\n",
       "    </tr>\n",
       "    <tr>\n",
       "      <th>150</th>\n",
       "      <td></td>\n",
       "      <td>None</td>\n",
       "      <td>None</td>\n",
       "      <td>None</td>\n",
       "      <td>None</td>\n",
       "    </tr>\n",
       "    <tr>\n",
       "      <th>151</th>\n",
       "      <td></td>\n",
       "      <td>None</td>\n",
       "      <td>None</td>\n",
       "      <td>None</td>\n",
       "      <td>None</td>\n",
       "    </tr>\n",
       "  </tbody>\n",
       "</table>\n",
       "<p>152 rows × 5 columns</p>\n",
       "</div>"
      ],
      "text/plain": [
       "    long_sepalo ancho_sepalo long_petalo ancho_petalo           clase\n",
       "0           5.1          3.5         1.4          0.2     Iris-setosa\n",
       "1           4.9          3.0         1.4          0.2     Iris-setosa\n",
       "2           4.7          3.2         1.3          0.2     Iris-setosa\n",
       "3           4.6          3.1         1.5          0.2     Iris-setosa\n",
       "4           5.0          3.6         1.4          0.2     Iris-setosa\n",
       "..          ...          ...         ...          ...             ...\n",
       "147         6.5          3.0         5.2          2.0  Iris-virginica\n",
       "148         6.2          3.4         5.4          2.3  Iris-virginica\n",
       "149         5.9          3.0         5.1          1.8  Iris-virginica\n",
       "150                     None        None         None            None\n",
       "151                     None        None         None            None\n",
       "\n",
       "[152 rows x 5 columns]"
      ]
     },
     "execution_count": 41,
     "metadata": {},
     "output_type": "execute_result"
    }
   ],
   "source": [
    "import pandas as pd\n",
    "\n",
    "with open(\"data/iris.data\", \"r\") as DATA:\n",
    "    iris_dataset = DATA.read()\n",
    "\n",
    "# Se limpia el dataset y se construye la serie a partir del arreglo generado por el `split` \n",
    "iris_dataset = iris_dataset.split('\\n')\n",
    "\n",
    "# Convertimos cada fila de datos en un arreglo\n",
    "iris_dataset = [i.split(',') for i in iris_dataset]\n",
    "\n",
    "# Creamos el DataFrame a partir de iris_dataset \n",
    "data_frame = pd.DataFrame(iris_dataset, columns=[\"long_sepalo\", \"ancho_sepalo\", \"long_petalo\", \"ancho_petalo\", \"clase\"])\n",
    "\n",
    "# Se imprime el dataframe\n",
    "data_frame"
   ]
  },
  {
   "cell_type": "markdown",
   "id": "01532f75",
   "metadata": {},
   "source": [
    "Como vieron fue muy facil construir el **DAtaFrame**, ahora que tal si lo manipulamos, podriamos contestar preguntas del tipo? cuantas clases de iris tenemos? cual es el tamano promedio de la longitud del petalo? para todas las clase o para una en particular? Veamos como se hace:\n"
   ]
  },
  {
   "cell_type": "code",
   "execution_count": 42,
   "id": "af42aa48",
   "metadata": {},
   "outputs": [
    {
     "ename": "TypeError",
     "evalue": "unsupported operand type(s) for ** or pow(): 'str' and 'int'",
     "output_type": "error",
     "traceback": [
      "\u001b[0;31m---------------------------------------------------------------------------\u001b[0m",
      "\u001b[0;31mTypeError\u001b[0m                                 Traceback (most recent call last)",
      "File \u001b[0;32m~/anaconda3/envs/DS_for_DD/lib/python3.8/site-packages/pandas/core/ops/array_ops.py:163\u001b[0m, in \u001b[0;36m_na_arithmetic_op\u001b[0;34m(left, right, op, is_cmp)\u001b[0m\n\u001b[1;32m    162\u001b[0m \u001b[38;5;28;01mtry\u001b[39;00m:\n\u001b[0;32m--> 163\u001b[0m     result \u001b[38;5;241m=\u001b[39m \u001b[43mfunc\u001b[49m\u001b[43m(\u001b[49m\u001b[43mleft\u001b[49m\u001b[43m,\u001b[49m\u001b[43m \u001b[49m\u001b[43mright\u001b[49m\u001b[43m)\u001b[49m\n\u001b[1;32m    164\u001b[0m \u001b[38;5;28;01mexcept\u001b[39;00m \u001b[38;5;167;01mTypeError\u001b[39;00m:\n",
      "File \u001b[0;32m~/anaconda3/envs/DS_for_DD/lib/python3.8/site-packages/pandas/core/computation/expressions.py:239\u001b[0m, in \u001b[0;36mevaluate\u001b[0;34m(op, a, b, use_numexpr)\u001b[0m\n\u001b[1;32m    237\u001b[0m     \u001b[38;5;28;01mif\u001b[39;00m use_numexpr:\n\u001b[1;32m    238\u001b[0m         \u001b[38;5;66;03m# error: \"None\" not callable\u001b[39;00m\n\u001b[0;32m--> 239\u001b[0m         \u001b[38;5;28;01mreturn\u001b[39;00m \u001b[43m_evaluate\u001b[49m\u001b[43m(\u001b[49m\u001b[43mop\u001b[49m\u001b[43m,\u001b[49m\u001b[43m \u001b[49m\u001b[43mop_str\u001b[49m\u001b[43m,\u001b[49m\u001b[43m \u001b[49m\u001b[43ma\u001b[49m\u001b[43m,\u001b[49m\u001b[43m \u001b[49m\u001b[43mb\u001b[49m\u001b[43m)\u001b[49m  \u001b[38;5;66;03m# type: ignore[misc]\u001b[39;00m\n\u001b[1;32m    240\u001b[0m \u001b[38;5;28;01mreturn\u001b[39;00m _evaluate_standard(op, op_str, a, b)\n",
      "File \u001b[0;32m~/anaconda3/envs/DS_for_DD/lib/python3.8/site-packages/pandas/core/computation/expressions.py:69\u001b[0m, in \u001b[0;36m_evaluate_standard\u001b[0;34m(op, op_str, a, b)\u001b[0m\n\u001b[1;32m     68\u001b[0m     _store_test_result(\u001b[38;5;28;01mFalse\u001b[39;00m)\n\u001b[0;32m---> 69\u001b[0m \u001b[38;5;28;01mreturn\u001b[39;00m \u001b[43mop\u001b[49m\u001b[43m(\u001b[49m\u001b[43ma\u001b[49m\u001b[43m,\u001b[49m\u001b[43m \u001b[49m\u001b[43mb\u001b[49m\u001b[43m)\u001b[49m\n",
      "\u001b[0;31mTypeError\u001b[0m: unsupported operand type(s) for ** or pow(): 'str' and 'int'",
      "\nDuring handling of the above exception, another exception occurred:\n",
      "\u001b[0;31mTypeError\u001b[0m                                 Traceback (most recent call last)",
      "Input \u001b[0;32mIn [42]\u001b[0m, in \u001b[0;36m<cell line: 2>\u001b[0;34m()\u001b[0m\n\u001b[1;32m      1\u001b[0m \u001b[38;5;66;03m### Ejemplo 1: Promedio de Longitud del Sepalo sin importar la clase\u001b[39;00m\n\u001b[0;32m----> 2\u001b[0m data_frame[\u001b[38;5;124m\"\u001b[39m\u001b[38;5;124me**2\u001b[39m\u001b[38;5;124m\"\u001b[39m] \u001b[38;5;241m=\u001b[39m data_frame[\u001b[38;5;124m\"\u001b[39m\u001b[38;5;124mlong_sepalo\u001b[39m\u001b[38;5;124m\"\u001b[39m] \u001b[38;5;241m+\u001b[39m \u001b[43mdata_frame\u001b[49m\u001b[43m[\u001b[49m\u001b[38;5;124;43m\"\u001b[39;49m\u001b[38;5;124;43mlong_sepalo\u001b[39;49m\u001b[38;5;124;43m\"\u001b[39;49m\u001b[43m]\u001b[49m\u001b[43m \u001b[49m\u001b[38;5;241;43m*\u001b[39;49m\u001b[38;5;241;43m*\u001b[39;49m\u001b[43m \u001b[49m\u001b[38;5;241;43m2\u001b[39;49m\n",
      "File \u001b[0;32m~/anaconda3/envs/DS_for_DD/lib/python3.8/site-packages/pandas/core/ops/common.py:70\u001b[0m, in \u001b[0;36m_unpack_zerodim_and_defer.<locals>.new_method\u001b[0;34m(self, other)\u001b[0m\n\u001b[1;32m     66\u001b[0m             \u001b[38;5;28;01mreturn\u001b[39;00m \u001b[38;5;28mNotImplemented\u001b[39m\n\u001b[1;32m     68\u001b[0m other \u001b[38;5;241m=\u001b[39m item_from_zerodim(other)\n\u001b[0;32m---> 70\u001b[0m \u001b[38;5;28;01mreturn\u001b[39;00m \u001b[43mmethod\u001b[49m\u001b[43m(\u001b[49m\u001b[38;5;28;43mself\u001b[39;49m\u001b[43m,\u001b[49m\u001b[43m \u001b[49m\u001b[43mother\u001b[49m\u001b[43m)\u001b[49m\n",
      "File \u001b[0;32m~/anaconda3/envs/DS_for_DD/lib/python3.8/site-packages/pandas/core/arraylike.py:156\u001b[0m, in \u001b[0;36mOpsMixin.__pow__\u001b[0;34m(self, other)\u001b[0m\n\u001b[1;32m    154\u001b[0m \u001b[38;5;129m@unpack_zerodim_and_defer\u001b[39m(\u001b[38;5;124m\"\u001b[39m\u001b[38;5;124m__pow__\u001b[39m\u001b[38;5;124m\"\u001b[39m)\n\u001b[1;32m    155\u001b[0m \u001b[38;5;28;01mdef\u001b[39;00m \u001b[38;5;21m__pow__\u001b[39m(\u001b[38;5;28mself\u001b[39m, other):\n\u001b[0;32m--> 156\u001b[0m     \u001b[38;5;28;01mreturn\u001b[39;00m \u001b[38;5;28;43mself\u001b[39;49m\u001b[38;5;241;43m.\u001b[39;49m\u001b[43m_arith_method\u001b[49m\u001b[43m(\u001b[49m\u001b[43mother\u001b[49m\u001b[43m,\u001b[49m\u001b[43m \u001b[49m\u001b[43moperator\u001b[49m\u001b[38;5;241;43m.\u001b[39;49m\u001b[43mpow\u001b[49m\u001b[43m)\u001b[49m\n",
      "File \u001b[0;32m~/anaconda3/envs/DS_for_DD/lib/python3.8/site-packages/pandas/core/series.py:5639\u001b[0m, in \u001b[0;36mSeries._arith_method\u001b[0;34m(self, other, op)\u001b[0m\n\u001b[1;32m   5637\u001b[0m \u001b[38;5;28;01mdef\u001b[39;00m \u001b[38;5;21m_arith_method\u001b[39m(\u001b[38;5;28mself\u001b[39m, other, op):\n\u001b[1;32m   5638\u001b[0m     \u001b[38;5;28mself\u001b[39m, other \u001b[38;5;241m=\u001b[39m ops\u001b[38;5;241m.\u001b[39malign_method_SERIES(\u001b[38;5;28mself\u001b[39m, other)\n\u001b[0;32m-> 5639\u001b[0m     \u001b[38;5;28;01mreturn\u001b[39;00m \u001b[43mbase\u001b[49m\u001b[38;5;241;43m.\u001b[39;49m\u001b[43mIndexOpsMixin\u001b[49m\u001b[38;5;241;43m.\u001b[39;49m\u001b[43m_arith_method\u001b[49m\u001b[43m(\u001b[49m\u001b[38;5;28;43mself\u001b[39;49m\u001b[43m,\u001b[49m\u001b[43m \u001b[49m\u001b[43mother\u001b[49m\u001b[43m,\u001b[49m\u001b[43m \u001b[49m\u001b[43mop\u001b[49m\u001b[43m)\u001b[49m\n",
      "File \u001b[0;32m~/anaconda3/envs/DS_for_DD/lib/python3.8/site-packages/pandas/core/base.py:1295\u001b[0m, in \u001b[0;36mIndexOpsMixin._arith_method\u001b[0;34m(self, other, op)\u001b[0m\n\u001b[1;32m   1292\u001b[0m rvalues \u001b[38;5;241m=\u001b[39m ensure_wrapped_if_datetimelike(rvalues)\n\u001b[1;32m   1294\u001b[0m \u001b[38;5;28;01mwith\u001b[39;00m np\u001b[38;5;241m.\u001b[39merrstate(\u001b[38;5;28mall\u001b[39m\u001b[38;5;241m=\u001b[39m\u001b[38;5;124m\"\u001b[39m\u001b[38;5;124mignore\u001b[39m\u001b[38;5;124m\"\u001b[39m):\n\u001b[0;32m-> 1295\u001b[0m     result \u001b[38;5;241m=\u001b[39m \u001b[43mops\u001b[49m\u001b[38;5;241;43m.\u001b[39;49m\u001b[43marithmetic_op\u001b[49m\u001b[43m(\u001b[49m\u001b[43mlvalues\u001b[49m\u001b[43m,\u001b[49m\u001b[43m \u001b[49m\u001b[43mrvalues\u001b[49m\u001b[43m,\u001b[49m\u001b[43m \u001b[49m\u001b[43mop\u001b[49m\u001b[43m)\u001b[49m\n\u001b[1;32m   1297\u001b[0m \u001b[38;5;28;01mreturn\u001b[39;00m \u001b[38;5;28mself\u001b[39m\u001b[38;5;241m.\u001b[39m_construct_result(result, name\u001b[38;5;241m=\u001b[39mres_name)\n",
      "File \u001b[0;32m~/anaconda3/envs/DS_for_DD/lib/python3.8/site-packages/pandas/core/ops/array_ops.py:222\u001b[0m, in \u001b[0;36marithmetic_op\u001b[0;34m(left, right, op)\u001b[0m\n\u001b[1;32m    217\u001b[0m \u001b[38;5;28;01melse\u001b[39;00m:\n\u001b[1;32m    218\u001b[0m     \u001b[38;5;66;03m# TODO we should handle EAs consistently and move this check before the if/else\u001b[39;00m\n\u001b[1;32m    219\u001b[0m     \u001b[38;5;66;03m# (https://github.com/pandas-dev/pandas/issues/41165)\u001b[39;00m\n\u001b[1;32m    220\u001b[0m     _bool_arith_check(op, left, right)\n\u001b[0;32m--> 222\u001b[0m     res_values \u001b[38;5;241m=\u001b[39m \u001b[43m_na_arithmetic_op\u001b[49m\u001b[43m(\u001b[49m\u001b[43mleft\u001b[49m\u001b[43m,\u001b[49m\u001b[43m \u001b[49m\u001b[43mright\u001b[49m\u001b[43m,\u001b[49m\u001b[43m \u001b[49m\u001b[43mop\u001b[49m\u001b[43m)\u001b[49m\n\u001b[1;32m    224\u001b[0m \u001b[38;5;28;01mreturn\u001b[39;00m res_values\n",
      "File \u001b[0;32m~/anaconda3/envs/DS_for_DD/lib/python3.8/site-packages/pandas/core/ops/array_ops.py:170\u001b[0m, in \u001b[0;36m_na_arithmetic_op\u001b[0;34m(left, right, op, is_cmp)\u001b[0m\n\u001b[1;32m    164\u001b[0m \u001b[38;5;28;01mexcept\u001b[39;00m \u001b[38;5;167;01mTypeError\u001b[39;00m:\n\u001b[1;32m    165\u001b[0m     \u001b[38;5;28;01mif\u001b[39;00m \u001b[38;5;129;01mnot\u001b[39;00m is_cmp \u001b[38;5;129;01mand\u001b[39;00m (is_object_dtype(left\u001b[38;5;241m.\u001b[39mdtype) \u001b[38;5;129;01mor\u001b[39;00m is_object_dtype(right)):\n\u001b[1;32m    166\u001b[0m         \u001b[38;5;66;03m# For object dtype, fallback to a masked operation (only operating\u001b[39;00m\n\u001b[1;32m    167\u001b[0m         \u001b[38;5;66;03m#  on the non-missing values)\u001b[39;00m\n\u001b[1;32m    168\u001b[0m         \u001b[38;5;66;03m# Don't do this for comparisons, as that will handle complex numbers\u001b[39;00m\n\u001b[1;32m    169\u001b[0m         \u001b[38;5;66;03m#  incorrectly, see GH#32047\u001b[39;00m\n\u001b[0;32m--> 170\u001b[0m         result \u001b[38;5;241m=\u001b[39m \u001b[43m_masked_arith_op\u001b[49m\u001b[43m(\u001b[49m\u001b[43mleft\u001b[49m\u001b[43m,\u001b[49m\u001b[43m \u001b[49m\u001b[43mright\u001b[49m\u001b[43m,\u001b[49m\u001b[43m \u001b[49m\u001b[43mop\u001b[49m\u001b[43m)\u001b[49m\n\u001b[1;32m    171\u001b[0m     \u001b[38;5;28;01melse\u001b[39;00m:\n\u001b[1;32m    172\u001b[0m         \u001b[38;5;28;01mraise\u001b[39;00m\n",
      "File \u001b[0;32m~/anaconda3/envs/DS_for_DD/lib/python3.8/site-packages/pandas/core/ops/array_ops.py:127\u001b[0m, in \u001b[0;36m_masked_arith_op\u001b[0;34m(x, y, op)\u001b[0m\n\u001b[1;32m    124\u001b[0m         mask \u001b[38;5;241m=\u001b[39m np\u001b[38;5;241m.\u001b[39mwhere(y \u001b[38;5;241m==\u001b[39m \u001b[38;5;241m1\u001b[39m, \u001b[38;5;28;01mFalse\u001b[39;00m, mask)\n\u001b[1;32m    126\u001b[0m     \u001b[38;5;28;01mif\u001b[39;00m mask\u001b[38;5;241m.\u001b[39many():\n\u001b[0;32m--> 127\u001b[0m         result[mask] \u001b[38;5;241m=\u001b[39m \u001b[43mop\u001b[49m\u001b[43m(\u001b[49m\u001b[43mxrav\u001b[49m\u001b[43m[\u001b[49m\u001b[43mmask\u001b[49m\u001b[43m]\u001b[49m\u001b[43m,\u001b[49m\u001b[43m \u001b[49m\u001b[43my\u001b[49m\u001b[43m)\u001b[49m\n\u001b[1;32m    129\u001b[0m np\u001b[38;5;241m.\u001b[39mputmask(result, \u001b[38;5;241m~\u001b[39mmask, np\u001b[38;5;241m.\u001b[39mnan)\n\u001b[1;32m    130\u001b[0m result \u001b[38;5;241m=\u001b[39m result\u001b[38;5;241m.\u001b[39mreshape(x\u001b[38;5;241m.\u001b[39mshape)  \u001b[38;5;66;03m# 2D compat\u001b[39;00m\n",
      "\u001b[0;31mTypeError\u001b[0m: unsupported operand type(s) for ** or pow(): 'str' and 'int'"
     ]
    }
   ],
   "source": [
    "### Ejemplo 1: Promedio de Longitud del Sepalo sin importar la clase\n",
    "data_frame[\"e**2\"] = data_frame[\"long_sepalo\"] + data_frame[\"long_sepalo\"] ** 2"
   ]
  },
  {
   "cell_type": "markdown",
   "id": "efa16fbb-1a4e-48a9-ac27-b627b2c602da",
   "metadata": {},
   "source": [
    "# Práctica: Adquirir datos de ChEMBL\n",
    "\n",
    "## Conceptos a trabajar\n",
    "**Uniprot:** Es una base de datos que busca proporcionar a la comunidad científica un recurso integral, de alta calidad y de libre acceso de secuencias de proteínas e información funcional. Referencia: [Uniprot](https://www.uniprot.org/).\n",
    "\n",
    "**ChEMBL:** Es una base de datos que contiene moléculas bioactivas, reune datos químicos, de bioactividad y genómicos. Refernecia: [ChEMBL](https://www.ebi.ac.uk/chembl/)\n",
    "\n",
    "**Half-maximal inhibitory concentration (IC50):** Expresa la cantidad de fármaco necesaria para inhibir un proceso biológico a la mitad del valor no inhibido, es la medida más utilizada de la eficacia o potencia de un fármaco. Referencia: [Aykul, S. y Martínez-Hackert, E. (2016)](https://doi.org/10.1016/j.ab.2016.06.025)\n",
    "\n",
    "**pIC50:** Es el logaritmo negativo en base diez del IC50, cuando las unidades de son **molares (M)**. Se usa para facilitar la comparación entre distintos IC50. También, es importante saber que a mayor pIC50 el fármaco tiene una mayor eficacia o mayor potencial.\n",
    "\n",
    "**Half maximal effective concentration (EC50):** Es la concentración efectiva para producir el 50 % de la respuesta máxima, se usa para comparar las potencias de los fármacos. También, es importante saber que a menor sea el EC50 más potente será el fármaco. A esta pedida también se le calcula el logaritmo negativo en base diez **(pEC50)** para facilitar su comprensión. Referencia: [Waller, D., & Sampson, A. (2018)](https://doi.org/10.1016/B978-0-7020-7167-6.00001-4)\n",
    "\n",
    "**Inhibitor constant (Ki):** Es la concentración requerida para producir la mitad de la inhibición máxima, es útil para describir la afinidad de unión de una molécula a un receptor.\n",
    "\n",
    "**SMILES (Simplified Molecular-Input Line-Entry System):** Es una notación de línea para describir estructuras químicas utilizando cadenas ASCII cortas. Referencia: [Daylight Chemical Information Systems](https://www.daylight.com/smiles/)"
   ]
  },
  {
   "cell_type": "markdown",
   "id": "d7663773-6f54-47bf-9c9a-1eff4eb5b10a",
   "metadata": {},
   "source": [
    "## Planteamiento del problema\n",
    "Supongamos que tenemos un target en especifico que es de nuestro interes, en nuestro caso es la proteína Glucógeno sintasa quinasa-3 beta la cual actua como un regulador negativo en el control hormonal de la homeostasis de la glucosa, señalización Wnt y regulación de factores de transcripción y microtúbulos.\n",
    "\n",
    "A nosotros nos interesa saber que compuestos son bioactivos frente a la proteína de interes y tener esos compuestos en un formato que nos permita su manipulación. Por esto usamos la base de datos ChEMBL que nos permite filtrar y descargar los datos de bioactividad que existen de los compuestos que interactuan con nuestro target de interés. Además, los datos obtenidos los organizamos en un DataFrame para visualizarlos mejor y manipularlos fácilmente."
   ]
  },
  {
   "cell_type": "markdown",
   "id": "f84dc1df-030e-4a1d-a809-4ac8edd672fd",
   "metadata": {},
   "source": [
    "## Conectarse a la base de datos ChEMBL ##\n"
   ]
  },
  {
   "cell_type": "code",
   "execution_count": 1,
   "id": "99e2612c-a497-4cb8-bd51-fdcefcb13e42",
   "metadata": {},
   "outputs": [],
   "source": [
    "from chembl_webresource_client.new_client import new_client #Se importa la biblioteca webresource client que permite conectase a ChEMBL\n",
    "import pandas as pd\n",
    "import math\n",
    "from rdkit.Chem import PandasTools"
   ]
  },
  {
   "cell_type": "markdown",
   "id": "88b8cdc0-6939-4c4c-a183-374eacace60b",
   "metadata": {},
   "source": [
    "Se deben crear para el acceso a la API"
   ]
  },
  {
   "cell_type": "code",
   "execution_count": 2,
   "id": "568fddfc-ef9a-4189-911d-8f0e3d00c5ce",
   "metadata": {},
   "outputs": [],
   "source": [
    "targets = new_client.target\n",
    "compounds = new_client.molecule\n",
    "bioactivities = new_client.activity"
   ]
  },
  {
   "cell_type": "markdown",
   "id": "d6d7e2d7-f5a2-4473-83bd-2daff23ef7d3",
   "metadata": {},
   "source": [
    "## Datos del target \n",
    "* Se debe buscar el Uniprot-ID (https://www.uniprot.org/uniprot/P49841) para el target de interes que en este caso es Glucógeno sintasa quinasa-3 beta"
   ]
  },
  {
   "cell_type": "code",
   "execution_count": 3,
   "id": "aaaf0217-bde5-40ea-be59-73092c07b5c0",
   "metadata": {},
   "outputs": [
    {
     "data": {
      "text/html": [
       "<div>\n",
       "<style scoped>\n",
       "    .dataframe tbody tr th:only-of-type {\n",
       "        vertical-align: middle;\n",
       "    }\n",
       "\n",
       "    .dataframe tbody tr th {\n",
       "        vertical-align: top;\n",
       "    }\n",
       "\n",
       "    .dataframe thead th {\n",
       "        text-align: right;\n",
       "    }\n",
       "</style>\n",
       "<table border=\"1\" class=\"dataframe\">\n",
       "  <thead>\n",
       "    <tr style=\"text-align: right;\">\n",
       "      <th></th>\n",
       "      <th>organism</th>\n",
       "      <th>pref_name</th>\n",
       "      <th>target_chembl_id</th>\n",
       "      <th>target_type</th>\n",
       "    </tr>\n",
       "  </thead>\n",
       "  <tbody>\n",
       "    <tr>\n",
       "      <th>0</th>\n",
       "      <td>Homo sapiens</td>\n",
       "      <td>Glycogen synthase kinase-3 beta</td>\n",
       "      <td>CHEMBL262</td>\n",
       "      <td>SINGLE PROTEIN</td>\n",
       "    </tr>\n",
       "    <tr>\n",
       "      <th>1</th>\n",
       "      <td>Homo sapiens</td>\n",
       "      <td>Glycogen synthase kinase-3 beta</td>\n",
       "      <td>CHEMBL262</td>\n",
       "      <td>SINGLE PROTEIN</td>\n",
       "    </tr>\n",
       "    <tr>\n",
       "      <th>2</th>\n",
       "      <td>Homo sapiens</td>\n",
       "      <td>Glycogen synthase kinase-3</td>\n",
       "      <td>CHEMBL2095188</td>\n",
       "      <td>PROTEIN FAMILY</td>\n",
       "    </tr>\n",
       "    <tr>\n",
       "      <th>3</th>\n",
       "      <td>Homo sapiens</td>\n",
       "      <td>Axin-1/Glycogen synthase kinase-3 beta</td>\n",
       "      <td>CHEMBL3883309</td>\n",
       "      <td>PROTEIN-PROTEIN INTERACTION</td>\n",
       "    </tr>\n",
       "  </tbody>\n",
       "</table>\n",
       "</div>"
      ],
      "text/plain": [
       "       organism                               pref_name target_chembl_id  \\\n",
       "0  Homo sapiens         Glycogen synthase kinase-3 beta        CHEMBL262   \n",
       "1  Homo sapiens         Glycogen synthase kinase-3 beta        CHEMBL262   \n",
       "2  Homo sapiens              Glycogen synthase kinase-3    CHEMBL2095188   \n",
       "3  Homo sapiens  Axin-1/Glycogen synthase kinase-3 beta    CHEMBL3883309   \n",
       "\n",
       "                   target_type  \n",
       "0               SINGLE PROTEIN  \n",
       "1               SINGLE PROTEIN  \n",
       "2               PROTEIN FAMILY  \n",
       "3  PROTEIN-PROTEIN INTERACTION  "
      ]
     },
     "execution_count": 3,
     "metadata": {},
     "output_type": "execute_result"
    }
   ],
   "source": [
    "uniprot_id = 'P49841'\n",
    "# Se toma sola alguna información de  ChEMBL que sea de interesbut restrict to specified values only\n",
    "target_P49841 = targets.get(target_components__accession=uniprot_id) \\\n",
    "                     .only('target_chembl_id', 'organism', 'pref_name', 'target_type')\n",
    "pd.DataFrame.from_records(target_P49841)"
   ]
  },
  {
   "cell_type": "markdown",
   "id": "26b05cd6-df7a-47fc-b396-f181a6118b97",
   "metadata": {},
   "source": [
    "Vamos a seleccionar el target de interes `CHEMBL262` y guardar el ChEMBL-ID \n"
   ]
  },
  {
   "cell_type": "code",
   "execution_count": 4,
   "id": "dab282de-f599-4496-b5b3-78158b787d8e",
   "metadata": {},
   "outputs": [
    {
     "name": "stdout",
     "output_type": "stream",
     "text": [
      "El target de interes es:{'organism': 'Homo sapiens', 'pref_name': 'Glycogen synthase kinase-3 beta', 'target_chembl_id': 'CHEMBL262', 'target_type': 'SINGLE PROTEIN'}\n"
     ]
    }
   ],
   "source": [
    "# Seleccionar el target de interes\n",
    "target = target_P49841[0]\n",
    "print(f'El target de interes es:' + str(target))"
   ]
  },
  {
   "cell_type": "code",
   "execution_count": 5,
   "id": "c522cf8d-d0eb-478e-90c7-86fd833bc412",
   "metadata": {},
   "outputs": [
    {
     "name": "stdout",
     "output_type": "stream",
     "text": [
      "El ChEMBL-ID de interes es:CHEMBL262\n"
     ]
    }
   ],
   "source": [
    "# Guardar el ChEMBL-ID\n",
    "chembl_id = target['target_chembl_id']\n",
    "print(f'El ChEMBL-ID de interes es:' + chembl_id)"
   ]
  },
  {
   "cell_type": "markdown",
   "id": "4797bcee-1fe9-441b-b6f6-18ff2c316a92",
   "metadata": {},
   "source": [
    "### Datos de bioactividad\n",
    "\n",
    "Ahora consultamos los datos de bioactividad que son de interés.\n",
    "\n",
    "#### Descargar y filtrar bioactividades para el target\n",
    "Los datos de bioactividad se van a filtrar de la siguiente manera:\n",
    "\n",
    "* Tipo de bioactividad: IC50, EC50 y Ki\n",
    "* Relación: \"=\""
   ]
  },
  {
   "cell_type": "code",
   "execution_count": 6,
   "id": "ccbfd67f-ead5-464e-a79a-0ad77db4ac83",
   "metadata": {},
   "outputs": [
    {
     "name": "stdout",
     "output_type": "stream",
     "text": [
      "El total de compuestos bioactivos es:2648\n"
     ]
    }
   ],
   "source": [
    "# No pudimos filtrar de forma incluyente con EC50 y Ki\n",
    "bioact = bioactivities.filter(target_chembl_id = chembl_id) \\\n",
    "                      .filter(type = 'IC50') \\\n",
    "                      .filter(relation = '=') \\\n",
    "                      .only('molecule_chembl_id', 'type', 'relation', 'pchembl_value')\n",
    "print(f'El total de compuestos bioactivos es:' + str(len(bioact)))"
   ]
  },
  {
   "cell_type": "markdown",
   "id": "e291d681-5cbb-4e3a-b0e4-7b5fb68383a6",
   "metadata": {},
   "source": [
    "#### Convertir los datos de bioactividad a Dataframe\n",
    "\n",
    "Los datos descargados y filtrados se almacenan como un diccionario"
   ]
  },
  {
   "cell_type": "code",
   "execution_count": 7,
   "id": "3312c4e0-e8ed-4395-b459-cc3f9c8d339b",
   "metadata": {},
   "outputs": [
    {
     "name": "stdout",
     "output_type": "stream",
     "text": [
      "El primer compuesto bioactivo es:\n"
     ]
    },
    {
     "data": {
      "text/plain": [
       "{'molecule_chembl_id': 'CHEMBL322970',\n",
       " 'pchembl_value': '6.42',\n",
       " 'relation': '=',\n",
       " 'type': 'IC50',\n",
       " 'value': '0.38'}"
      ]
     },
     "execution_count": 7,
     "metadata": {},
     "output_type": "execute_result"
    }
   ],
   "source": [
    "print(f'El primer compuesto bioactivo es:')\n",
    "bioact[0]"
   ]
  },
  {
   "cell_type": "markdown",
   "id": "d379530f-1713-4e76-bb73-5313850b5529",
   "metadata": {},
   "source": [
    "Convertir el diccionario a un dataframe"
   ]
  },
  {
   "cell_type": "code",
   "execution_count": 8,
   "id": "6649e1b9-6e4d-475d-b96f-9ab2e2a6eacf",
   "metadata": {},
   "outputs": [
    {
     "name": "stdout",
     "output_type": "stream",
     "text": [
      "Los primeros 10 compuestos bioactivos son:\n"
     ]
    },
    {
     "data": {
      "text/html": [
       "<div>\n",
       "<style scoped>\n",
       "    .dataframe tbody tr th:only-of-type {\n",
       "        vertical-align: middle;\n",
       "    }\n",
       "\n",
       "    .dataframe tbody tr th {\n",
       "        vertical-align: top;\n",
       "    }\n",
       "\n",
       "    .dataframe thead th {\n",
       "        text-align: right;\n",
       "    }\n",
       "</style>\n",
       "<table border=\"1\" class=\"dataframe\">\n",
       "  <thead>\n",
       "    <tr style=\"text-align: right;\">\n",
       "      <th></th>\n",
       "      <th>molecule_chembl_id</th>\n",
       "      <th>pchembl_value</th>\n",
       "      <th>relation</th>\n",
       "      <th>type</th>\n",
       "      <th>value</th>\n",
       "    </tr>\n",
       "  </thead>\n",
       "  <tbody>\n",
       "    <tr>\n",
       "      <th>0</th>\n",
       "      <td>CHEMBL322970</td>\n",
       "      <td>6.42</td>\n",
       "      <td>=</td>\n",
       "      <td>IC50</td>\n",
       "      <td>0.38</td>\n",
       "    </tr>\n",
       "    <tr>\n",
       "      <th>1</th>\n",
       "      <td>CHEMBL112564</td>\n",
       "      <td>5.16</td>\n",
       "      <td>=</td>\n",
       "      <td>IC50</td>\n",
       "      <td>6.92</td>\n",
       "    </tr>\n",
       "    <tr>\n",
       "      <th>2</th>\n",
       "      <td>CHEMBL321421</td>\n",
       "      <td>6.39</td>\n",
       "      <td>=</td>\n",
       "      <td>IC50</td>\n",
       "      <td>0.41</td>\n",
       "    </tr>\n",
       "    <tr>\n",
       "      <th>3</th>\n",
       "      <td>CHEMBL388978</td>\n",
       "      <td>6.80</td>\n",
       "      <td>=</td>\n",
       "      <td>IC50</td>\n",
       "      <td>0.16</td>\n",
       "    </tr>\n",
       "    <tr>\n",
       "      <th>4</th>\n",
       "      <td>CHEMBL115875</td>\n",
       "      <td>5.02</td>\n",
       "      <td>=</td>\n",
       "      <td>IC50</td>\n",
       "      <td>9.6</td>\n",
       "    </tr>\n",
       "    <tr>\n",
       "      <th>5</th>\n",
       "      <td>CHEMBL325353</td>\n",
       "      <td>7.00</td>\n",
       "      <td>=</td>\n",
       "      <td>IC50</td>\n",
       "      <td>0.1</td>\n",
       "    </tr>\n",
       "    <tr>\n",
       "      <th>6</th>\n",
       "      <td>CHEMBL113168</td>\n",
       "      <td>5.94</td>\n",
       "      <td>=</td>\n",
       "      <td>IC50</td>\n",
       "      <td>1.16</td>\n",
       "    </tr>\n",
       "    <tr>\n",
       "      <th>7</th>\n",
       "      <td>CHEMBL112483</td>\n",
       "      <td>5.03</td>\n",
       "      <td>=</td>\n",
       "      <td>IC50</td>\n",
       "      <td>9.3</td>\n",
       "    </tr>\n",
       "    <tr>\n",
       "      <th>8</th>\n",
       "      <td>CHEMBL323944</td>\n",
       "      <td>6.62</td>\n",
       "      <td>=</td>\n",
       "      <td>IC50</td>\n",
       "      <td>0.24</td>\n",
       "    </tr>\n",
       "    <tr>\n",
       "      <th>9</th>\n",
       "      <td>CHEMBL113272</td>\n",
       "      <td>7.00</td>\n",
       "      <td>=</td>\n",
       "      <td>IC50</td>\n",
       "      <td>0.1</td>\n",
       "    </tr>\n",
       "  </tbody>\n",
       "</table>\n",
       "</div>"
      ],
      "text/plain": [
       "  molecule_chembl_id pchembl_value relation  type value\n",
       "0       CHEMBL322970          6.42        =  IC50  0.38\n",
       "1       CHEMBL112564          5.16        =  IC50  6.92\n",
       "2       CHEMBL321421          6.39        =  IC50  0.41\n",
       "3       CHEMBL388978          6.80        =  IC50  0.16\n",
       "4       CHEMBL115875          5.02        =  IC50   9.6\n",
       "5       CHEMBL325353          7.00        =  IC50   0.1\n",
       "6       CHEMBL113168          5.94        =  IC50  1.16\n",
       "7       CHEMBL112483          5.03        =  IC50   9.3\n",
       "8       CHEMBL323944          6.62        =  IC50  0.24\n",
       "9       CHEMBL113272          7.00        =  IC50   0.1"
      ]
     },
     "execution_count": 8,
     "metadata": {},
     "output_type": "execute_result"
    }
   ],
   "source": [
    "dataframe_bioact = pd.DataFrame(bioact)\n",
    "print(f'Los primeros 10 compuestos bioactivos son:')\n",
    "dataframe_bioact.head(10)"
   ]
  },
  {
   "cell_type": "markdown",
   "id": "58875462-fe53-4001-8cb3-b8513708d37a",
   "metadata": {},
   "source": [
    "Es posible que hayan compuestos con valores faltantes y que hayan duplicados porque el mismo compuesto puede haber sido probado más de una vez (nosotros nos quedaremos solo con el que primero haya sido probado)"
   ]
  },
  {
   "cell_type": "code",
   "execution_count": 9,
   "id": "c1d74226-b9dc-4143-8048-872b15ddbc0f",
   "metadata": {},
   "outputs": [
    {
     "name": "stdout",
     "output_type": "stream",
     "text": [
      "El número total de compuestos es: 2648\n"
     ]
    }
   ],
   "source": [
    "# Primero verificamos cuantos compuestos tenemos en total\n",
    "print(f'El número total de compuestos es: ' + str(len(dataframe_bioact)))"
   ]
  },
  {
   "cell_type": "code",
   "execution_count": 10,
   "id": "6e013877-f792-4177-8b3f-4740f67a8176",
   "metadata": {},
   "outputs": [
    {
     "name": "stdout",
     "output_type": "stream",
     "text": [
      "El número total de compuestos al eliminar los que no tienen pChEMBL_value es: 2626\n"
     ]
    }
   ],
   "source": [
    "# Se eliminan los compuestos que no tienen pChEMBL_value\n",
    "dataframe_bioact = dataframe_bioact.dropna(axis=0, how = 'any')\n",
    "print(f'El número total de compuestos al eliminar los que no tienen pChEMBL_value es: ' + str(len(dataframe_bioact)))"
   ]
  },
  {
   "cell_type": "markdown",
   "id": "3267f752-2dba-48c9-b7f5-1037d21ad55f",
   "metadata": {},
   "source": [
    "Para saber cuantos compuestos eliminamos por no tener un valor de pChEMBL usamos la siguiente línea. "
   ]
  },
  {
   "cell_type": "code",
   "execution_count": 11,
   "id": "861be90c-548f-4737-bfd8-2e2e9393db77",
   "metadata": {},
   "outputs": [
    {
     "name": "stdout",
     "output_type": "stream",
     "text": [
      "El número de compuestos eliminados es:22\n"
     ]
    }
   ],
   "source": [
    "# Se le resta al número total de compuestos el número total de compuestos al eliminar los que no tienen pChEMBL_value\n",
    "print(f'El número de compuestos eliminados es:' + str(2648-2626))"
   ]
  },
  {
   "cell_type": "code",
   "execution_count": 12,
   "id": "9a4fdcc5-ac95-4ddf-be47-2ef940619532",
   "metadata": {},
   "outputs": [
    {
     "name": "stdout",
     "output_type": "stream",
     "text": [
      "El número total de compuestos sin duplicados es: 2291\n"
     ]
    }
   ],
   "source": [
    "# Se eliminan los compuestos duplicados y nos quedamos con el primer compuesto probado\n",
    "dataframe_bioact = dataframe_bioact.drop_duplicates('molecule_chembl_id', keep = 'first')\n",
    "print(f'El número total de compuestos sin duplicados es: ' + str(len(dataframe_bioact)))"
   ]
  },
  {
   "cell_type": "markdown",
   "id": "12729e22-0962-4128-9f8d-d2ae77a1d553",
   "metadata": {},
   "source": [
    "Para saber cuantos compuestos duplicados habían usamos la siguiente línea. "
   ]
  },
  {
   "cell_type": "code",
   "execution_count": 13,
   "id": "455158c5-5589-42da-9bc9-c5e825fd5761",
   "metadata": {},
   "outputs": [
    {
     "name": "stdout",
     "output_type": "stream",
     "text": [
      "El número de compuestos duplicados eran:335\n"
     ]
    }
   ],
   "source": [
    "# Se le resta al número total de compuestos al eliminar los que no tienen pChEMBL_value el número total de compuestos sin duplicados\n",
    "print(f'El número de compuestos duplicados eran:' + str(2626-2291))"
   ]
  },
  {
   "cell_type": "markdown",
   "id": "5a26f580-dd5b-4c51-a8c1-889b9621c64e",
   "metadata": {},
   "source": [
    "##### Ahora que hemos eliminado algunas filas restableceremos el índice para que este sea continuo"
   ]
  },
  {
   "cell_type": "code",
   "execution_count": 14,
   "id": "548bbf5d-c428-4bc5-bd97-e04d669295bd",
   "metadata": {},
   "outputs": [
    {
     "data": {
      "text/html": [
       "<div>\n",
       "<style scoped>\n",
       "    .dataframe tbody tr th:only-of-type {\n",
       "        vertical-align: middle;\n",
       "    }\n",
       "\n",
       "    .dataframe tbody tr th {\n",
       "        vertical-align: top;\n",
       "    }\n",
       "\n",
       "    .dataframe thead th {\n",
       "        text-align: right;\n",
       "    }\n",
       "</style>\n",
       "<table border=\"1\" class=\"dataframe\">\n",
       "  <thead>\n",
       "    <tr style=\"text-align: right;\">\n",
       "      <th></th>\n",
       "      <th>molecule_chembl_id</th>\n",
       "      <th>pchembl_value</th>\n",
       "      <th>relation</th>\n",
       "      <th>type</th>\n",
       "      <th>value</th>\n",
       "    </tr>\n",
       "  </thead>\n",
       "  <tbody>\n",
       "    <tr>\n",
       "      <th>0</th>\n",
       "      <td>CHEMBL322970</td>\n",
       "      <td>6.42</td>\n",
       "      <td>=</td>\n",
       "      <td>IC50</td>\n",
       "      <td>0.38</td>\n",
       "    </tr>\n",
       "    <tr>\n",
       "      <th>1</th>\n",
       "      <td>CHEMBL112564</td>\n",
       "      <td>5.16</td>\n",
       "      <td>=</td>\n",
       "      <td>IC50</td>\n",
       "      <td>6.92</td>\n",
       "    </tr>\n",
       "    <tr>\n",
       "      <th>2</th>\n",
       "      <td>CHEMBL321421</td>\n",
       "      <td>6.39</td>\n",
       "      <td>=</td>\n",
       "      <td>IC50</td>\n",
       "      <td>0.41</td>\n",
       "    </tr>\n",
       "    <tr>\n",
       "      <th>3</th>\n",
       "      <td>CHEMBL388978</td>\n",
       "      <td>6.80</td>\n",
       "      <td>=</td>\n",
       "      <td>IC50</td>\n",
       "      <td>0.16</td>\n",
       "    </tr>\n",
       "    <tr>\n",
       "      <th>4</th>\n",
       "      <td>CHEMBL115875</td>\n",
       "      <td>5.02</td>\n",
       "      <td>=</td>\n",
       "      <td>IC50</td>\n",
       "      <td>9.6</td>\n",
       "    </tr>\n",
       "  </tbody>\n",
       "</table>\n",
       "</div>"
      ],
      "text/plain": [
       "  molecule_chembl_id pchembl_value relation  type value\n",
       "0       CHEMBL322970          6.42        =  IC50  0.38\n",
       "1       CHEMBL112564          5.16        =  IC50  6.92\n",
       "2       CHEMBL321421          6.39        =  IC50  0.41\n",
       "3       CHEMBL388978          6.80        =  IC50  0.16\n",
       "4       CHEMBL115875          5.02        =  IC50   9.6"
      ]
     },
     "execution_count": 14,
     "metadata": {},
     "output_type": "execute_result"
    }
   ],
   "source": [
    "dataframe_bioact = dataframe_bioact.reset_index(drop=True) \n",
    "dataframe_bioact.head()"
   ]
  },
  {
   "cell_type": "markdown",
   "id": "6bf55ab4-486f-485a-9414-b1c4e38682be",
   "metadata": {},
   "source": [
    "Vamos a organizar el DataFrame de mayor a menor pchembl_value"
   ]
  },
  {
   "cell_type": "code",
   "execution_count": 15,
   "id": "648690df-a26b-486b-83fd-d812139fa3df",
   "metadata": {},
   "outputs": [
    {
     "data": {
      "text/html": [
       "<div>\n",
       "<style scoped>\n",
       "    .dataframe tbody tr th:only-of-type {\n",
       "        vertical-align: middle;\n",
       "    }\n",
       "\n",
       "    .dataframe tbody tr th {\n",
       "        vertical-align: top;\n",
       "    }\n",
       "\n",
       "    .dataframe thead th {\n",
       "        text-align: right;\n",
       "    }\n",
       "</style>\n",
       "<table border=\"1\" class=\"dataframe\">\n",
       "  <thead>\n",
       "    <tr style=\"text-align: right;\">\n",
       "      <th></th>\n",
       "      <th>molecule_chembl_id</th>\n",
       "      <th>pchembl_value</th>\n",
       "      <th>relation</th>\n",
       "      <th>type</th>\n",
       "      <th>value</th>\n",
       "    </tr>\n",
       "  </thead>\n",
       "  <tbody>\n",
       "    <tr>\n",
       "      <th>0</th>\n",
       "      <td>CHEMBL564450</td>\n",
       "      <td>9.85</td>\n",
       "      <td>=</td>\n",
       "      <td>IC50</td>\n",
       "      <td>0.00014</td>\n",
       "    </tr>\n",
       "    <tr>\n",
       "      <th>1</th>\n",
       "      <td>CHEMBL3957649</td>\n",
       "      <td>9.70</td>\n",
       "      <td>=</td>\n",
       "      <td>IC50</td>\n",
       "      <td>0.2</td>\n",
       "    </tr>\n",
       "    <tr>\n",
       "      <th>2</th>\n",
       "      <td>CHEMBL3942619</td>\n",
       "      <td>9.70</td>\n",
       "      <td>=</td>\n",
       "      <td>IC50</td>\n",
       "      <td>0.2</td>\n",
       "    </tr>\n",
       "    <tr>\n",
       "      <th>3</th>\n",
       "      <td>CHEMBL3963605</td>\n",
       "      <td>9.70</td>\n",
       "      <td>=</td>\n",
       "      <td>IC50</td>\n",
       "      <td>0.2</td>\n",
       "    </tr>\n",
       "    <tr>\n",
       "      <th>4</th>\n",
       "      <td>CHEMBL2386090</td>\n",
       "      <td>9.70</td>\n",
       "      <td>=</td>\n",
       "      <td>IC50</td>\n",
       "      <td>0.2</td>\n",
       "    </tr>\n",
       "  </tbody>\n",
       "</table>\n",
       "</div>"
      ],
      "text/plain": [
       "  molecule_chembl_id pchembl_value relation  type    value\n",
       "0       CHEMBL564450          9.85        =  IC50  0.00014\n",
       "1      CHEMBL3957649          9.70        =  IC50      0.2\n",
       "2      CHEMBL3942619          9.70        =  IC50      0.2\n",
       "3      CHEMBL3963605          9.70        =  IC50      0.2\n",
       "4      CHEMBL2386090          9.70        =  IC50      0.2"
      ]
     },
     "execution_count": 15,
     "metadata": {},
     "output_type": "execute_result"
    }
   ],
   "source": [
    "# Organizamos de mayor a menor pchembl_value\n",
    "dataframe_bioact.sort_values(by=\"pchembl_value\", ascending=False, inplace=True)\n",
    "# Restablecemos el índice\n",
    "dataframe_bioact.reset_index(drop=True, inplace=True)\n",
    "# Imprimimos el Data Frame\n",
    "dataframe_bioact.head()"
   ]
  },
  {
   "cell_type": "markdown",
   "id": "626601c2-45ff-4868-90f6-398cfb500bcd",
   "metadata": {},
   "source": [
    "##### Para continuar usando el Data Frame en la práctica sin necesidad de siempre estarnos conectando a ChEMBL avamos a guardar el Data Frame obtenido"
   ]
  },
  {
   "cell_type": "code",
   "execution_count": 16,
   "id": "93433e81-f986-4cab-86ce-6ce498637102",
   "metadata": {},
   "outputs": [],
   "source": [
    "dataframe_bioact.to_csv(\"data/compuestos.csv\")"
   ]
  },
  {
   "cell_type": "markdown",
   "id": "11f74443-157b-4a05-8619-846f9b0df968",
   "metadata": {},
   "source": [
    "### Datos de los compuestos\n",
    "\n",
    "A continuación vamos a obtener los datos de las moléculas que estan almacenados dentro de cada molecule_chembl_id"
   ]
  },
  {
   "cell_type": "code",
   "execution_count": 17,
   "id": "77d28bf9-cc57-4907-b947-7079ae41f8e0",
   "metadata": {},
   "outputs": [],
   "source": [
    "# Cargamos el archivo antes guardado\n",
    "dataframe_bioact = pd.read_csv(\"data/compuestos.csv\")"
   ]
  },
  {
   "cell_type": "code",
   "execution_count": 18,
   "id": "c96968a6-8b33-4a9b-8072-5c7db156fb88",
   "metadata": {},
   "outputs": [],
   "source": [
    "# Primero tenemos que obtener la lista de los compuestos que definimos como bioactivos\n",
    "lista_comp_id = list(dataframe_bioact['molecule_chembl_id'])\n",
    "# Obtener la estructura de cada compuesto\n",
    "lista_compuestos = compounds.filter(molecule_chembl_id__in = lista_comp_id) \\\n",
    "                            .only('molecule_chembl_id','molecule_structures')"
   ]
  },
  {
   "cell_type": "code",
   "execution_count": 19,
   "id": "c7061d81-a918-4fa3-9e85-acf4d0882a0b",
   "metadata": {},
   "outputs": [
    {
     "name": "stdout",
     "output_type": "stream",
     "text": [
      "El número total de compuestos es: 2291\n"
     ]
    },
    {
     "data": {
      "text/html": [
       "<div>\n",
       "<style scoped>\n",
       "    .dataframe tbody tr th:only-of-type {\n",
       "        vertical-align: middle;\n",
       "    }\n",
       "\n",
       "    .dataframe tbody tr th {\n",
       "        vertical-align: top;\n",
       "    }\n",
       "\n",
       "    .dataframe thead th {\n",
       "        text-align: right;\n",
       "    }\n",
       "</style>\n",
       "<table border=\"1\" class=\"dataframe\">\n",
       "  <thead>\n",
       "    <tr style=\"text-align: right;\">\n",
       "      <th></th>\n",
       "      <th>molecule_chembl_id</th>\n",
       "      <th>molecule_structures</th>\n",
       "    </tr>\n",
       "  </thead>\n",
       "  <tbody>\n",
       "    <tr>\n",
       "      <th>0</th>\n",
       "      <td>CHEMBL6246</td>\n",
       "      <td>{'canonical_smiles': 'O=c1oc2c(O)c(O)cc3c(=O)o...</td>\n",
       "    </tr>\n",
       "    <tr>\n",
       "      <th>2</th>\n",
       "      <td>CHEMBL6291</td>\n",
       "      <td>{'canonical_smiles': 'Cn1cc(C2=C(c3cn(CCCSC(=N...</td>\n",
       "    </tr>\n",
       "    <tr>\n",
       "      <th>3</th>\n",
       "      <td>CHEMBL28</td>\n",
       "      <td>{'canonical_smiles': 'O=c1cc(-c2ccc(O)cc2)oc2c...</td>\n",
       "    </tr>\n",
       "    <tr>\n",
       "      <th>4</th>\n",
       "      <td>CHEMBL7463</td>\n",
       "      <td>{'canonical_smiles': 'CN(C)CCCn1cc(C2=C(c3c[nH...</td>\n",
       "    </tr>\n",
       "    <tr>\n",
       "      <th>5</th>\n",
       "      <td>CHEMBL50</td>\n",
       "      <td>{'canonical_smiles': 'O=c1c(O)c(-c2ccc(O)c(O)c...</td>\n",
       "    </tr>\n",
       "  </tbody>\n",
       "</table>\n",
       "</div>"
      ],
      "text/plain": [
       "  molecule_chembl_id                                molecule_structures\n",
       "0         CHEMBL6246  {'canonical_smiles': 'O=c1oc2c(O)c(O)cc3c(=O)o...\n",
       "2         CHEMBL6291  {'canonical_smiles': 'Cn1cc(C2=C(c3cn(CCCSC(=N...\n",
       "3           CHEMBL28  {'canonical_smiles': 'O=c1cc(-c2ccc(O)cc2)oc2c...\n",
       "4         CHEMBL7463  {'canonical_smiles': 'CN(C)CCCn1cc(C2=C(c3c[nH...\n",
       "5           CHEMBL50  {'canonical_smiles': 'O=c1c(O)c(-c2ccc(O)c(O)c..."
      ]
     },
     "execution_count": 19,
     "metadata": {},
     "output_type": "execute_result"
    }
   ],
   "source": [
    "# Debemos convertir la lista obtenida en un dataframe\n",
    "dataframe_comp = pd.DataFrame.from_records(lista_compuestos)\n",
    "# Eliminamos duplicados\n",
    "dataframe_comp = dataframe_comp.drop_duplicates('molecule_chembl_id', keep = 'first')\n",
    "print(f'El número total de compuestos es: ' + str(len(dataframe_comp)))\n",
    "dataframe_comp.head()"
   ]
  },
  {
   "cell_type": "markdown",
   "id": "b28ba27f-1564-40ff-aaf2-873ddce01521",
   "metadata": {},
   "source": [
    "Los compuestos tienen distintos tipos de representaciones como el SMILES, el InChI y el InChI Key. Nos interesa unicamente quedarnos con el SMILES ya que describe la estructura química."
   ]
  },
  {
   "cell_type": "code",
   "execution_count": 20,
   "id": "314eef2a-838b-459e-af78-3b3799d5db3e",
   "metadata": {},
   "outputs": [],
   "source": [
    "for i, cmpd in dataframe_comp.iterrows():\n",
    "    if dataframe_comp.loc[i]['molecule_structures'] != None:\n",
    "        dataframe_comp.loc[i]['molecule_structures'] = cmpd['molecule_structures']['canonical_smiles']"
   ]
  },
  {
   "cell_type": "markdown",
   "id": "16416518-adc0-461c-8ba8-1cd0d8c8f03d",
   "metadata": {},
   "source": [
    "### Combinar Dataframe\n",
    "\n",
    "Ahora tenemos dos dataframes que vamor a combinar para tener todos los datos en uno solo dataframe y poder guardarlos"
   ]
  },
  {
   "cell_type": "code",
   "execution_count": 27,
   "id": "c2aeec75-3767-4444-a6c7-8875303f87a8",
   "metadata": {},
   "outputs": [
    {
     "name": "stdout",
     "output_type": "stream",
     "text": [
      "El número de compuestos es: 2291\n"
     ]
    },
    {
     "data": {
      "text/html": [
       "<div>\n",
       "<style scoped>\n",
       "    .dataframe tbody tr th:only-of-type {\n",
       "        vertical-align: middle;\n",
       "    }\n",
       "\n",
       "    .dataframe tbody tr th {\n",
       "        vertical-align: top;\n",
       "    }\n",
       "\n",
       "    .dataframe thead th {\n",
       "        text-align: right;\n",
       "    }\n",
       "</style>\n",
       "<table border=\"1\" class=\"dataframe\">\n",
       "  <thead>\n",
       "    <tr style=\"text-align: right;\">\n",
       "      <th></th>\n",
       "      <th>molecule_chembl_id</th>\n",
       "      <th>pchembl_value</th>\n",
       "      <th>molecule_structures</th>\n",
       "    </tr>\n",
       "  </thead>\n",
       "  <tbody>\n",
       "    <tr>\n",
       "      <th>0</th>\n",
       "      <td>CHEMBL564450</td>\n",
       "      <td>9.85</td>\n",
       "      <td>COc1cc(C2=C(c3cn(CCN4CCN(C)CC4)c4ccccc34)C(=O)...</td>\n",
       "    </tr>\n",
       "    <tr>\n",
       "      <th>1</th>\n",
       "      <td>CHEMBL3957649</td>\n",
       "      <td>9.70</td>\n",
       "      <td>Nc1ncc(-c2ccccc2F)nc1C(=O)Nc1cnccc1N1CCNCC1</td>\n",
       "    </tr>\n",
       "    <tr>\n",
       "      <th>2</th>\n",
       "      <td>CHEMBL3942619</td>\n",
       "      <td>9.70</td>\n",
       "      <td>COc1ccc(-c2cnc(N)c(C(=O)Nc3cnccc3N3CCC(N)CC3)n...</td>\n",
       "    </tr>\n",
       "    <tr>\n",
       "      <th>3</th>\n",
       "      <td>CHEMBL3963605</td>\n",
       "      <td>9.70</td>\n",
       "      <td>Nc1ncc(-c2ccccc2)nc1C(=O)Nc1cnccc1N1CCC(N)CC1</td>\n",
       "    </tr>\n",
       "    <tr>\n",
       "      <th>4</th>\n",
       "      <td>CHEMBL2386090</td>\n",
       "      <td>9.70</td>\n",
       "      <td>O=C1NC(=O)C(c2cn3c4c(cccc24)CN(C(=O)c2cnccn2)C...</td>\n",
       "    </tr>\n",
       "  </tbody>\n",
       "</table>\n",
       "</div>"
      ],
      "text/plain": [
       "  molecule_chembl_id  pchembl_value  \\\n",
       "0       CHEMBL564450           9.85   \n",
       "1      CHEMBL3957649           9.70   \n",
       "2      CHEMBL3942619           9.70   \n",
       "3      CHEMBL3963605           9.70   \n",
       "4      CHEMBL2386090           9.70   \n",
       "\n",
       "                                 molecule_structures  \n",
       "0  COc1cc(C2=C(c3cn(CCN4CCN(C)CC4)c4ccccc34)C(=O)...  \n",
       "1        Nc1ncc(-c2ccccc2F)nc1C(=O)Nc1cnccc1N1CCNCC1  \n",
       "2  COc1ccc(-c2cnc(N)c(C(=O)Nc3cnccc3N3CCC(N)CC3)n...  \n",
       "3      Nc1ncc(-c2ccccc2)nc1C(=O)Nc1cnccc1N1CCC(N)CC1  \n",
       "4  O=C1NC(=O)C(c2cn3c4c(cccc24)CN(C(=O)c2cnccn2)C...  "
      ]
     },
     "execution_count": 27,
     "metadata": {},
     "output_type": "execute_result"
    }
   ],
   "source": [
    "dataframe_output = pd.merge(dataframe_bioact[['molecule_chembl_id','pchembl_value']], dataframe_comp, on='molecule_chembl_id')\n",
    "print(f'El número de compuestos es: ' + str(len(dataframe_output)))\n",
    "dataframe_output.head()"
   ]
  },
  {
   "cell_type": "markdown",
   "id": "153402ff-b090-48f6-9a92-aff104c892e4",
   "metadata": {},
   "source": [
    "Se pueden renombrar las columnas"
   ]
  },
  {
   "cell_type": "code",
   "execution_count": 28,
   "id": "cfaff736-a9ee-4547-be51-d77260de6f9f",
   "metadata": {},
   "outputs": [
    {
     "name": "stdout",
     "output_type": "stream",
     "text": [
      "El número total de compuestos es: 2291\n"
     ]
    },
    {
     "data": {
      "text/html": [
       "<div>\n",
       "<style scoped>\n",
       "    .dataframe tbody tr th:only-of-type {\n",
       "        vertical-align: middle;\n",
       "    }\n",
       "\n",
       "    .dataframe tbody tr th {\n",
       "        vertical-align: top;\n",
       "    }\n",
       "\n",
       "    .dataframe thead th {\n",
       "        text-align: right;\n",
       "    }\n",
       "</style>\n",
       "<table border=\"1\" class=\"dataframe\">\n",
       "  <thead>\n",
       "    <tr style=\"text-align: right;\">\n",
       "      <th></th>\n",
       "      <th>molecule_chembl_id</th>\n",
       "      <th>pIC50</th>\n",
       "      <th>smiles</th>\n",
       "    </tr>\n",
       "  </thead>\n",
       "  <tbody>\n",
       "    <tr>\n",
       "      <th>0</th>\n",
       "      <td>CHEMBL564450</td>\n",
       "      <td>9.85</td>\n",
       "      <td>COc1cc(C2=C(c3cn(CCN4CCN(C)CC4)c4ccccc34)C(=O)...</td>\n",
       "    </tr>\n",
       "    <tr>\n",
       "      <th>1</th>\n",
       "      <td>CHEMBL3957649</td>\n",
       "      <td>9.70</td>\n",
       "      <td>Nc1ncc(-c2ccccc2F)nc1C(=O)Nc1cnccc1N1CCNCC1</td>\n",
       "    </tr>\n",
       "    <tr>\n",
       "      <th>2</th>\n",
       "      <td>CHEMBL3942619</td>\n",
       "      <td>9.70</td>\n",
       "      <td>COc1ccc(-c2cnc(N)c(C(=O)Nc3cnccc3N3CCC(N)CC3)n...</td>\n",
       "    </tr>\n",
       "    <tr>\n",
       "      <th>3</th>\n",
       "      <td>CHEMBL3963605</td>\n",
       "      <td>9.70</td>\n",
       "      <td>Nc1ncc(-c2ccccc2)nc1C(=O)Nc1cnccc1N1CCC(N)CC1</td>\n",
       "    </tr>\n",
       "    <tr>\n",
       "      <th>4</th>\n",
       "      <td>CHEMBL2386090</td>\n",
       "      <td>9.70</td>\n",
       "      <td>O=C1NC(=O)C(c2cn3c4c(cccc24)CN(C(=O)c2cnccn2)C...</td>\n",
       "    </tr>\n",
       "  </tbody>\n",
       "</table>\n",
       "</div>"
      ],
      "text/plain": [
       "  molecule_chembl_id  pIC50                                             smiles\n",
       "0       CHEMBL564450   9.85  COc1cc(C2=C(c3cn(CCN4CCN(C)CC4)c4ccccc34)C(=O)...\n",
       "1      CHEMBL3957649   9.70        Nc1ncc(-c2ccccc2F)nc1C(=O)Nc1cnccc1N1CCNCC1\n",
       "2      CHEMBL3942619   9.70  COc1ccc(-c2cnc(N)c(C(=O)Nc3cnccc3N3CCC(N)CC3)n...\n",
       "3      CHEMBL3963605   9.70      Nc1ncc(-c2ccccc2)nc1C(=O)Nc1cnccc1N1CCC(N)CC1\n",
       "4      CHEMBL2386090   9.70  O=C1NC(=O)C(c2cn3c4c(cccc24)CN(C(=O)c2cnccn2)C..."
      ]
     },
     "execution_count": 28,
     "metadata": {},
     "output_type": "execute_result"
    }
   ],
   "source": [
    "dataframe_output = dataframe_output.rename(columns= {'molecule_structures':'smiles', 'pchembl_value':'pIC50'})\n",
    "print(f'El número total de compuestos es: ' + str(len(dataframe_output)))\n",
    "dataframe_output.head()"
   ]
  },
  {
   "cell_type": "markdown",
   "id": "aba828e0-2ab3-4a0d-a638-35f81d237f7e",
   "metadata": {},
   "source": [
    "Para poder emplear la siguiente función de rdkit es necesario que todos los compuestos tenga SMILES, por esto eliminamos los compuestos sin SMILES en el dataframe"
   ]
  },
  {
   "cell_type": "code",
   "execution_count": 29,
   "id": "b680a0e6-1220-4078-a235-40c2fc86173d",
   "metadata": {},
   "outputs": [
    {
     "name": "stdout",
     "output_type": "stream",
     "text": [
      "El número total de compuestos es: 2291\n"
     ]
    },
    {
     "data": {
      "text/html": [
       "<div>\n",
       "<style scoped>\n",
       "    .dataframe tbody tr th:only-of-type {\n",
       "        vertical-align: middle;\n",
       "    }\n",
       "\n",
       "    .dataframe tbody tr th {\n",
       "        vertical-align: top;\n",
       "    }\n",
       "\n",
       "    .dataframe thead th {\n",
       "        text-align: right;\n",
       "    }\n",
       "</style>\n",
       "<table border=\"1\" class=\"dataframe\">\n",
       "  <thead>\n",
       "    <tr style=\"text-align: right;\">\n",
       "      <th></th>\n",
       "      <th>molecule_chembl_id</th>\n",
       "      <th>pIC50</th>\n",
       "      <th>smiles</th>\n",
       "    </tr>\n",
       "  </thead>\n",
       "  <tbody>\n",
       "    <tr>\n",
       "      <th>0</th>\n",
       "      <td>CHEMBL564450</td>\n",
       "      <td>9.85</td>\n",
       "      <td>COc1cc(C2=C(c3cn(CCN4CCN(C)CC4)c4ccccc34)C(=O)...</td>\n",
       "    </tr>\n",
       "    <tr>\n",
       "      <th>1</th>\n",
       "      <td>CHEMBL3957649</td>\n",
       "      <td>9.70</td>\n",
       "      <td>Nc1ncc(-c2ccccc2F)nc1C(=O)Nc1cnccc1N1CCNCC1</td>\n",
       "    </tr>\n",
       "    <tr>\n",
       "      <th>2</th>\n",
       "      <td>CHEMBL3942619</td>\n",
       "      <td>9.70</td>\n",
       "      <td>COc1ccc(-c2cnc(N)c(C(=O)Nc3cnccc3N3CCC(N)CC3)n...</td>\n",
       "    </tr>\n",
       "    <tr>\n",
       "      <th>3</th>\n",
       "      <td>CHEMBL3963605</td>\n",
       "      <td>9.70</td>\n",
       "      <td>Nc1ncc(-c2ccccc2)nc1C(=O)Nc1cnccc1N1CCC(N)CC1</td>\n",
       "    </tr>\n",
       "    <tr>\n",
       "      <th>4</th>\n",
       "      <td>CHEMBL2386090</td>\n",
       "      <td>9.70</td>\n",
       "      <td>O=C1NC(=O)C(c2cn3c4c(cccc24)CN(C(=O)c2cnccn2)C...</td>\n",
       "    </tr>\n",
       "  </tbody>\n",
       "</table>\n",
       "</div>"
      ],
      "text/plain": [
       "  molecule_chembl_id  pIC50                                             smiles\n",
       "0       CHEMBL564450   9.85  COc1cc(C2=C(c3cn(CCN4CCN(C)CC4)c4ccccc34)C(=O)...\n",
       "1      CHEMBL3957649   9.70        Nc1ncc(-c2ccccc2F)nc1C(=O)Nc1cnccc1N1CCNCC1\n",
       "2      CHEMBL3942619   9.70  COc1ccc(-c2cnc(N)c(C(=O)Nc3cnccc3N3CCC(N)CC3)n...\n",
       "3      CHEMBL3963605   9.70      Nc1ncc(-c2ccccc2)nc1C(=O)Nc1cnccc1N1CCC(N)CC1\n",
       "4      CHEMBL2386090   9.70  O=C1NC(=O)C(c2cn3c4c(cccc24)CN(C(=O)c2cnccn2)C..."
      ]
     },
     "execution_count": 29,
     "metadata": {},
     "output_type": "execute_result"
    }
   ],
   "source": [
    "dataframe_output = dataframe_output[~dataframe_output['smiles'].isnull()]\n",
    "print(f'El número total de compuestos es: ' + str(len(dataframe_output)))\n",
    "dataframe_output.head()"
   ]
  },
  {
   "cell_type": "markdown",
   "id": "bf8ab5d4-0762-4983-ad1b-bff5e5d82357",
   "metadata": {},
   "source": [
    "#### Dibujar la molécula\n",
    "\n",
    "Vamos a añadir una nueva columna al dataframe con la función `.AddMoleculeColumnToFrame` la cual convierte las moléculas contenidas en \"smilesCol\" en moléculas RDKit y las agrega al dataframe"
   ]
  },
  {
   "cell_type": "code",
   "execution_count": 30,
   "id": "fdf4de68-a012-464c-93ee-4f316a4d950d",
   "metadata": {},
   "outputs": [
    {
     "data": {
      "text/html": [
       "<div>\n",
       "<style scoped>\n",
       "    .dataframe tbody tr th:only-of-type {\n",
       "        vertical-align: middle;\n",
       "    }\n",
       "\n",
       "    .dataframe tbody tr th {\n",
       "        vertical-align: top;\n",
       "    }\n",
       "\n",
       "    .dataframe thead th {\n",
       "        text-align: right;\n",
       "    }\n",
       "</style>\n",
       "<table border=\"1\" class=\"dataframe\">\n",
       "  <thead>\n",
       "    <tr style=\"text-align: right;\">\n",
       "      <th></th>\n",
       "      <th>molecule_chembl_id</th>\n",
       "      <th>pIC50</th>\n",
       "      <th>smiles</th>\n",
       "      <th>ROMol</th>\n",
       "    </tr>\n",
       "  </thead>\n",
       "  <tbody>\n",
       "    <tr>\n",
       "      <th>0</th>\n",
       "      <td>CHEMBL564450</td>\n",
       "      <td>9.85</td>\n",
       "      <td>COc1cc(C2=C(c3cn(CCN4CCN(C)CC4)c4ccccc34)C(=O)...</td>\n",
       "      <td><img data-content=\"rdkit/molecule\" src=\"data:image/png;base64,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\" alt=\"Mol\"/></td>\n",
       "    </tr>\n",
       "    <tr>\n",
       "      <th>1</th>\n",
       "      <td>CHEMBL3957649</td>\n",
       "      <td>9.70</td>\n",
       "      <td>Nc1ncc(-c2ccccc2F)nc1C(=O)Nc1cnccc1N1CCNCC1</td>\n",
       "      <td><img data-content=\"rdkit/molecule\" src=\"data:image/png;base64,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\" alt=\"Mol\"/></td>\n",
       "    </tr>\n",
       "    <tr>\n",
       "      <th>2</th>\n",
       "      <td>CHEMBL3942619</td>\n",
       "      <td>9.70</td>\n",
       "      <td>COc1ccc(-c2cnc(N)c(C(=O)Nc3cnccc3N3CCC(N)CC3)n...</td>\n",
       "      <td><img data-content=\"rdkit/molecule\" src=\"data:image/png;base64,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\" alt=\"Mol\"/></td>\n",
       "    </tr>\n",
       "    <tr>\n",
       "      <th>3</th>\n",
       "      <td>CHEMBL3963605</td>\n",
       "      <td>9.70</td>\n",
       "      <td>Nc1ncc(-c2ccccc2)nc1C(=O)Nc1cnccc1N1CCC(N)CC1</td>\n",
       "      <td><img data-content=\"rdkit/molecule\" src=\"data:image/png;base64,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\" alt=\"Mol\"/></td>\n",
       "    </tr>\n",
       "    <tr>\n",
       "      <th>4</th>\n",
       "      <td>CHEMBL2386090</td>\n",
       "      <td>9.70</td>\n",
       "      <td>O=C1NC(=O)C(c2cn3c4c(cccc24)CN(C(=O)c2cnccn2)C...</td>\n",
       "      <td><img data-content=\"rdkit/molecule\" src=\"data:image/png;base64,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\" alt=\"Mol\"/></td>\n",
       "    </tr>\n",
       "  </tbody>\n",
       "</table>\n",
       "</div>"
      ],
      "text/plain": [
       "  molecule_chembl_id  pIC50  \\\n",
       "0       CHEMBL564450   9.85   \n",
       "1      CHEMBL3957649   9.70   \n",
       "2      CHEMBL3942619   9.70   \n",
       "3      CHEMBL3963605   9.70   \n",
       "4      CHEMBL2386090   9.70   \n",
       "\n",
       "                                              smiles  \\\n",
       "0  COc1cc(C2=C(c3cn(CCN4CCN(C)CC4)c4ccccc34)C(=O)...   \n",
       "1        Nc1ncc(-c2ccccc2F)nc1C(=O)Nc1cnccc1N1CCNCC1   \n",
       "2  COc1ccc(-c2cnc(N)c(C(=O)Nc3cnccc3N3CCC(N)CC3)n...   \n",
       "3      Nc1ncc(-c2ccccc2)nc1C(=O)Nc1cnccc1N1CCC(N)CC1   \n",
       "4  O=C1NC(=O)C(c2cn3c4c(cccc24)CN(C(=O)c2cnccn2)C...   \n",
       "\n",
       "                                               ROMol  \n",
       "0  <img data-content=\"rdkit/molecule\" src=\"data:i...  \n",
       "1  <img data-content=\"rdkit/molecule\" src=\"data:i...  \n",
       "2  <img data-content=\"rdkit/molecule\" src=\"data:i...  \n",
       "3  <img data-content=\"rdkit/molecule\" src=\"data:i...  \n",
       "4  <img data-content=\"rdkit/molecule\" src=\"data:i...  "
      ]
     },
     "execution_count": 30,
     "metadata": {},
     "output_type": "execute_result"
    }
   ],
   "source": [
    "PandasTools.AddMoleculeColumnToFrame(dataframe_output, smilesCol='smiles')\n",
    "dataframe_output.head()"
   ]
  },
  {
   "cell_type": "markdown",
   "id": "3d27814b-50c3-476e-8eb4-2784d28a7cd1",
   "metadata": {},
   "source": [
    "### Guardar el dataframe obtenido\n",
    "\n",
    "Se va a guardar el dataframe como un archivo csv"
   ]
  },
  {
   "cell_type": "code",
   "execution_count": 31,
   "id": "1887019d-902a-4e22-b721-7239dd9533a6",
   "metadata": {},
   "outputs": [],
   "source": [
    "dataframe_output.to_csv(\"data/GSK3B_compounds.csv\")"
   ]
  },
  {
   "cell_type": "markdown",
   "id": "eb180565-c7d3-4f26-bb57-f4f7360a57e4",
   "metadata": {},
   "source": [
    "## Actividad práctica\n",
    "Teniendo en cuenta lo aprendido anteriormente:\n",
    "1. "
   ]
  },
  {
   "cell_type": "markdown",
   "id": "caf9d893-0c03-402a-89d8-f2cc46c18ede",
   "metadata": {},
   "source": [
    "## Conclusiones\n",
    "En esta práctica se empleo la base de datos ChEMBL para obtener datos de compuestos bioactivos frente a nuestro target de interés. Estos datos extraidos en forma de diccionarios y listas se convirtieron en un DataFrame el cual permite visualizar fácilmente la información obtenida. Además, se obtuvieron datos de los compuestos bioactivos, combinaron DataFrames, se renombraron columnas y se utilizo una herramienta de panda para añadir una nueva columna al DataFrame construido."
   ]
  }
 ],
 "metadata": {
  "kernelspec": {
   "display_name": "Python 3 (ipykernel)",
   "language": "python",
   "name": "python3"
  },
  "language_info": {
   "codemirror_mode": {
    "name": "ipython",
    "version": 3
   },
   "file_extension": ".py",
   "mimetype": "text/x-python",
   "name": "python",
   "nbconvert_exporter": "python",
   "pygments_lexer": "ipython3",
   "version": "3.8.13"
  }
 },
 "nbformat": 4,
 "nbformat_minor": 5
}
