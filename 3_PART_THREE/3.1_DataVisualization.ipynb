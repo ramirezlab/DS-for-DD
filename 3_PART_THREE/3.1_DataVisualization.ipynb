{
 "cells": [
  {
   "cell_type": "markdown",
   "id": "cd0dd5c4",
   "metadata": {},
   "source": [
    "# Introduccion a la Visualizacion de Datos con Matplotlib y Python.\n",
    "\n",
    "\n",
    "Algunos años atrás el reto era como obtener millones de datos, pero hoy en el mundo actual esto ya no es un problema, ya que podemos encontrar millones de estos, no mas hay que entrar al sitio de [ChEMBL](https://www.ebi.ac.uk/chembl/) donde encontraremos millones de moléculas bioactivas con ciertas características para ser convertidas en medicamentos.\n",
    "\n",
    "Si bien el campo de los datos va más allá de su manipulación también como científicos es valioso desarrollar ciertas habilidades relacionadas con la presentación de nuestros hallazgos. Y si quisiéramos ir un poco más allá algo importante a parte de una visualización es una buena historia que contar, temas que no son parte de este Talktorial.\n",
    "\n",
    "En notebooks anteriores aprendimos a manipular algunos conjuntos de datos y para ello vimos desde lo básico de Python hasta lo más avanzado como lo son los [DataFrame](../2_PART_TWO/2.1_Dataframes.ipynb), ahora es tiempo para aprender a visualizar por medio de las gráficas más populares utilizando una de las librerías más usadas de Python Matplotlib.\n",
    "\n",
    "## Una visualizacion para cada momento\n",
    "\n",
    "Una buena visualizacion al menos debe cumplir un objetivo, contar de manera sencilla y agradablemente al ojo humano un hallazgo, luego encontraremos una cantidad variadad de graficas que pueden ayudarnos en este sentido, veamos algunas de ellas al mismo tiempo que vamos aprendiendo a como realizarlas con `Python`.\n",
    "\n",
    "### Antes de empezar: un poco sobre Matplotlib!\n",
    "\n",
    "Segun el sitio web **Matplotlib es una libreria para la creacion de visualizaciones estaticas, animadas e intercativas en Python**. Simple, recuerdan el concepto de Libreria? Si no [aqui](https://www.geeksforgeeks.org/libraries-in-python/) pueden  leer un poco mas al respecto. No hay mucho que agregar al respecto, mas alla de que la libreria ya se encuentra instalada como parte de las dependencias del ambiente virtual del curso.\n",
    "\n",
    "## Graficos de Barras\n",
    "\n",
    "Por lo general estos son los tipos de visualizaciones con las que quizas mas interactuamos y nos encontramos familiarizados, para los especialistas quizas este es uno de los graficos mas comunes, aunque no seamos tan letrados en el universo de las estadisticas, este es un grafico que se entiende a primera vista por tal motivo jamas un grafico de barras debe ser desestimado.\n",
    "\n",
    "Para tener en cuenta, un grafico de barras siempre debe contener un punto de corte o un eje que sirve de base y el cual se asume como punto cero de la visualizacion.\n",
    "\n",
    "Tratemos de visualizar la cantidad de clases de iris mientras vamos conociendo un poco mas sobre `Matplotlib`.\n",
    "\n"
   ]
  },
  {
   "cell_type": "code",
   "execution_count": 21,
   "id": "a3b522a5",
   "metadata": {},
   "outputs": [
    {
     "data": {
      "text/html": [
       "<div>\n",
       "<style scoped>\n",
       "    .dataframe tbody tr th:only-of-type {\n",
       "        vertical-align: middle;\n",
       "    }\n",
       "\n",
       "    .dataframe tbody tr th {\n",
       "        vertical-align: top;\n",
       "    }\n",
       "\n",
       "    .dataframe thead th {\n",
       "        text-align: right;\n",
       "    }\n",
       "</style>\n",
       "<table border=\"1\" class=\"dataframe\">\n",
       "  <thead>\n",
       "    <tr style=\"text-align: right;\">\n",
       "      <th></th>\n",
       "      <th>largo_sepalo</th>\n",
       "      <th>ancho_sepalo</th>\n",
       "      <th>largo_petalo</th>\n",
       "      <th>ancho_petalo</th>\n",
       "      <th>clase</th>\n",
       "    </tr>\n",
       "  </thead>\n",
       "  <tbody>\n",
       "    <tr>\n",
       "      <th>0</th>\n",
       "      <td>5.1</td>\n",
       "      <td>3.5</td>\n",
       "      <td>1.4</td>\n",
       "      <td>0.2</td>\n",
       "      <td>Iris-setosa</td>\n",
       "    </tr>\n",
       "    <tr>\n",
       "      <th>1</th>\n",
       "      <td>4.9</td>\n",
       "      <td>3.0</td>\n",
       "      <td>1.4</td>\n",
       "      <td>0.2</td>\n",
       "      <td>Iris-setosa</td>\n",
       "    </tr>\n",
       "    <tr>\n",
       "      <th>2</th>\n",
       "      <td>4.7</td>\n",
       "      <td>3.2</td>\n",
       "      <td>1.3</td>\n",
       "      <td>0.2</td>\n",
       "      <td>Iris-setosa</td>\n",
       "    </tr>\n",
       "    <tr>\n",
       "      <th>3</th>\n",
       "      <td>4.6</td>\n",
       "      <td>3.1</td>\n",
       "      <td>1.5</td>\n",
       "      <td>0.2</td>\n",
       "      <td>Iris-setosa</td>\n",
       "    </tr>\n",
       "    <tr>\n",
       "      <th>4</th>\n",
       "      <td>5.0</td>\n",
       "      <td>3.6</td>\n",
       "      <td>1.4</td>\n",
       "      <td>0.2</td>\n",
       "      <td>Iris-setosa</td>\n",
       "    </tr>\n",
       "  </tbody>\n",
       "</table>\n",
       "</div>"
      ],
      "text/plain": [
       "   largo_sepalo  ancho_sepalo  largo_petalo  ancho_petalo        clase\n",
       "0           5.1           3.5           1.4           0.2  Iris-setosa\n",
       "1           4.9           3.0           1.4           0.2  Iris-setosa\n",
       "2           4.7           3.2           1.3           0.2  Iris-setosa\n",
       "3           4.6           3.1           1.5           0.2  Iris-setosa\n",
       "4           5.0           3.6           1.4           0.2  Iris-setosa"
      ]
     },
     "execution_count": 21,
     "metadata": {},
     "output_type": "execute_result"
    }
   ],
   "source": [
    "# Empezemos importando el dataset de iris y convirtiendolo en un DataFrame\n",
    "import pandas as pd\n",
    "\n",
    "df_iris = pd.read_csv(\"./data/iris.data\", names=[\"largo_sepalo\", \"ancho_sepalo\", \"largo_petalo\", \"ancho_petalo\", \"clase\"])\n",
    "df_iris.head()"
   ]
  },
  {
   "cell_type": "markdown",
   "id": "f6bb445d",
   "metadata": {},
   "source": [
    "Por suerte la libreria de `Pandas` tiene un componente de visualizacion el cual es powered by `Matplotlib`, aunque esto tiene sus ventajas tambien tiene un costo asociado, se pierde un poco de flexibilidad, aun asi es un buen punto de partida.\n",
    "\n",
    "### El modulo pyplot\n",
    "\n",
    "Por lo general el modulo `pyplot` es el foco de interes de este capitulo, a pesar de que la libreria posee una gran variedad de funcionalidades asociadas a ciertas parametros de configuraciones sobre los estilo y las animaciones de las visualizaciones. \n",
    "\n",
    "Vale la pena notar que para crear una grafica es necesario seguir una serie de metodos pertenecientes al modulo `plot`, y esto tiene que ver un poco en la forma en que la libreria gestiona los recursos y sus visualizaciones y para renderizarla es necesario ejecutar el metodo `show`. \n",
    "\n",
    "Pero vamos al grano, creemos nuestra primera visualizacion en este caso construiremos un simple grafico lineal (line plot) para ello debemos ejecutar el metodo `plot` con dos parametros como se muestra a continuacion donde *x-axis* hace referencia a los datos del eje $x$ y *y-axis* a los datos del eje $y$:\n",
    "\n",
    "```\n",
    "    plt.plot(x-axis, y-axis)\n",
    "```"
   ]
  },
  {
   "cell_type": "code",
   "execution_count": 14,
   "id": "1a862e13",
   "metadata": {},
   "outputs": [
    {
     "data": {
      "image/png": "[encoded data removed]",
      "text/plain": [
       "<Figure size 432x288 with 1 Axes>"
      ]
     },
     "metadata": {
      "needs_background": "light"
     },
     "output_type": "display_data"
    }
   ],
   "source": [
    "# Se importa el modulo pyplot de matplotlib\n",
    "import matplotlib.pyplot as plt\n",
    "\n",
    "# Se crea la grafica por medio del metodo plot\n",
    "plt.plot(df_iris.index, df_iris.ancho_petalo)\n",
    "\n",
    "# Se visualiza la grafica\n",
    "plt.show()"
   ]
  },
  {
   "cell_type": "markdown",
   "id": "fe220a43",
   "metadata": {},
   "source": [
    "Como se puede ver en el grafico, visualizamos como el ancho del petalo ha variado en funcion del tiempo, aunque en el eje horizontal tecnicamente no hagamos referencia al tiempo.\n",
    "\n",
    "Que tal ahora si intentamos graficar un tipico, pero visualmente sencillo Scatter Plot?, para ello debemos ejecutar el metodo `plot` como se muestra a continuacion:\n",
    "\n",
    "```\n",
    "    plt.plot(column, column, '[marker][linestyle][color]', data)\n",
    "```\n",
    "\n",
    "Graficemos el *largo del sepalo* en relacion con su ancho:\n"
   ]
  },
  {
   "cell_type": "code",
   "execution_count": 15,
   "id": "9f5f350c",
   "metadata": {},
   "outputs": [
    {
     "data": {
      "image/png": "[encoded data removed]",
      "text/plain": [
       "<Figure size 432x288 with 1 Axes>"
      ]
     },
     "metadata": {
      "needs_background": "light"
     },
     "output_type": "display_data"
    }
   ],
   "source": [
    "# Se importa el modulo pyplot de matplotlib\n",
    "import matplotlib.pyplot as plt\n",
    "\n",
    "# Se crea la grafica por medio del metodo plot\n",
    "plt.plot('largo_sepalo', 'ancho_sepalo', 'or', data=df_iris)\n",
    "\n",
    "# Se visualiza la grafica de Scatter Plot\n",
    "plt.show()"
   ]
  },
  {
   "cell_type": "markdown",
   "id": "20165cde",
   "metadata": {},
   "source": [
    "Es bonito, no? Inteligentemente `plot` recibio el *DataFrame* y accedio a sus columnas por medios de los *strings* pasados como parametros. Si quieren saber un poco mas de la configuracion de estilos para este tipo de graficos dirijanse a la seccion de la documentacion haciendo [clic aqui](https://matplotlib.org/api/_as_gen/matplotlib.pyplot.plot.html).\n",
    "\n",
    "Tambien es posible crear **histogramas** con el metodo `plot`, veamos como se hace a continuacion:\n",
    "\n",
    "```\n",
    "    plt.hist(data)\n",
    "```\n",
    "\n",
    "Intenemos basicamente hacer la distribucion del `ancho_petalo` para las `Iris-virginica`:\n"
   ]
  },
  {
   "cell_type": "code",
   "execution_count": 22,
   "id": "1580bf8f",
   "metadata": {},
   "outputs": [
    {
     "data": {
      "image/png": "[encoded data removed]",
      "text/plain": [
       "<Figure size 432x288 with 1 Axes>"
      ]
     },
     "metadata": {
      "needs_background": "light"
     },
     "output_type": "display_data"
    }
   ],
   "source": [
    "# Se importa el modulo pyplot de matplotlib\n",
    "import matplotlib.pyplot as plt\n",
    "\n",
    "# Se crea la grafica por medio del metodo plot\n",
    "plt.hist(df_iris.query('clase == \"Iris-setosa\"').ancho_petalo)\n",
    "\n",
    "# Se visualiza la grafica de Scatter Plot\n",
    "plt.show()"
   ]
  },
  {
   "cell_type": "markdown",
   "id": "5c07ee31",
   "metadata": {},
   "source": [
    "Podriamos pasar el capitulo completo, divirtiendonos con el metodo `plot` pero no es el proposito principal de este Notebook. Volvamos y tratemos de graficar las barras por el tipo de clases de iris."
   ]
  },
  {
   "cell_type": "code",
   "execution_count": null,
   "id": "5b1f23f4",
   "metadata": {},
   "outputs": [],
   "source": [
    "# Incluir el grafico de barras"
   ]
  },
  {
   "cell_type": "markdown",
   "id": "b548d143",
   "metadata": {},
   "source": [
    "## Incluir las varientas del grafico de barras, horizontal, vertical, vertical stacked, horizontal stacked bar"
   ]
  },
  {
   "cell_type": "markdown",
   "id": "797b8b41",
   "metadata": {},
   "source": [
    "## Graficas de Linea\n",
    "\n",
    "Incluir ejemplos de graficas de linea aunque el dataset de pronto no se ajuste"
   ]
  },
  {
   "cell_type": "markdown",
   "id": "4ee2ad27",
   "metadata": {},
   "source": [
    "## Graficas de Pie\n",
    "\n",
    "Incluir ejemplos de graficas de pie"
   ]
  },
  {
   "cell_type": "markdown",
   "id": "170af686",
   "metadata": {},
   "source": [
    "## Graficas de Scatterplot\n",
    "\n",
    "Incluir ejemplos de graficas de pie"
   ]
  },
  {
   "cell_type": "code",
   "execution_count": null,
   "id": "8a8eb9c6",
   "metadata": {},
   "outputs": [],
   "source": []
  }
 ],
 "metadata": {
  "kernelspec": {
   "display_name": "Python 3 (ipykernel)",
   "language": "python",
   "name": "python3"
  },
  "language_info": {
   "codemirror_mode": {
    "name": "ipython",
    "version": 3
   },
   "file_extension": ".py",
   "mimetype": "text/x-python",
   "name": "python",
   "nbconvert_exporter": "python",
   "pygments_lexer": "ipython3",
   "version": "3.8.13"
  }
 },
 "nbformat": 4,
 "nbformat_minor": 5
}
